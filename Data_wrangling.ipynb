{
 "cells": [
  {
   "cell_type": "markdown",
   "metadata": {},
   "source": [
    "# Data Wrangling\n",
    "these functions below transform data from different formats into a single common format,  \n",
    "appends the transformed data to either ShellCollection.txt, SQLCollection.txt, XSSCollection.txt or non-maliciousCollection.txt, depending on type.  \n",
    "The last function in the notebook combines the text files into a single .csv file\n",
    "\n",
    "P.S! The source data files aren't included, so no need to run these scripts\n",
    "\n",
    "Source to original data:  \n",
    "https://github.com/foospidy/payloads/blob/master/get.sh  \n",
    "http://www.isi.csic.es/dataset/"
   ]
  },
  {
   "cell_type": "markdown",
   "metadata": {},
   "source": [
    "## Step1\n",
    "import dependencies"
   ]
  },
  {
   "cell_type": "code",
   "execution_count": 115,
   "metadata": {
    "collapsed": false
   },
   "outputs": [],
   "source": [
    "import numpy as np\n",
    "import pandas as pd\n",
    "import csv\n",
    "import re\n",
    "from IPython.display import display"
   ]
  },
  {
   "cell_type": "markdown",
   "metadata": {},
   "source": [
    "# Step2\n",
    "tranform data from source data set formats into the right format"
   ]
  },
  {
   "cell_type": "code",
   "execution_count": 112,
   "metadata": {
    "collapsed": false
   },
   "outputs": [
    {
     "name": "stdout",
     "output_type": "stream",
     "text": [
      "Number of SQL injection data points: 286\n",
      "First 5 SQL injection data points:\n"
     ]
    },
    {
     "data": {
      "text/plain": [
       "432          1;DROP TABLE users\n",
       "433    1'; DROP TABLE users-- 1\n",
       "434               ' OR 1=1 -- 1\n",
       "435                 ' OR '1'='1\n",
       "760                 ’ or ‘1’=’1\n",
       "Name: Payload, dtype: object"
      ]
     },
     "metadata": {},
     "output_type": "display_data"
    },
    {
     "name": "stdout",
     "output_type": "stream",
     "text": [
      "Number of XSS injection data points: 1115\n",
      "First 5 XSS injection data points:\n"
     ]
    },
    {
     "data": {
      "text/plain": [
       "0                     script>alert(123)</script>\n",
       "1      <script>alert(\"hellox worldss\");</script>\n",
       "2             javascript:alert(\"hellox worldss\")\n",
       "3           <img src=\"javascript:alert('XSS');\">\n",
       "4    <img src=javascript:alert(&quot;XSS&quot;)>\n",
       "Name: Payload, dtype: object"
      ]
     },
     "metadata": {},
     "output_type": "display_data"
    }
   ],
   "source": [
    "def from_google_spreadsheet_to_collections(file):\n",
    "    '''Converts data from csv file to right format into collections \n",
    "\n",
    "    the input format of the data points are:\n",
    "    <is malicious>,<Injection type>,<Payload>\n",
    "    '''\n",
    "    \n",
    "    df = pd.read_csv(\"data/{}.csv\".format(file))\n",
    "    \n",
    "    #extract injection data\n",
    "    sql_data  = df['Payload'][df['Injection Type'] == 'SQL']\n",
    "    xss_data  = df['Payload'][df['Injection Type'] == 'XSS']\n",
    "\n",
    "    print('Number of SQL injection data points: ' + str(len(sql_data)))\n",
    "    print('First 5 SQL injection data points:')\n",
    "    display(sql_data[:5])\n",
    "\n",
    "    print('Number of XSS injection data points: ' + str(len(xss_data)))\n",
    "    print('First 5 XSS injection data points:')\n",
    "    display(xss_data[:5])\n",
    "\n",
    "    #sql_data = sql_data.to_frame().to_csv(sep=' ',index=False,header=False,quoting=csv.QUOTE_NONE)\n",
    "    \n",
    "    #display(sql_data)\n",
    "        \n",
    "    #Save extracted SQL injection data to SQLCollection.txt\n",
    "    #np.savetxt('data/temp.txt',sql_data)\n",
    "    \n",
    "    with open(\"data/SQLCollection.txt\", \"a\") as myfile:\n",
    "        for sql_row in sql_data:\n",
    "            myfile.write('{}\\n'.format(sql_row.encode(\"utf-8\")))\n",
    "            \n",
    "    with open(\"data/XSSCollection.txt\",\"a\") as myfile:\n",
    "        for xss_row in xss_data:\n",
    "            myfile.write('{}\\n'.format(xss_row.encode(\"utf-8\")))\n",
    "    pass      \n",
    "\n",
    "#IPS_payload_data is our spreadsheet of payloads gathered so far\n",
    "from_google_spreadsheet_to_collections('IPS_payload_data')\n"
   ]
  },
  {
   "cell_type": "code",
   "execution_count": 124,
   "metadata": {
    "collapsed": false
   },
   "outputs": [
    {
     "name": "stdout",
     "output_type": "stream",
     "text": [
      "raw data in source file format: Directory Traversal - For Unix##/../../../../file##0\n",
      "\n",
      "modified data in right format: /../../../../file\n",
      " 91\n"
     ]
    }
   ],
   "source": [
    "def from_xsuperbug_to_collections(src_file, dest_file):\n",
    "    '''Converts data from xsuperbug's format to the right format into collections \n",
    "    \n",
    "    the input format of the data points are:\n",
    "    <injections type>##<Payload>##<number>\n",
    "    '''\n",
    "    lines = open(\"data/{}\".format(src_file),\"r\").readlines()\n",
    "    print('raw data in source file format: ' + lines[0])\n",
    "    lines = [ re.search(r'(.*)##(.*)##[0-9]',line).group(2) for line in lines]\n",
    "    print('modified data in right format: ' + lines[0])\n",
    "    print(' ' + str(len(lines)))\n",
    "    \n",
    "    with open(\"data/{}\".format(dest_file), \"a\") as myfile:\n",
    "        for line in lines:\n",
    "            myfile.write('{}\\n'.format(line.encode(\"utf-8\")))\n",
    "    \n",
    "#from_xsuperbug_to_collections('timetoparseSQL.txt','SQLCollection.txt')\n",
    "#from_xsuperbug_to_collections('timetoparseXSS.txt','XSSCollection.txt')\n",
    "from_xsuperbug_to_collections('timetoparseCMD.txt','ShellCollection.txt')"
   ]
  }
 ],
 "metadata": {
  "kernelspec": {
   "display_name": "Python 3",
   "language": "python",
   "name": "python3"
  },
  "language_info": {
   "codemirror_mode": {
    "name": "ipython",
    "version": 3
   },
   "file_extension": ".py",
   "mimetype": "text/x-python",
   "name": "python",
   "nbconvert_exporter": "python",
   "pygments_lexer": "ipython3",
   "version": "3.6.0"
  }
 },
 "nbformat": 4,
 "nbformat_minor": 2
}
