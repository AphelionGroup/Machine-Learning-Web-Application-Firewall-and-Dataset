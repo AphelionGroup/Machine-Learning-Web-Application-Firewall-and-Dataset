{
 "cells": [
  {
   "cell_type": "markdown",
   "metadata": {},
   "source": [
    "# Feature extraction"
   ]
  },
  {
   "cell_type": "markdown",
   "metadata": {},
   "source": [
    "# Step1\n",
    "import dependencies"
   ]
  },
  {
   "cell_type": "code",
   "execution_count": 1,
   "metadata": {},
   "outputs": [
    {
     "name": "stderr",
     "output_type": "stream",
     "text": [
      "/chalmers/users/filipgr/anaconda3/lib/python3.5/site-packages/sklearn/cross_validation.py:44: DeprecationWarning: This module was deprecated in version 0.18 in favor of the model_selection module into which all the refactored classes and functions are moved. Also note that the interface of the new CV iterators are different from that of this module. This module will be removed in 0.20.\n",
      "  \"This module will be removed in 0.20.\", DeprecationWarning)\n"
     ]
    }
   ],
   "source": [
    "import pandas as pd\n",
    "import numpy as np\n",
    "import pickle\n",
    "import matplotlib.pyplot as plt\n",
    "import seaborn\n",
    "import string\n",
    "from IPython.display import display\n",
    "from sklearn.feature_extraction.text import CountVectorizer\n",
    "from sklearn.feature_extraction.text import TfidfVectorizer\n",
    "from sklearn.model_selection import train_test_split\n",
    "from sklearn.model_selection import RandomizedSearchCV\n",
    "\n",
    "from sklearn.ensemble import RandomForestClassifier\n",
    "from sklearn.linear_model import LogisticRegression\n",
    "from sklearn.discriminant_analysis import QuadraticDiscriminantAnalysis\n",
    "from sklearn.svm import SVC\n",
    "from sklearn.gaussian_process import GaussianProcessClassifier\n",
    "from sklearn.neural_network import MLPClassifier\n",
    "from sklearn.naive_bayes import MultinomialNB\n",
    "\n",
    "import sklearn.gaussian_process.kernels as kernels\n",
    "\n",
    "from sklearn.cross_validation import ShuffleSplit\n",
    "from sklearn.cross_validation import KFold\n",
    "from sklearn.pipeline import Pipeline\n",
    "from sklearn.metrics import confusion_matrix\n",
    "from sklearn.metrics import roc_curve\n",
    "from sklearn.metrics import roc_auc_score\n",
    "\n",
    "from scipy.stats import expon"
   ]
  },
  {
   "cell_type": "markdown",
   "metadata": {},
   "source": [
    "# Step2\n",
    "load the payloads into memory"
   ]
  },
  {
   "cell_type": "code",
   "execution_count": 2,
   "metadata": {},
   "outputs": [
    {
     "data": {
      "text/html": [
       "<div>\n",
       "<table border=\"1\" class=\"dataframe\">\n",
       "  <thead>\n",
       "    <tr style=\"text-align: right;\">\n",
       "      <th></th>\n",
       "      <th>payload</th>\n",
       "      <th>is_malicious</th>\n",
       "      <th>injection_type</th>\n",
       "    </tr>\n",
       "    <tr>\n",
       "      <th>index</th>\n",
       "      <th></th>\n",
       "      <th></th>\n",
       "      <th></th>\n",
       "    </tr>\n",
       "  </thead>\n",
       "  <tbody>\n",
       "    <tr>\n",
       "      <th>0</th>\n",
       "      <td>37662577P</td>\n",
       "      <td>0.0</td>\n",
       "      <td>LEGAL</td>\n",
       "    </tr>\n",
       "    <tr>\n",
       "      <th>1</th>\n",
       "      <td>shirting</td>\n",
       "      <td>0.0</td>\n",
       "      <td>LEGAL</td>\n",
       "    </tr>\n",
       "    <tr>\n",
       "      <th>2</th>\n",
       "      <td>&amp;kw=%27;alert%28%27XSS%27%29;//</td>\n",
       "      <td>1.0</td>\n",
       "      <td>XSS</td>\n",
       "    </tr>\n",
       "    <tr>\n",
       "      <th>3</th>\n",
       "      <td>obeying</td>\n",
       "      <td>0.0</td>\n",
       "      <td>LEGAL</td>\n",
       "    </tr>\n",
       "    <tr>\n",
       "      <th>4</th>\n",
       "      <td>dictating</td>\n",
       "      <td>0.0</td>\n",
       "      <td>LEGAL</td>\n",
       "    </tr>\n",
       "    <tr>\n",
       "      <th>5</th>\n",
       "      <td>lafleur</td>\n",
       "      <td>0.0</td>\n",
       "      <td>LEGAL</td>\n",
       "    </tr>\n",
       "    <tr>\n",
       "      <th>6</th>\n",
       "      <td>capturers</td>\n",
       "      <td>0.0</td>\n",
       "      <td>LEGAL</td>\n",
       "    </tr>\n",
       "    <tr>\n",
       "      <th>7</th>\n",
       "      <td>8nca58z48</td>\n",
       "      <td>0.0</td>\n",
       "      <td>LEGAL</td>\n",
       "    </tr>\n",
       "    <tr>\n",
       "      <th>8</th>\n",
       "      <td>autocratic</td>\n",
       "      <td>0.0</td>\n",
       "      <td>LEGAL</td>\n",
       "    </tr>\n",
       "    <tr>\n",
       "      <th>9</th>\n",
       "      <td>grocery+warehouses</td>\n",
       "      <td>0.0</td>\n",
       "      <td>LEGAL</td>\n",
       "    </tr>\n",
       "    <tr>\n",
       "      <th>10</th>\n",
       "      <td>Danciel</td>\n",
       "      <td>0.0</td>\n",
       "      <td>LEGAL</td>\n",
       "    </tr>\n",
       "    <tr>\n",
       "      <th>11</th>\n",
       "      <td>Koressa</td>\n",
       "      <td>0.0</td>\n",
       "      <td>LEGAL</td>\n",
       "    </tr>\n",
       "    <tr>\n",
       "      <th>12</th>\n",
       "      <td>bowie0%40showeb-handling.bi</td>\n",
       "      <td>0.0</td>\n",
       "      <td>LEGAL</td>\n",
       "    </tr>\n",
       "    <tr>\n",
       "      <th>13</th>\n",
       "      <td>Auque+Cote</td>\n",
       "      <td>0.0</td>\n",
       "      <td>LEGAL</td>\n",
       "    </tr>\n",
       "    <tr>\n",
       "      <th>14</th>\n",
       "      <td>broadest</td>\n",
       "      <td>0.0</td>\n",
       "      <td>LEGAL</td>\n",
       "    </tr>\n",
       "    <tr>\n",
       "      <th>15</th>\n",
       "      <td>Xaubet+Sorolla</td>\n",
       "      <td>0.0</td>\n",
       "      <td>LEGAL</td>\n",
       "    </tr>\n",
       "    <tr>\n",
       "      <th>16</th>\n",
       "      <td>vocational</td>\n",
       "      <td>0.0</td>\n",
       "      <td>LEGAL</td>\n",
       "    </tr>\n",
       "    <tr>\n",
       "      <th>17</th>\n",
       "      <td>Yemen</td>\n",
       "      <td>0.0</td>\n",
       "      <td>LEGAL</td>\n",
       "    </tr>\n",
       "    <tr>\n",
       "      <th>18</th>\n",
       "      <td>22584</td>\n",
       "      <td>0.0</td>\n",
       "      <td>LEGAL</td>\n",
       "    </tr>\n",
       "    <tr>\n",
       "      <th>19</th>\n",
       "      <td>&lt;BR SIZE=\"&amp;{alert(1)}\"&gt;</td>\n",
       "      <td>1.0</td>\n",
       "      <td>XSS</td>\n",
       "    </tr>\n",
       "    <tr>\n",
       "      <th>20</th>\n",
       "      <td>impaction</td>\n",
       "      <td>0.0</td>\n",
       "      <td>LEGAL</td>\n",
       "    </tr>\n",
       "    <tr>\n",
       "      <th>21</th>\n",
       "      <td>&lt;button onclick=\"window.open('http://xss.cx/::...</td>\n",
       "      <td>1.0</td>\n",
       "      <td>XSS</td>\n",
       "    </tr>\n",
       "    <tr>\n",
       "      <th>22</th>\n",
       "      <td>&lt;IFRAME SRC=\"javascript:alert(\\'XSS\\');\"&gt;&lt;/IFR...</td>\n",
       "      <td>1.0</td>\n",
       "      <td>XSS</td>\n",
       "    </tr>\n",
       "    <tr>\n",
       "      <th>23</th>\n",
       "      <td>03830</td>\n",
       "      <td>0.0</td>\n",
       "      <td>LEGAL</td>\n",
       "    </tr>\n",
       "    <tr>\n",
       "      <th>24</th>\n",
       "      <td>pineapple</td>\n",
       "      <td>0.0</td>\n",
       "      <td>LEGAL</td>\n",
       "    </tr>\n",
       "    <tr>\n",
       "      <th>25</th>\n",
       "      <td>La+Lora+11%2C+</td>\n",
       "      <td>0.0</td>\n",
       "      <td>LEGAL</td>\n",
       "    </tr>\n",
       "    <tr>\n",
       "      <th>26</th>\n",
       "      <td>Pittston</td>\n",
       "      <td>0.0</td>\n",
       "      <td>LEGAL</td>\n",
       "    </tr>\n",
       "    <tr>\n",
       "      <th>27</th>\n",
       "      <td>Aeriela</td>\n",
       "      <td>0.0</td>\n",
       "      <td>LEGAL</td>\n",
       "    </tr>\n",
       "    <tr>\n",
       "      <th>28</th>\n",
       "      <td>Brewster</td>\n",
       "      <td>0.0</td>\n",
       "      <td>LEGAL</td>\n",
       "    </tr>\n",
       "    <tr>\n",
       "      <th>29</th>\n",
       "      <td>doting</td>\n",
       "      <td>0.0</td>\n",
       "      <td>LEGAL</td>\n",
       "    </tr>\n",
       "  </tbody>\n",
       "</table>\n",
       "</div>"
      ],
      "text/plain": [
       "                                                 payload  is_malicious  \\\n",
       "index                                                                    \n",
       "0                                              37662577P           0.0   \n",
       "1                                               shirting           0.0   \n",
       "2                        &kw=%27;alert%28%27XSS%27%29;//           1.0   \n",
       "3                                                obeying           0.0   \n",
       "4                                              dictating           0.0   \n",
       "5                                                lafleur           0.0   \n",
       "6                                              capturers           0.0   \n",
       "7                                              8nca58z48           0.0   \n",
       "8                                             autocratic           0.0   \n",
       "9                                     grocery+warehouses           0.0   \n",
       "10                                               Danciel           0.0   \n",
       "11                                               Koressa           0.0   \n",
       "12                           bowie0%40showeb-handling.bi           0.0   \n",
       "13                                            Auque+Cote           0.0   \n",
       "14                                              broadest           0.0   \n",
       "15                                        Xaubet+Sorolla           0.0   \n",
       "16                                            vocational           0.0   \n",
       "17                                                 Yemen           0.0   \n",
       "18                                                 22584           0.0   \n",
       "19                               <BR SIZE=\"&{alert(1)}\">           1.0   \n",
       "20                                             impaction           0.0   \n",
       "21     <button onclick=\"window.open('http://xss.cx/::...           1.0   \n",
       "22     <IFRAME SRC=\"javascript:alert(\\'XSS\\');\"></IFR...           1.0   \n",
       "23                                                 03830           0.0   \n",
       "24                                             pineapple           0.0   \n",
       "25                                        La+Lora+11%2C+           0.0   \n",
       "26                                              Pittston           0.0   \n",
       "27                                               Aeriela           0.0   \n",
       "28                                              Brewster           0.0   \n",
       "29                                                doting           0.0   \n",
       "\n",
       "      injection_type  \n",
       "index                 \n",
       "0              LEGAL  \n",
       "1              LEGAL  \n",
       "2                XSS  \n",
       "3              LEGAL  \n",
       "4              LEGAL  \n",
       "5              LEGAL  \n",
       "6              LEGAL  \n",
       "7              LEGAL  \n",
       "8              LEGAL  \n",
       "9              LEGAL  \n",
       "10             LEGAL  \n",
       "11             LEGAL  \n",
       "12             LEGAL  \n",
       "13             LEGAL  \n",
       "14             LEGAL  \n",
       "15             LEGAL  \n",
       "16             LEGAL  \n",
       "17             LEGAL  \n",
       "18             LEGAL  \n",
       "19               XSS  \n",
       "20             LEGAL  \n",
       "21               XSS  \n",
       "22               XSS  \n",
       "23             LEGAL  \n",
       "24             LEGAL  \n",
       "25             LEGAL  \n",
       "26             LEGAL  \n",
       "27             LEGAL  \n",
       "28             LEGAL  \n",
       "29             LEGAL  "
      ]
     },
     "metadata": {},
     "output_type": "display_data"
    }
   ],
   "source": [
    "payloads = pd.read_csv(\"data/payloads.csv\",index_col='index')\n",
    "display(payloads.head(30))"
   ]
  },
  {
   "cell_type": "markdown",
   "metadata": {},
   "source": [
    "# Step3\n",
    "feature engineering"
   ]
  },
  {
   "cell_type": "code",
   "execution_count": 3,
   "metadata": {
    "collapsed": true
   },
   "outputs": [],
   "source": [
    "def plot_feature_distribution(features):\n",
    "    print('Properties of feature: ' + features.name)\n",
    "    print(features.describe())\n",
    "    f, ax = plt.subplots(1, figsize=(10, 6))\n",
    "    ax.hist(features, bins=features.max()-features.min()+1, normed=1)\n",
    "    ax.set_xlabel('value')\n",
    "    ax.set_ylabel('fraction')\n",
    "    \n",
    "    plt.show()"
   ]
  },
  {
   "cell_type": "code",
   "execution_count": 4,
   "metadata": {},
   "outputs": [
    {
     "data": {
      "text/html": [
       "<div>\n",
       "<table border=\"1\" class=\"dataframe\">\n",
       "  <thead>\n",
       "    <tr style=\"text-align: right;\">\n",
       "      <th></th>\n",
       "      <th>payload</th>\n",
       "      <th>is_malicious</th>\n",
       "      <th>injection_type</th>\n",
       "      <th>example</th>\n",
       "    </tr>\n",
       "    <tr>\n",
       "      <th>index</th>\n",
       "      <th></th>\n",
       "      <th></th>\n",
       "      <th></th>\n",
       "      <th></th>\n",
       "    </tr>\n",
       "  </thead>\n",
       "  <tbody>\n",
       "    <tr>\n",
       "      <th>0</th>\n",
       "      <td>37662577P</td>\n",
       "      <td>0.0</td>\n",
       "      <td>LEGAL</td>\n",
       "      <td>1</td>\n",
       "    </tr>\n",
       "    <tr>\n",
       "      <th>1</th>\n",
       "      <td>shirting</td>\n",
       "      <td>0.0</td>\n",
       "      <td>LEGAL</td>\n",
       "      <td>1</td>\n",
       "    </tr>\n",
       "    <tr>\n",
       "      <th>2</th>\n",
       "      <td>&amp;kw=%27;alert%28%27XSS%27%29;//</td>\n",
       "      <td>1.0</td>\n",
       "      <td>XSS</td>\n",
       "      <td>1</td>\n",
       "    </tr>\n",
       "    <tr>\n",
       "      <th>3</th>\n",
       "      <td>obeying</td>\n",
       "      <td>0.0</td>\n",
       "      <td>LEGAL</td>\n",
       "      <td>1</td>\n",
       "    </tr>\n",
       "    <tr>\n",
       "      <th>4</th>\n",
       "      <td>dictating</td>\n",
       "      <td>0.0</td>\n",
       "      <td>LEGAL</td>\n",
       "      <td>1</td>\n",
       "    </tr>\n",
       "  </tbody>\n",
       "</table>\n",
       "</div>"
      ],
      "text/plain": [
       "                               payload  is_malicious injection_type  example\n",
       "index                                                                       \n",
       "0                            37662577P           0.0          LEGAL        1\n",
       "1                             shirting           0.0          LEGAL        1\n",
       "2      &kw=%27;alert%28%27XSS%27%29;//           1.0            XSS        1\n",
       "3                              obeying           0.0          LEGAL        1\n",
       "4                            dictating           0.0          LEGAL        1"
      ]
     },
     "metadata": {},
     "output_type": "display_data"
    },
    {
     "name": "stdout",
     "output_type": "stream",
     "text": [
      "Properties of feature: example\n",
      "count    110357.0\n",
      "mean          1.0\n",
      "std           0.0\n",
      "min           1.0\n",
      "25%           1.0\n",
      "50%           1.0\n",
      "75%           1.0\n",
      "max           1.0\n",
      "Name: example, dtype: float64\n"
     ]
    },
    {
     "data": {
      "image/png": "[encoded data removed]",
      "text/plain": [
       "<matplotlib.figure.Figure at 0x7f04bdd8cc88>"
      ]
     },
     "metadata": {},
     "output_type": "display_data"
    }
   ],
   "source": [
    "def create_feature_example(payloads):\n",
    "    '''small description\n",
    "    \n",
    "    longer description\n",
    "    '''\n",
    "    \n",
    "    payloads['example'] = [1 for row in payloads['payload']]\n",
    "    return payloads\n",
    "\n",
    "payloads = create_feature_example(payloads)\n",
    "display(payloads.head())\n",
    "\n",
    "plot_feature_distribution(payloads['example'])"
   ]
  },
  {
   "cell_type": "code",
   "execution_count": 5,
   "metadata": {},
   "outputs": [
    {
     "data": {
      "text/html": [
       "<div>\n",
       "<table border=\"1\" class=\"dataframe\">\n",
       "  <thead>\n",
       "    <tr style=\"text-align: right;\">\n",
       "      <th></th>\n",
       "      <th>payload</th>\n",
       "      <th>is_malicious</th>\n",
       "      <th>injection_type</th>\n",
       "      <th>example</th>\n",
       "      <th>length</th>\n",
       "    </tr>\n",
       "    <tr>\n",
       "      <th>index</th>\n",
       "      <th></th>\n",
       "      <th></th>\n",
       "      <th></th>\n",
       "      <th></th>\n",
       "      <th></th>\n",
       "    </tr>\n",
       "  </thead>\n",
       "  <tbody>\n",
       "    <tr>\n",
       "      <th>0</th>\n",
       "      <td>37662577P</td>\n",
       "      <td>0.0</td>\n",
       "      <td>LEGAL</td>\n",
       "      <td>1</td>\n",
       "      <td>9</td>\n",
       "    </tr>\n",
       "    <tr>\n",
       "      <th>1</th>\n",
       "      <td>shirting</td>\n",
       "      <td>0.0</td>\n",
       "      <td>LEGAL</td>\n",
       "      <td>1</td>\n",
       "      <td>8</td>\n",
       "    </tr>\n",
       "    <tr>\n",
       "      <th>2</th>\n",
       "      <td>&amp;kw=%27;alert%28%27XSS%27%29;//</td>\n",
       "      <td>1.0</td>\n",
       "      <td>XSS</td>\n",
       "      <td>1</td>\n",
       "      <td>31</td>\n",
       "    </tr>\n",
       "    <tr>\n",
       "      <th>3</th>\n",
       "      <td>obeying</td>\n",
       "      <td>0.0</td>\n",
       "      <td>LEGAL</td>\n",
       "      <td>1</td>\n",
       "      <td>7</td>\n",
       "    </tr>\n",
       "    <tr>\n",
       "      <th>4</th>\n",
       "      <td>dictating</td>\n",
       "      <td>0.0</td>\n",
       "      <td>LEGAL</td>\n",
       "      <td>1</td>\n",
       "      <td>9</td>\n",
       "    </tr>\n",
       "  </tbody>\n",
       "</table>\n",
       "</div>"
      ],
      "text/plain": [
       "                               payload  is_malicious injection_type  example  \\\n",
       "index                                                                          \n",
       "0                            37662577P           0.0          LEGAL        1   \n",
       "1                             shirting           0.0          LEGAL        1   \n",
       "2      &kw=%27;alert%28%27XSS%27%29;//           1.0            XSS        1   \n",
       "3                              obeying           0.0          LEGAL        1   \n",
       "4                            dictating           0.0          LEGAL        1   \n",
       "\n",
       "       length  \n",
       "index          \n",
       "0           9  \n",
       "1           8  \n",
       "2          31  \n",
       "3           7  \n",
       "4           9  "
      ]
     },
     "metadata": {},
     "output_type": "display_data"
    },
    {
     "name": "stdout",
     "output_type": "stream",
     "text": [
      "Properties of feature: length\n",
      "count    110357.000000\n",
      "mean         16.559638\n",
      "std          32.108637\n",
      "min           1.000000\n",
      "25%           6.000000\n",
      "50%           9.000000\n",
      "75%          14.000000\n",
      "max         974.000000\n",
      "Name: length, dtype: float64\n"
     ]
    },
    {
     "data": {
      "image/png": "[encoded data removed]",
      "text/plain": [
       "<matplotlib.figure.Figure at 0x7f0484d4d358>"
      ]
     },
     "metadata": {},
     "output_type": "display_data"
    }
   ],
   "source": [
    "def create_feature_length(payloads):\n",
    "    '''\n",
    "        Feature describing the lengh of the input\n",
    "    '''\n",
    "    \n",
    "    \n",
    "    payloads['length'] = [len(str(row)) for row in payloads['payload']]\n",
    "    return payloads\n",
    "\n",
    "\n",
    "payloads = create_feature_length(payloads)\n",
    "display(payloads.head())\n",
    "\n",
    "\n",
    "plot_feature_distribution(payloads['length'])\n"
   ]
  },
  {
   "cell_type": "code",
   "execution_count": 6,
   "metadata": {},
   "outputs": [
    {
     "data": {
      "text/html": [
       "<div>\n",
       "<table border=\"1\" class=\"dataframe\">\n",
       "  <thead>\n",
       "    <tr style=\"text-align: right;\">\n",
       "      <th></th>\n",
       "      <th>payload</th>\n",
       "      <th>is_malicious</th>\n",
       "      <th>injection_type</th>\n",
       "      <th>example</th>\n",
       "      <th>length</th>\n",
       "      <th>non-printable</th>\n",
       "    </tr>\n",
       "    <tr>\n",
       "      <th>index</th>\n",
       "      <th></th>\n",
       "      <th></th>\n",
       "      <th></th>\n",
       "      <th></th>\n",
       "      <th></th>\n",
       "      <th></th>\n",
       "    </tr>\n",
       "  </thead>\n",
       "  <tbody>\n",
       "    <tr>\n",
       "      <th>0</th>\n",
       "      <td>37662577P</td>\n",
       "      <td>0.0</td>\n",
       "      <td>LEGAL</td>\n",
       "      <td>1</td>\n",
       "      <td>9</td>\n",
       "      <td>0</td>\n",
       "    </tr>\n",
       "    <tr>\n",
       "      <th>1</th>\n",
       "      <td>shirting</td>\n",
       "      <td>0.0</td>\n",
       "      <td>LEGAL</td>\n",
       "      <td>1</td>\n",
       "      <td>8</td>\n",
       "      <td>0</td>\n",
       "    </tr>\n",
       "    <tr>\n",
       "      <th>2</th>\n",
       "      <td>&amp;kw=%27;alert%28%27XSS%27%29;//</td>\n",
       "      <td>1.0</td>\n",
       "      <td>XSS</td>\n",
       "      <td>1</td>\n",
       "      <td>31</td>\n",
       "      <td>0</td>\n",
       "    </tr>\n",
       "    <tr>\n",
       "      <th>3</th>\n",
       "      <td>obeying</td>\n",
       "      <td>0.0</td>\n",
       "      <td>LEGAL</td>\n",
       "      <td>1</td>\n",
       "      <td>7</td>\n",
       "      <td>0</td>\n",
       "    </tr>\n",
       "    <tr>\n",
       "      <th>4</th>\n",
       "      <td>dictating</td>\n",
       "      <td>0.0</td>\n",
       "      <td>LEGAL</td>\n",
       "      <td>1</td>\n",
       "      <td>9</td>\n",
       "      <td>0</td>\n",
       "    </tr>\n",
       "  </tbody>\n",
       "</table>\n",
       "</div>"
      ],
      "text/plain": [
       "                               payload  is_malicious injection_type  example  \\\n",
       "index                                                                          \n",
       "0                            37662577P           0.0          LEGAL        1   \n",
       "1                             shirting           0.0          LEGAL        1   \n",
       "2      &kw=%27;alert%28%27XSS%27%29;//           1.0            XSS        1   \n",
       "3                              obeying           0.0          LEGAL        1   \n",
       "4                            dictating           0.0          LEGAL        1   \n",
       "\n",
       "       length  non-printable  \n",
       "index                         \n",
       "0           9              0  \n",
       "1           8              0  \n",
       "2          31              0  \n",
       "3           7              0  \n",
       "4           9              0  "
      ]
     },
     "metadata": {},
     "output_type": "display_data"
    },
    {
     "name": "stdout",
     "output_type": "stream",
     "text": [
      "Properties of feature: non-printable\n",
      "count    110357.000000\n",
      "mean          0.007412\n",
      "std           0.216736\n",
      "min           0.000000\n",
      "25%           0.000000\n",
      "50%           0.000000\n",
      "75%           0.000000\n",
      "max          30.000000\n",
      "Name: non-printable, dtype: float64\n"
     ]
    },
    {
     "data": {
      "image/png": "[encoded data removed]",
      "text/plain": [
       "<matplotlib.figure.Figure at 0x7f0484bf45f8>"
      ]
     },
     "metadata": {},
     "output_type": "display_data"
    }
   ],
   "source": [
    "def create_feature_non_printable_characters(payloads):  \n",
    "    '''\n",
    "    Feature\n",
    "    Number of non printable characthers within payload\n",
    "    '''\n",
    "    \n",
    "    payloads['non-printable'] = [ len([1 for letter in str(row) if letter not in string.printable]) for row in payloads['payload']]\n",
    "    return payloads\n",
    "    \n",
    "\n",
    "create_feature_non_printable_characters(payloads)\n",
    "display(payloads.head())\n",
    "    \n",
    "plot_feature_distribution(payloads['non-printable'])\n"
   ]
  },
  {
   "cell_type": "code",
   "execution_count": 7,
   "metadata": {},
   "outputs": [
    {
     "data": {
      "text/html": [
       "<div>\n",
       "<table border=\"1\" class=\"dataframe\">\n",
       "  <thead>\n",
       "    <tr style=\"text-align: right;\">\n",
       "      <th></th>\n",
       "      <th>payload</th>\n",
       "      <th>is_malicious</th>\n",
       "      <th>injection_type</th>\n",
       "      <th>example</th>\n",
       "      <th>length</th>\n",
       "      <th>non-printable</th>\n",
       "      <th>punctuation</th>\n",
       "    </tr>\n",
       "    <tr>\n",
       "      <th>index</th>\n",
       "      <th></th>\n",
       "      <th></th>\n",
       "      <th></th>\n",
       "      <th></th>\n",
       "      <th></th>\n",
       "      <th></th>\n",
       "      <th></th>\n",
       "    </tr>\n",
       "  </thead>\n",
       "  <tbody>\n",
       "    <tr>\n",
       "      <th>0</th>\n",
       "      <td>37662577P</td>\n",
       "      <td>0.0</td>\n",
       "      <td>LEGAL</td>\n",
       "      <td>1</td>\n",
       "      <td>9</td>\n",
       "      <td>0</td>\n",
       "      <td>0</td>\n",
       "    </tr>\n",
       "    <tr>\n",
       "      <th>1</th>\n",
       "      <td>shirting</td>\n",
       "      <td>0.0</td>\n",
       "      <td>LEGAL</td>\n",
       "      <td>1</td>\n",
       "      <td>8</td>\n",
       "      <td>0</td>\n",
       "      <td>0</td>\n",
       "    </tr>\n",
       "    <tr>\n",
       "      <th>2</th>\n",
       "      <td>&amp;kw=%27;alert%28%27XSS%27%29;//</td>\n",
       "      <td>1.0</td>\n",
       "      <td>XSS</td>\n",
       "      <td>1</td>\n",
       "      <td>31</td>\n",
       "      <td>0</td>\n",
       "      <td>11</td>\n",
       "    </tr>\n",
       "    <tr>\n",
       "      <th>3</th>\n",
       "      <td>obeying</td>\n",
       "      <td>0.0</td>\n",
       "      <td>LEGAL</td>\n",
       "      <td>1</td>\n",
       "      <td>7</td>\n",
       "      <td>0</td>\n",
       "      <td>0</td>\n",
       "    </tr>\n",
       "    <tr>\n",
       "      <th>4</th>\n",
       "      <td>dictating</td>\n",
       "      <td>0.0</td>\n",
       "      <td>LEGAL</td>\n",
       "      <td>1</td>\n",
       "      <td>9</td>\n",
       "      <td>0</td>\n",
       "      <td>0</td>\n",
       "    </tr>\n",
       "  </tbody>\n",
       "</table>\n",
       "</div>"
      ],
      "text/plain": [
       "                               payload  is_malicious injection_type  example  \\\n",
       "index                                                                          \n",
       "0                            37662577P           0.0          LEGAL        1   \n",
       "1                             shirting           0.0          LEGAL        1   \n",
       "2      &kw=%27;alert%28%27XSS%27%29;//           1.0            XSS        1   \n",
       "3                              obeying           0.0          LEGAL        1   \n",
       "4                            dictating           0.0          LEGAL        1   \n",
       "\n",
       "       length  non-printable  punctuation  \n",
       "index                                      \n",
       "0           9              0            0  \n",
       "1           8              0            0  \n",
       "2          31              0           11  \n",
       "3           7              0            0  \n",
       "4           9              0            0  "
      ]
     },
     "metadata": {},
     "output_type": "display_data"
    },
    {
     "name": "stdout",
     "output_type": "stream",
     "text": [
      "Properties of feature: punctuation\n",
      "count    110357.000000\n",
      "mean          2.363729\n",
      "std           9.771260\n",
      "min           0.000000\n",
      "25%           0.000000\n",
      "50%           0.000000\n",
      "75%           1.000000\n",
      "max         538.000000\n",
      "Name: punctuation, dtype: float64\n"
     ]
    },
    {
     "data": {
      "image/png": "[encoded data removed]",
      "text/plain": [
       "<matplotlib.figure.Figure at 0x7f0484b93470>"
      ]
     },
     "metadata": {},
     "output_type": "display_data"
    }
   ],
   "source": [
    "def create_feature_punctuation_characters(payloads):\n",
    "    '''\n",
    "    Feature\n",
    "    Number of punctuation characthers within payload\n",
    "    '''\n",
    "    \n",
    "    payloads['punctuation'] = [ len([1 for letter in str(row) if letter in string.punctuation]) for row in payloads['payload']]\n",
    "    return payloads\n",
    "    \n",
    "\n",
    "create_feature_punctuation_characters(payloads)\n",
    "display(payloads.head())\n",
    "    \n",
    "plot_feature_distribution(payloads['punctuation'])"
   ]
  },
  {
   "cell_type": "code",
   "execution_count": 8,
   "metadata": {},
   "outputs": [
    {
     "data": {
      "text/html": [
       "<div>\n",
       "<table border=\"1\" class=\"dataframe\">\n",
       "  <thead>\n",
       "    <tr style=\"text-align: right;\">\n",
       "      <th></th>\n",
       "      <th>payload</th>\n",
       "      <th>is_malicious</th>\n",
       "      <th>injection_type</th>\n",
       "      <th>example</th>\n",
       "      <th>length</th>\n",
       "      <th>non-printable</th>\n",
       "      <th>punctuation</th>\n",
       "      <th>min-byte</th>\n",
       "    </tr>\n",
       "    <tr>\n",
       "      <th>index</th>\n",
       "      <th></th>\n",
       "      <th></th>\n",
       "      <th></th>\n",
       "      <th></th>\n",
       "      <th></th>\n",
       "      <th></th>\n",
       "      <th></th>\n",
       "      <th></th>\n",
       "    </tr>\n",
       "  </thead>\n",
       "  <tbody>\n",
       "    <tr>\n",
       "      <th>0</th>\n",
       "      <td>37662577P</td>\n",
       "      <td>0.0</td>\n",
       "      <td>LEGAL</td>\n",
       "      <td>1</td>\n",
       "      <td>9</td>\n",
       "      <td>0</td>\n",
       "      <td>0</td>\n",
       "      <td>50</td>\n",
       "    </tr>\n",
       "    <tr>\n",
       "      <th>1</th>\n",
       "      <td>shirting</td>\n",
       "      <td>0.0</td>\n",
       "      <td>LEGAL</td>\n",
       "      <td>1</td>\n",
       "      <td>8</td>\n",
       "      <td>0</td>\n",
       "      <td>0</td>\n",
       "      <td>103</td>\n",
       "    </tr>\n",
       "    <tr>\n",
       "      <th>2</th>\n",
       "      <td>&amp;kw=%27;alert%28%27XSS%27%29;//</td>\n",
       "      <td>1.0</td>\n",
       "      <td>XSS</td>\n",
       "      <td>1</td>\n",
       "      <td>31</td>\n",
       "      <td>0</td>\n",
       "      <td>11</td>\n",
       "      <td>37</td>\n",
       "    </tr>\n",
       "    <tr>\n",
       "      <th>3</th>\n",
       "      <td>obeying</td>\n",
       "      <td>0.0</td>\n",
       "      <td>LEGAL</td>\n",
       "      <td>1</td>\n",
       "      <td>7</td>\n",
       "      <td>0</td>\n",
       "      <td>0</td>\n",
       "      <td>98</td>\n",
       "    </tr>\n",
       "    <tr>\n",
       "      <th>4</th>\n",
       "      <td>dictating</td>\n",
       "      <td>0.0</td>\n",
       "      <td>LEGAL</td>\n",
       "      <td>1</td>\n",
       "      <td>9</td>\n",
       "      <td>0</td>\n",
       "      <td>0</td>\n",
       "      <td>97</td>\n",
       "    </tr>\n",
       "  </tbody>\n",
       "</table>\n",
       "</div>"
      ],
      "text/plain": [
       "                               payload  is_malicious injection_type  example  \\\n",
       "index                                                                          \n",
       "0                            37662577P           0.0          LEGAL        1   \n",
       "1                             shirting           0.0          LEGAL        1   \n",
       "2      &kw=%27;alert%28%27XSS%27%29;//           1.0            XSS        1   \n",
       "3                              obeying           0.0          LEGAL        1   \n",
       "4                            dictating           0.0          LEGAL        1   \n",
       "\n",
       "       length  non-printable  punctuation  min-byte  \n",
       "index                                                \n",
       "0           9              0            0        50  \n",
       "1           8              0            0       103  \n",
       "2          31              0           11        37  \n",
       "3           7              0            0        98  \n",
       "4           9              0            0        97  "
      ]
     },
     "metadata": {},
     "output_type": "display_data"
    },
    {
     "name": "stdout",
     "output_type": "stream",
     "text": [
      "Properties of feature: min-byte\n",
      "count    110357.000000\n",
      "mean         71.225849\n",
      "std          26.545900\n",
      "min           9.000000\n",
      "25%          48.000000\n",
      "50%          75.000000\n",
      "75%          97.000000\n",
      "max         125.000000\n",
      "Name: min-byte, dtype: float64\n"
     ]
    },
    {
     "data": {
      "image/png": "[encoded data removed]",
      "text/plain": [
       "<matplotlib.figure.Figure at 0x7f0483303d30>"
      ]
     },
     "metadata": {},
     "output_type": "display_data"
    }
   ],
   "source": [
    "def create_feature_min_byte_value(payloads):\n",
    "    '''\n",
    "    Feature\n",
    "    Minimum byte value in payload\n",
    "    '''\n",
    "    \n",
    "    payloads['min-byte'] = [ min(bytearray(str(row), 'utf8')) for row in payloads['payload']]\n",
    "    return payloads\n",
    "\n",
    "create_feature_min_byte_value(payloads)\n",
    "display(payloads.head())\n",
    "\n",
    "plot_feature_distribution(payloads['min-byte'])"
   ]
  },
  {
   "cell_type": "code",
   "execution_count": 9,
   "metadata": {},
   "outputs": [
    {
     "data": {
      "text/html": [
       "<div>\n",
       "<table border=\"1\" class=\"dataframe\">\n",
       "  <thead>\n",
       "    <tr style=\"text-align: right;\">\n",
       "      <th></th>\n",
       "      <th>payload</th>\n",
       "      <th>is_malicious</th>\n",
       "      <th>injection_type</th>\n",
       "      <th>example</th>\n",
       "      <th>length</th>\n",
       "      <th>non-printable</th>\n",
       "      <th>punctuation</th>\n",
       "      <th>min-byte</th>\n",
       "      <th>max-byte</th>\n",
       "    </tr>\n",
       "    <tr>\n",
       "      <th>index</th>\n",
       "      <th></th>\n",
       "      <th></th>\n",
       "      <th></th>\n",
       "      <th></th>\n",
       "      <th></th>\n",
       "      <th></th>\n",
       "      <th></th>\n",
       "      <th></th>\n",
       "      <th></th>\n",
       "    </tr>\n",
       "  </thead>\n",
       "  <tbody>\n",
       "    <tr>\n",
       "      <th>0</th>\n",
       "      <td>37662577P</td>\n",
       "      <td>0.0</td>\n",
       "      <td>LEGAL</td>\n",
       "      <td>1</td>\n",
       "      <td>9</td>\n",
       "      <td>0</td>\n",
       "      <td>0</td>\n",
       "      <td>50</td>\n",
       "      <td>80</td>\n",
       "    </tr>\n",
       "    <tr>\n",
       "      <th>1</th>\n",
       "      <td>shirting</td>\n",
       "      <td>0.0</td>\n",
       "      <td>LEGAL</td>\n",
       "      <td>1</td>\n",
       "      <td>8</td>\n",
       "      <td>0</td>\n",
       "      <td>0</td>\n",
       "      <td>103</td>\n",
       "      <td>116</td>\n",
       "    </tr>\n",
       "    <tr>\n",
       "      <th>2</th>\n",
       "      <td>&amp;kw=%27;alert%28%27XSS%27%29;//</td>\n",
       "      <td>1.0</td>\n",
       "      <td>XSS</td>\n",
       "      <td>1</td>\n",
       "      <td>31</td>\n",
       "      <td>0</td>\n",
       "      <td>11</td>\n",
       "      <td>37</td>\n",
       "      <td>119</td>\n",
       "    </tr>\n",
       "    <tr>\n",
       "      <th>3</th>\n",
       "      <td>obeying</td>\n",
       "      <td>0.0</td>\n",
       "      <td>LEGAL</td>\n",
       "      <td>1</td>\n",
       "      <td>7</td>\n",
       "      <td>0</td>\n",
       "      <td>0</td>\n",
       "      <td>98</td>\n",
       "      <td>121</td>\n",
       "    </tr>\n",
       "    <tr>\n",
       "      <th>4</th>\n",
       "      <td>dictating</td>\n",
       "      <td>0.0</td>\n",
       "      <td>LEGAL</td>\n",
       "      <td>1</td>\n",
       "      <td>9</td>\n",
       "      <td>0</td>\n",
       "      <td>0</td>\n",
       "      <td>97</td>\n",
       "      <td>116</td>\n",
       "    </tr>\n",
       "  </tbody>\n",
       "</table>\n",
       "</div>"
      ],
      "text/plain": [
       "                               payload  is_malicious injection_type  example  \\\n",
       "index                                                                          \n",
       "0                            37662577P           0.0          LEGAL        1   \n",
       "1                             shirting           0.0          LEGAL        1   \n",
       "2      &kw=%27;alert%28%27XSS%27%29;//           1.0            XSS        1   \n",
       "3                              obeying           0.0          LEGAL        1   \n",
       "4                            dictating           0.0          LEGAL        1   \n",
       "\n",
       "       length  non-printable  punctuation  min-byte  max-byte  \n",
       "index                                                          \n",
       "0           9              0            0        50        80  \n",
       "1           8              0            0       103       116  \n",
       "2          31              0           11        37       119  \n",
       "3           7              0            0        98       121  \n",
       "4           9              0            0        97       116  "
      ]
     },
     "metadata": {},
     "output_type": "display_data"
    },
    {
     "name": "stdout",
     "output_type": "stream",
     "text": [
      "Properties of feature: max-byte\n",
      "count    110357.000000\n",
      "mean        109.495229\n",
      "std          20.327697\n",
      "min          33.000000\n",
      "25%         114.000000\n",
      "50%         116.000000\n",
      "75%         118.000000\n",
      "max         240.000000\n",
      "Name: max-byte, dtype: float64\n"
     ]
    },
    {
     "data": {
      "image/png": "[encoded data removed]",
      "text/plain": [
       "<matplotlib.figure.Figure at 0x7f04845ee7f0>"
      ]
     },
     "metadata": {},
     "output_type": "display_data"
    }
   ],
   "source": [
    "def create_feature_max_byte_value(payloads):\n",
    "    '''\n",
    "    Feature\n",
    "    Maximum byte value in payload\n",
    "    '''\n",
    "    \n",
    "    payloads['max-byte'] = [ max(bytearray(str(row), 'utf8')) for row in payloads['payload']]\n",
    "    return payloads\n",
    "\n",
    "create_feature_max_byte_value(payloads)\n",
    "display(payloads.head())\n",
    "\n",
    "plot_feature_distribution(payloads['max-byte'])"
   ]
  },
  {
   "cell_type": "code",
   "execution_count": 10,
   "metadata": {},
   "outputs": [
    {
     "data": {
      "text/html": [
       "<div>\n",
       "<table border=\"1\" class=\"dataframe\">\n",
       "  <thead>\n",
       "    <tr style=\"text-align: right;\">\n",
       "      <th></th>\n",
       "      <th>payload</th>\n",
       "      <th>is_malicious</th>\n",
       "      <th>injection_type</th>\n",
       "      <th>example</th>\n",
       "      <th>length</th>\n",
       "      <th>non-printable</th>\n",
       "      <th>punctuation</th>\n",
       "      <th>min-byte</th>\n",
       "      <th>max-byte</th>\n",
       "      <th>mean-byte</th>\n",
       "    </tr>\n",
       "    <tr>\n",
       "      <th>index</th>\n",
       "      <th></th>\n",
       "      <th></th>\n",
       "      <th></th>\n",
       "      <th></th>\n",
       "      <th></th>\n",
       "      <th></th>\n",
       "      <th></th>\n",
       "      <th></th>\n",
       "      <th></th>\n",
       "      <th></th>\n",
       "    </tr>\n",
       "  </thead>\n",
       "  <tbody>\n",
       "    <tr>\n",
       "      <th>0</th>\n",
       "      <td>37662577P</td>\n",
       "      <td>0.0</td>\n",
       "      <td>LEGAL</td>\n",
       "      <td>1</td>\n",
       "      <td>9</td>\n",
       "      <td>0</td>\n",
       "      <td>0</td>\n",
       "      <td>50</td>\n",
       "      <td>80</td>\n",
       "      <td>56.333333</td>\n",
       "    </tr>\n",
       "    <tr>\n",
       "      <th>1</th>\n",
       "      <td>shirting</td>\n",
       "      <td>0.0</td>\n",
       "      <td>LEGAL</td>\n",
       "      <td>1</td>\n",
       "      <td>8</td>\n",
       "      <td>0</td>\n",
       "      <td>0</td>\n",
       "      <td>103</td>\n",
       "      <td>116</td>\n",
       "      <td>109.000000</td>\n",
       "    </tr>\n",
       "    <tr>\n",
       "      <th>2</th>\n",
       "      <td>&amp;kw=%27;alert%28%27XSS%27%29;//</td>\n",
       "      <td>1.0</td>\n",
       "      <td>XSS</td>\n",
       "      <td>1</td>\n",
       "      <td>31</td>\n",
       "      <td>0</td>\n",
       "      <td>11</td>\n",
       "      <td>37</td>\n",
       "      <td>119</td>\n",
       "      <td>65.806452</td>\n",
       "    </tr>\n",
       "    <tr>\n",
       "      <th>3</th>\n",
       "      <td>obeying</td>\n",
       "      <td>0.0</td>\n",
       "      <td>LEGAL</td>\n",
       "      <td>1</td>\n",
       "      <td>7</td>\n",
       "      <td>0</td>\n",
       "      <td>0</td>\n",
       "      <td>98</td>\n",
       "      <td>121</td>\n",
       "      <td>107.000000</td>\n",
       "    </tr>\n",
       "    <tr>\n",
       "      <th>4</th>\n",
       "      <td>dictating</td>\n",
       "      <td>0.0</td>\n",
       "      <td>LEGAL</td>\n",
       "      <td>1</td>\n",
       "      <td>9</td>\n",
       "      <td>0</td>\n",
       "      <td>0</td>\n",
       "      <td>97</td>\n",
       "      <td>116</td>\n",
       "      <td>105.666667</td>\n",
       "    </tr>\n",
       "  </tbody>\n",
       "</table>\n",
       "</div>"
      ],
      "text/plain": [
       "                               payload  is_malicious injection_type  example  \\\n",
       "index                                                                          \n",
       "0                            37662577P           0.0          LEGAL        1   \n",
       "1                             shirting           0.0          LEGAL        1   \n",
       "2      &kw=%27;alert%28%27XSS%27%29;//           1.0            XSS        1   \n",
       "3                              obeying           0.0          LEGAL        1   \n",
       "4                            dictating           0.0          LEGAL        1   \n",
       "\n",
       "       length  non-printable  punctuation  min-byte  max-byte   mean-byte  \n",
       "index                                                                      \n",
       "0           9              0            0        50        80   56.333333  \n",
       "1           8              0            0       103       116  109.000000  \n",
       "2          31              0           11        37       119   65.806452  \n",
       "3           7              0            0        98       121  107.000000  \n",
       "4           9              0            0        97       116  105.666667  "
      ]
     },
     "metadata": {},
     "output_type": "display_data"
    },
    {
     "name": "stdout",
     "output_type": "stream",
     "text": [
      "Properties of feature: mean-byte\n",
      "count    110357.000000\n",
      "mean         92.514086\n",
      "std          19.323081\n",
      "min          33.000000\n",
      "25%          83.000000\n",
      "50%         101.000000\n",
      "75%         107.000000\n",
      "max         164.000000\n",
      "Name: mean-byte, dtype: float64\n"
     ]
    },
    {
     "data": {
      "image/png": "[encoded data removed]",
      "text/plain": [
       "<matplotlib.figure.Figure at 0x7f0483ef8c18>"
      ]
     },
     "metadata": {},
     "output_type": "display_data"
    }
   ],
   "source": [
    "def create_feature_mean_byte_value(payloads):\n",
    "    '''\n",
    "    Feature\n",
    "    Maximum byte value in payload\n",
    "    '''\n",
    "    \n",
    "    payloads['mean-byte'] = [ np.mean(bytearray(str(row), 'utf8')) for row in payloads['payload']]\n",
    "    return payloads\n",
    "\n",
    "create_feature_mean_byte_value(payloads)\n",
    "display(payloads.head())\n",
    "\n",
    "plot_feature_distribution(payloads['mean-byte'].astype(int))"
   ]
  },
  {
   "cell_type": "code",
   "execution_count": 11,
   "metadata": {},
   "outputs": [
    {
     "data": {
      "text/html": [
       "<div>\n",
       "<table border=\"1\" class=\"dataframe\">\n",
       "  <thead>\n",
       "    <tr style=\"text-align: right;\">\n",
       "      <th></th>\n",
       "      <th>payload</th>\n",
       "      <th>is_malicious</th>\n",
       "      <th>injection_type</th>\n",
       "      <th>example</th>\n",
       "      <th>length</th>\n",
       "      <th>non-printable</th>\n",
       "      <th>punctuation</th>\n",
       "      <th>min-byte</th>\n",
       "      <th>max-byte</th>\n",
       "      <th>mean-byte</th>\n",
       "      <th>std-byte</th>\n",
       "    </tr>\n",
       "    <tr>\n",
       "      <th>index</th>\n",
       "      <th></th>\n",
       "      <th></th>\n",
       "      <th></th>\n",
       "      <th></th>\n",
       "      <th></th>\n",
       "      <th></th>\n",
       "      <th></th>\n",
       "      <th></th>\n",
       "      <th></th>\n",
       "      <th></th>\n",
       "      <th></th>\n",
       "    </tr>\n",
       "  </thead>\n",
       "  <tbody>\n",
       "    <tr>\n",
       "      <th>0</th>\n",
       "      <td>37662577P</td>\n",
       "      <td>0.0</td>\n",
       "      <td>LEGAL</td>\n",
       "      <td>1</td>\n",
       "      <td>9</td>\n",
       "      <td>0</td>\n",
       "      <td>0</td>\n",
       "      <td>50</td>\n",
       "      <td>80</td>\n",
       "      <td>56.333333</td>\n",
       "      <td>8.537499</td>\n",
       "    </tr>\n",
       "    <tr>\n",
       "      <th>1</th>\n",
       "      <td>shirting</td>\n",
       "      <td>0.0</td>\n",
       "      <td>LEGAL</td>\n",
       "      <td>1</td>\n",
       "      <td>8</td>\n",
       "      <td>0</td>\n",
       "      <td>0</td>\n",
       "      <td>103</td>\n",
       "      <td>116</td>\n",
       "      <td>109.000000</td>\n",
       "      <td>5.049752</td>\n",
       "    </tr>\n",
       "    <tr>\n",
       "      <th>2</th>\n",
       "      <td>&amp;kw=%27;alert%28%27XSS%27%29;//</td>\n",
       "      <td>1.0</td>\n",
       "      <td>XSS</td>\n",
       "      <td>1</td>\n",
       "      <td>31</td>\n",
       "      <td>0</td>\n",
       "      <td>11</td>\n",
       "      <td>37</td>\n",
       "      <td>119</td>\n",
       "      <td>65.806452</td>\n",
       "      <td>26.617263</td>\n",
       "    </tr>\n",
       "    <tr>\n",
       "      <th>3</th>\n",
       "      <td>obeying</td>\n",
       "      <td>0.0</td>\n",
       "      <td>LEGAL</td>\n",
       "      <td>1</td>\n",
       "      <td>7</td>\n",
       "      <td>0</td>\n",
       "      <td>0</td>\n",
       "      <td>98</td>\n",
       "      <td>121</td>\n",
       "      <td>107.000000</td>\n",
       "      <td>7.151423</td>\n",
       "    </tr>\n",
       "    <tr>\n",
       "      <th>4</th>\n",
       "      <td>dictating</td>\n",
       "      <td>0.0</td>\n",
       "      <td>LEGAL</td>\n",
       "      <td>1</td>\n",
       "      <td>9</td>\n",
       "      <td>0</td>\n",
       "      <td>0</td>\n",
       "      <td>97</td>\n",
       "      <td>116</td>\n",
       "      <td>105.666667</td>\n",
       "      <td>6.599663</td>\n",
       "    </tr>\n",
       "  </tbody>\n",
       "</table>\n",
       "</div>"
      ],
      "text/plain": [
       "                               payload  is_malicious injection_type  example  \\\n",
       "index                                                                          \n",
       "0                            37662577P           0.0          LEGAL        1   \n",
       "1                             shirting           0.0          LEGAL        1   \n",
       "2      &kw=%27;alert%28%27XSS%27%29;//           1.0            XSS        1   \n",
       "3                              obeying           0.0          LEGAL        1   \n",
       "4                            dictating           0.0          LEGAL        1   \n",
       "\n",
       "       length  non-printable  punctuation  min-byte  max-byte   mean-byte  \\\n",
       "index                                                                       \n",
       "0           9              0            0        50        80   56.333333   \n",
       "1           8              0            0       103       116  109.000000   \n",
       "2          31              0           11        37       119   65.806452   \n",
       "3           7              0            0        98       121  107.000000   \n",
       "4           9              0            0        97       116  105.666667   \n",
       "\n",
       "        std-byte  \n",
       "index             \n",
       "0       8.537499  \n",
       "1       5.049752  \n",
       "2      26.617263  \n",
       "3       7.151423  \n",
       "4       6.599663  "
      ]
     },
     "metadata": {},
     "output_type": "display_data"
    },
    {
     "name": "stdout",
     "output_type": "stream",
     "text": [
      "Properties of feature: std-byte\n",
      "count    110357.000000\n",
      "mean         12.155649\n",
      "std           9.201210\n",
      "min           0.000000\n",
      "25%           5.000000\n",
      "50%           7.000000\n",
      "75%          20.000000\n",
      "max          75.000000\n",
      "Name: std-byte, dtype: float64\n"
     ]
    },
    {
     "data": {
      "image/png": "[encoded data removed]",
      "text/plain": [
       "<matplotlib.figure.Figure at 0x7f048428da58>"
      ]
     },
     "metadata": {},
     "output_type": "display_data"
    }
   ],
   "source": [
    "def create_feature_std_byte_value(payloads):\n",
    "    '''\n",
    "    Feature\n",
    "    Standard deviation byte value in payload\n",
    "    '''\n",
    "    \n",
    "    payloads['std-byte'] = [ np.std(bytearray(str(row), 'utf8')) for row in payloads['payload']]\n",
    "    return payloads\n",
    "\n",
    "create_feature_std_byte_value(payloads)\n",
    "display(payloads.head())\n",
    "\n",
    "plot_feature_distribution(payloads['std-byte'].astype(int))"
   ]
  },
  {
   "cell_type": "code",
   "execution_count": 12,
   "metadata": {
    "scrolled": false
   },
   "outputs": [
    {
     "data": {
      "text/html": [
       "<div>\n",
       "<table border=\"1\" class=\"dataframe\">\n",
       "  <thead>\n",
       "    <tr style=\"text-align: right;\">\n",
       "      <th></th>\n",
       "      <th>payload</th>\n",
       "      <th>is_malicious</th>\n",
       "      <th>injection_type</th>\n",
       "      <th>example</th>\n",
       "      <th>length</th>\n",
       "      <th>non-printable</th>\n",
       "      <th>punctuation</th>\n",
       "      <th>min-byte</th>\n",
       "      <th>max-byte</th>\n",
       "      <th>mean-byte</th>\n",
       "      <th>std-byte</th>\n",
       "      <th>distinct-bytes</th>\n",
       "    </tr>\n",
       "    <tr>\n",
       "      <th>index</th>\n",
       "      <th></th>\n",
       "      <th></th>\n",
       "      <th></th>\n",
       "      <th></th>\n",
       "      <th></th>\n",
       "      <th></th>\n",
       "      <th></th>\n",
       "      <th></th>\n",
       "      <th></th>\n",
       "      <th></th>\n",
       "      <th></th>\n",
       "      <th></th>\n",
       "    </tr>\n",
       "  </thead>\n",
       "  <tbody>\n",
       "    <tr>\n",
       "      <th>0</th>\n",
       "      <td>37662577P</td>\n",
       "      <td>0.0</td>\n",
       "      <td>LEGAL</td>\n",
       "      <td>1</td>\n",
       "      <td>9</td>\n",
       "      <td>0</td>\n",
       "      <td>0</td>\n",
       "      <td>50</td>\n",
       "      <td>80</td>\n",
       "      <td>56.333333</td>\n",
       "      <td>8.537499</td>\n",
       "      <td>6</td>\n",
       "    </tr>\n",
       "    <tr>\n",
       "      <th>1</th>\n",
       "      <td>shirting</td>\n",
       "      <td>0.0</td>\n",
       "      <td>LEGAL</td>\n",
       "      <td>1</td>\n",
       "      <td>8</td>\n",
       "      <td>0</td>\n",
       "      <td>0</td>\n",
       "      <td>103</td>\n",
       "      <td>116</td>\n",
       "      <td>109.000000</td>\n",
       "      <td>5.049752</td>\n",
       "      <td>7</td>\n",
       "    </tr>\n",
       "    <tr>\n",
       "      <th>2</th>\n",
       "      <td>&amp;kw=%27;alert%28%27XSS%27%29;//</td>\n",
       "      <td>1.0</td>\n",
       "      <td>XSS</td>\n",
       "      <td>1</td>\n",
       "      <td>31</td>\n",
       "      <td>0</td>\n",
       "      <td>11</td>\n",
       "      <td>37</td>\n",
       "      <td>119</td>\n",
       "      <td>65.806452</td>\n",
       "      <td>26.617263</td>\n",
       "      <td>18</td>\n",
       "    </tr>\n",
       "    <tr>\n",
       "      <th>3</th>\n",
       "      <td>obeying</td>\n",
       "      <td>0.0</td>\n",
       "      <td>LEGAL</td>\n",
       "      <td>1</td>\n",
       "      <td>7</td>\n",
       "      <td>0</td>\n",
       "      <td>0</td>\n",
       "      <td>98</td>\n",
       "      <td>121</td>\n",
       "      <td>107.000000</td>\n",
       "      <td>7.151423</td>\n",
       "      <td>7</td>\n",
       "    </tr>\n",
       "    <tr>\n",
       "      <th>4</th>\n",
       "      <td>dictating</td>\n",
       "      <td>0.0</td>\n",
       "      <td>LEGAL</td>\n",
       "      <td>1</td>\n",
       "      <td>9</td>\n",
       "      <td>0</td>\n",
       "      <td>0</td>\n",
       "      <td>97</td>\n",
       "      <td>116</td>\n",
       "      <td>105.666667</td>\n",
       "      <td>6.599663</td>\n",
       "      <td>7</td>\n",
       "    </tr>\n",
       "  </tbody>\n",
       "</table>\n",
       "</div>"
      ],
      "text/plain": [
       "                               payload  is_malicious injection_type  example  \\\n",
       "index                                                                          \n",
       "0                            37662577P           0.0          LEGAL        1   \n",
       "1                             shirting           0.0          LEGAL        1   \n",
       "2      &kw=%27;alert%28%27XSS%27%29;//           1.0            XSS        1   \n",
       "3                              obeying           0.0          LEGAL        1   \n",
       "4                            dictating           0.0          LEGAL        1   \n",
       "\n",
       "       length  non-printable  punctuation  min-byte  max-byte   mean-byte  \\\n",
       "index                                                                       \n",
       "0           9              0            0        50        80   56.333333   \n",
       "1           8              0            0       103       116  109.000000   \n",
       "2          31              0           11        37       119   65.806452   \n",
       "3           7              0            0        98       121  107.000000   \n",
       "4           9              0            0        97       116  105.666667   \n",
       "\n",
       "        std-byte  distinct-bytes  \n",
       "index                             \n",
       "0       8.537499               6  \n",
       "1       5.049752               7  \n",
       "2      26.617263              18  \n",
       "3       7.151423               7  \n",
       "4       6.599663               7  "
      ]
     },
     "metadata": {},
     "output_type": "display_data"
    },
    {
     "name": "stdout",
     "output_type": "stream",
     "text": [
      "Properties of feature: distinct-bytes\n",
      "count    110357.000000\n",
      "mean          9.483087\n",
      "std           7.410797\n",
      "min           1.000000\n",
      "25%           5.000000\n",
      "50%           7.000000\n",
      "75%          10.000000\n",
      "max          76.000000\n",
      "Name: distinct-bytes, dtype: float64\n"
     ]
    },
    {
     "data": {
      "image/png": "[encoded data removed]",
      "text/plain": [
       "<matplotlib.figure.Figure at 0x7f04842911d0>"
      ]
     },
     "metadata": {},
     "output_type": "display_data"
    }
   ],
   "source": [
    "def create_feature_distinct_bytes(payloads):\n",
    "    '''\n",
    "    Feature\n",
    "    Number of distinct bytes in payload\n",
    "    '''\n",
    "    \n",
    "    payloads['distinct-bytes'] = [ len(list(set(bytearray(str(row), 'utf8')))) for row in payloads['payload']]\n",
    "    return payloads\n",
    "\n",
    "create_feature_distinct_bytes(payloads)\n",
    "display(payloads.head())\n",
    "\n",
    "plot_feature_distribution(payloads['distinct-bytes'])"
   ]
  },
  {
   "cell_type": "code",
   "execution_count": 13,
   "metadata": {
    "scrolled": false
   },
   "outputs": [
    {
     "data": {
      "text/plain": [
       "pandas.core.frame.DataFrame"
      ]
     },
     "metadata": {},
     "output_type": "display_data"
    },
    {
     "data": {
      "text/html": [
       "<div>\n",
       "<table border=\"1\" class=\"dataframe\">\n",
       "  <thead>\n",
       "    <tr style=\"text-align: right;\">\n",
       "      <th></th>\n",
       "      <th>payload</th>\n",
       "      <th>is_malicious</th>\n",
       "      <th>injection_type</th>\n",
       "      <th>example</th>\n",
       "      <th>length</th>\n",
       "      <th>non-printable</th>\n",
       "      <th>punctuation</th>\n",
       "      <th>min-byte</th>\n",
       "      <th>max-byte</th>\n",
       "      <th>mean-byte</th>\n",
       "      <th>std-byte</th>\n",
       "      <th>distinct-bytes</th>\n",
       "      <th>sql-keywords</th>\n",
       "    </tr>\n",
       "    <tr>\n",
       "      <th>index</th>\n",
       "      <th></th>\n",
       "      <th></th>\n",
       "      <th></th>\n",
       "      <th></th>\n",
       "      <th></th>\n",
       "      <th></th>\n",
       "      <th></th>\n",
       "      <th></th>\n",
       "      <th></th>\n",
       "      <th></th>\n",
       "      <th></th>\n",
       "      <th></th>\n",
       "      <th></th>\n",
       "    </tr>\n",
       "  </thead>\n",
       "  <tbody>\n",
       "    <tr>\n",
       "      <th>0</th>\n",
       "      <td>37662577P</td>\n",
       "      <td>0.0</td>\n",
       "      <td>LEGAL</td>\n",
       "      <td>1</td>\n",
       "      <td>9</td>\n",
       "      <td>0</td>\n",
       "      <td>0</td>\n",
       "      <td>50</td>\n",
       "      <td>80</td>\n",
       "      <td>56.333333</td>\n",
       "      <td>8.537499</td>\n",
       "      <td>6</td>\n",
       "      <td>0</td>\n",
       "    </tr>\n",
       "    <tr>\n",
       "      <th>1</th>\n",
       "      <td>shirting</td>\n",
       "      <td>0.0</td>\n",
       "      <td>LEGAL</td>\n",
       "      <td>1</td>\n",
       "      <td>8</td>\n",
       "      <td>0</td>\n",
       "      <td>0</td>\n",
       "      <td>103</td>\n",
       "      <td>116</td>\n",
       "      <td>109.000000</td>\n",
       "      <td>5.049752</td>\n",
       "      <td>7</td>\n",
       "      <td>0</td>\n",
       "    </tr>\n",
       "    <tr>\n",
       "      <th>2</th>\n",
       "      <td>&amp;kw=%27;alert%28%27XSS%27%29;//</td>\n",
       "      <td>1.0</td>\n",
       "      <td>XSS</td>\n",
       "      <td>1</td>\n",
       "      <td>31</td>\n",
       "      <td>0</td>\n",
       "      <td>11</td>\n",
       "      <td>37</td>\n",
       "      <td>119</td>\n",
       "      <td>65.806452</td>\n",
       "      <td>26.617263</td>\n",
       "      <td>18</td>\n",
       "      <td>0</td>\n",
       "    </tr>\n",
       "    <tr>\n",
       "      <th>3</th>\n",
       "      <td>obeying</td>\n",
       "      <td>0.0</td>\n",
       "      <td>LEGAL</td>\n",
       "      <td>1</td>\n",
       "      <td>7</td>\n",
       "      <td>0</td>\n",
       "      <td>0</td>\n",
       "      <td>98</td>\n",
       "      <td>121</td>\n",
       "      <td>107.000000</td>\n",
       "      <td>7.151423</td>\n",
       "      <td>7</td>\n",
       "      <td>0</td>\n",
       "    </tr>\n",
       "    <tr>\n",
       "      <th>4</th>\n",
       "      <td>dictating</td>\n",
       "      <td>0.0</td>\n",
       "      <td>LEGAL</td>\n",
       "      <td>1</td>\n",
       "      <td>9</td>\n",
       "      <td>0</td>\n",
       "      <td>0</td>\n",
       "      <td>97</td>\n",
       "      <td>116</td>\n",
       "      <td>105.666667</td>\n",
       "      <td>6.599663</td>\n",
       "      <td>7</td>\n",
       "      <td>0</td>\n",
       "    </tr>\n",
       "  </tbody>\n",
       "</table>\n",
       "</div>"
      ],
      "text/plain": [
       "                               payload  is_malicious injection_type  example  \\\n",
       "index                                                                          \n",
       "0                            37662577P           0.0          LEGAL        1   \n",
       "1                             shirting           0.0          LEGAL        1   \n",
       "2      &kw=%27;alert%28%27XSS%27%29;//           1.0            XSS        1   \n",
       "3                              obeying           0.0          LEGAL        1   \n",
       "4                            dictating           0.0          LEGAL        1   \n",
       "\n",
       "       length  non-printable  punctuation  min-byte  max-byte   mean-byte  \\\n",
       "index                                                                       \n",
       "0           9              0            0        50        80   56.333333   \n",
       "1           8              0            0       103       116  109.000000   \n",
       "2          31              0           11        37       119   65.806452   \n",
       "3           7              0            0        98       121  107.000000   \n",
       "4           9              0            0        97       116  105.666667   \n",
       "\n",
       "        std-byte  distinct-bytes  sql-keywords  \n",
       "index                                           \n",
       "0       8.537499               6             0  \n",
       "1       5.049752               7             0  \n",
       "2      26.617263              18             0  \n",
       "3       7.151423               7             0  \n",
       "4       6.599663               7             0  "
      ]
     },
     "metadata": {},
     "output_type": "display_data"
    },
    {
     "name": "stdout",
     "output_type": "stream",
     "text": [
      "Properties of feature: sql-keywords\n",
      "count    110357.000000\n",
      "mean          0.196000\n",
      "std           0.671686\n",
      "min           0.000000\n",
      "25%           0.000000\n",
      "50%           0.000000\n",
      "75%           0.000000\n",
      "max          15.000000\n",
      "Name: sql-keywords, dtype: float64\n"
     ]
    },
    {
     "data": {
      "image/png": "[encoded data removed]",
      "text/plain": [
       "<matplotlib.figure.Figure at 0x7f04834ebf28>"
      ]
     },
     "metadata": {},
     "output_type": "display_data"
    }
   ],
   "source": [
    "sql_keywords = pd.read_csv('data/SQLKeywords.txt', index_col=False)\n",
    "\n",
    "def create_feature_sql_keywords(payloads):\n",
    "    '''\n",
    "    Feature\n",
    "    Number of SQL keywords within payload\n",
    "    '''\n",
    "    \n",
    "    payloads['sql-keywords'] = [ len([1 for keyword in sql_keywords['Keyword'] if str(keyword).lower() in str(row).lower()]) for row in payloads['payload']]\n",
    "    return payloads\n",
    "    \n",
    "\n",
    "create_feature_sql_keywords(payloads)\n",
    "display(type(sql_keywords))\n",
    "display(payloads.head())    \n",
    "plot_feature_distribution(payloads['sql-keywords'])\n",
    "    \n",
    "    "
   ]
  },
  {
   "cell_type": "code",
   "execution_count": 14,
   "metadata": {
    "scrolled": true
   },
   "outputs": [
    {
     "data": {
      "text/html": [
       "<div>\n",
       "<table border=\"1\" class=\"dataframe\">\n",
       "  <thead>\n",
       "    <tr style=\"text-align: right;\">\n",
       "      <th></th>\n",
       "      <th>payload</th>\n",
       "      <th>is_malicious</th>\n",
       "      <th>injection_type</th>\n",
       "      <th>example</th>\n",
       "      <th>length</th>\n",
       "      <th>non-printable</th>\n",
       "      <th>punctuation</th>\n",
       "      <th>min-byte</th>\n",
       "      <th>max-byte</th>\n",
       "      <th>mean-byte</th>\n",
       "      <th>std-byte</th>\n",
       "      <th>distinct-bytes</th>\n",
       "      <th>sql-keywords</th>\n",
       "      <th>js-keywords</th>\n",
       "    </tr>\n",
       "    <tr>\n",
       "      <th>index</th>\n",
       "      <th></th>\n",
       "      <th></th>\n",
       "      <th></th>\n",
       "      <th></th>\n",
       "      <th></th>\n",
       "      <th></th>\n",
       "      <th></th>\n",
       "      <th></th>\n",
       "      <th></th>\n",
       "      <th></th>\n",
       "      <th></th>\n",
       "      <th></th>\n",
       "      <th></th>\n",
       "      <th></th>\n",
       "    </tr>\n",
       "  </thead>\n",
       "  <tbody>\n",
       "    <tr>\n",
       "      <th>0</th>\n",
       "      <td>37662577P</td>\n",
       "      <td>0.0</td>\n",
       "      <td>LEGAL</td>\n",
       "      <td>1</td>\n",
       "      <td>9</td>\n",
       "      <td>0</td>\n",
       "      <td>0</td>\n",
       "      <td>50</td>\n",
       "      <td>80</td>\n",
       "      <td>56.333333</td>\n",
       "      <td>8.537499</td>\n",
       "      <td>6</td>\n",
       "      <td>0</td>\n",
       "      <td>0</td>\n",
       "    </tr>\n",
       "    <tr>\n",
       "      <th>1</th>\n",
       "      <td>shirting</td>\n",
       "      <td>0.0</td>\n",
       "      <td>LEGAL</td>\n",
       "      <td>1</td>\n",
       "      <td>8</td>\n",
       "      <td>0</td>\n",
       "      <td>0</td>\n",
       "      <td>103</td>\n",
       "      <td>116</td>\n",
       "      <td>109.000000</td>\n",
       "      <td>5.049752</td>\n",
       "      <td>7</td>\n",
       "      <td>0</td>\n",
       "      <td>1</td>\n",
       "    </tr>\n",
       "    <tr>\n",
       "      <th>2</th>\n",
       "      <td>&amp;kw=%27;alert%28%27XSS%27%29;//</td>\n",
       "      <td>1.0</td>\n",
       "      <td>XSS</td>\n",
       "      <td>1</td>\n",
       "      <td>31</td>\n",
       "      <td>0</td>\n",
       "      <td>11</td>\n",
       "      <td>37</td>\n",
       "      <td>119</td>\n",
       "      <td>65.806452</td>\n",
       "      <td>26.617263</td>\n",
       "      <td>18</td>\n",
       "      <td>0</td>\n",
       "      <td>1</td>\n",
       "    </tr>\n",
       "    <tr>\n",
       "      <th>3</th>\n",
       "      <td>obeying</td>\n",
       "      <td>0.0</td>\n",
       "      <td>LEGAL</td>\n",
       "      <td>1</td>\n",
       "      <td>7</td>\n",
       "      <td>0</td>\n",
       "      <td>0</td>\n",
       "      <td>98</td>\n",
       "      <td>121</td>\n",
       "      <td>107.000000</td>\n",
       "      <td>7.151423</td>\n",
       "      <td>7</td>\n",
       "      <td>0</td>\n",
       "      <td>1</td>\n",
       "    </tr>\n",
       "    <tr>\n",
       "      <th>4</th>\n",
       "      <td>dictating</td>\n",
       "      <td>0.0</td>\n",
       "      <td>LEGAL</td>\n",
       "      <td>1</td>\n",
       "      <td>9</td>\n",
       "      <td>0</td>\n",
       "      <td>0</td>\n",
       "      <td>97</td>\n",
       "      <td>116</td>\n",
       "      <td>105.666667</td>\n",
       "      <td>6.599663</td>\n",
       "      <td>7</td>\n",
       "      <td>0</td>\n",
       "      <td>1</td>\n",
       "    </tr>\n",
       "  </tbody>\n",
       "</table>\n",
       "</div>"
      ],
      "text/plain": [
       "                               payload  is_malicious injection_type  example  \\\n",
       "index                                                                          \n",
       "0                            37662577P           0.0          LEGAL        1   \n",
       "1                             shirting           0.0          LEGAL        1   \n",
       "2      &kw=%27;alert%28%27XSS%27%29;//           1.0            XSS        1   \n",
       "3                              obeying           0.0          LEGAL        1   \n",
       "4                            dictating           0.0          LEGAL        1   \n",
       "\n",
       "       length  non-printable  punctuation  min-byte  max-byte   mean-byte  \\\n",
       "index                                                                       \n",
       "0           9              0            0        50        80   56.333333   \n",
       "1           8              0            0       103       116  109.000000   \n",
       "2          31              0           11        37       119   65.806452   \n",
       "3           7              0            0        98       121  107.000000   \n",
       "4           9              0            0        97       116  105.666667   \n",
       "\n",
       "        std-byte  distinct-bytes  sql-keywords  js-keywords  \n",
       "index                                                        \n",
       "0       8.537499               6             0            0  \n",
       "1       5.049752               7             0            1  \n",
       "2      26.617263              18             0            1  \n",
       "3       7.151423               7             0            1  \n",
       "4       6.599663               7             0            1  "
      ]
     },
     "metadata": {},
     "output_type": "display_data"
    },
    {
     "name": "stdout",
     "output_type": "stream",
     "text": [
      "Properties of feature: js-keywords\n",
      "count    110357.000000\n",
      "mean          0.354975\n",
      "std           0.828371\n",
      "min           0.000000\n",
      "25%           0.000000\n",
      "50%           0.000000\n",
      "75%           0.000000\n",
      "max          16.000000\n",
      "Name: js-keywords, dtype: float64\n"
     ]
    },
    {
     "data": {
      "image/png": "[encoded data removed]",
      "text/plain": [
       "<matplotlib.figure.Figure at 0x7f0483304240>"
      ]
     },
     "metadata": {},
     "output_type": "display_data"
    }
   ],
   "source": [
    "js_keywords = pd.read_csv('data/JavascriptKeywords.txt', index_col=False)\n",
    "\n",
    "def create_feature_javascript_keywords(payloads):\n",
    "    '''\n",
    "    Feature\n",
    "    Number of Javascript keywords within payload\n",
    "    '''\n",
    "    \n",
    "    payloads['js-keywords'] = [ len([1 for keyword in js_keywords['Keyword'] if str(keyword).lower() in str(row).lower()]) for row in payloads['payload']]\n",
    "    return payloads\n",
    "    \n",
    "\n",
    "create_feature_javascript_keywords(payloads)\n",
    "display(payloads.head())    \n",
    "plot_feature_distribution(payloads['js-keywords'])\n",
    "    \n",
    "    "
   ]
  },
  {
   "cell_type": "markdown",
   "metadata": {},
   "source": [
    "# Step3 A.2 TRANSFORMERS"
   ]
  },
  {
   "cell_type": "code",
   "execution_count": null,
   "metadata": {
    "collapsed": true
   },
   "outputs": [],
   "source": [
    "''class FeatureTransformer(TransformerMixin):\n",
    "\n",
    "    def transform(self, X, **transform_params):\n",
    "        #length = DataFrame(X['payload'].apply(lambda x: len(str(x))))\n",
    "        #nonprintable = DataFrame(X['payload'].apply(lambda x: len([1 for letter in str(x) if letter not in string.printable])))\n",
    "        \n",
    "        return length, nonprintable\n",
    "    \n",
    "\n",
    "    def fit(self, X, y=None, **fit_params):\n",
    "        return self''"
   ]
  },
  {
   "cell_type": "markdown",
   "metadata": {},
   "source": [
    "# Step3 B\n",
    "Feature engineering using bag of words techniques.  \n",
    "The following vectorizers below is another way of creating features for text input.\n",
    "We will test the performance of these techniques independently from our custom features in Step 3A.\n",
    "We will create vectorizers of these combinations:\n",
    "- 1-grams CountVectorizer\n",
    "- 2-grams CountVectorizer\n",
    "- 3-grams CountVectorizer\n",
    "- 1-grams TfidfVectorizer\n",
    "- 2-grams TfidfVectorizer\n",
    "- 3-grams TfidfVectorizer\n",
    "\n",
    "The type of N-gram function determines how the actual \"words\" should be created from the payload string  \n",
    "Each vectorizer is used later in Step4 in Pipeline objects before training"
   ]
  },
  {
   "cell_type": "markdown",
   "metadata": {},
   "source": [
    "### 1-Grams features\n",
    "create a Countvectorizer and TF-IDFvectorizer that uses 1-grams.  \n",
    "1-grams equals one feature for each letter/symbol recorded"
   ]
  },
  {
   "cell_type": "code",
   "execution_count": 3,
   "metadata": {
    "collapsed": true
   },
   "outputs": [],
   "source": [
    "def get1Grams(payload_obj):\n",
    "    '''Divides a string into 1-grams\n",
    "    \n",
    "    Example: input - payload: \"<script>\"\n",
    "             output- [\"<\",\"s\",\"c\",\"r\",\"i\",\"p\",\"t\",\">\"]\n",
    "    '''\n",
    "    payload = str(payload_obj)\n",
    "    ngrams = []\n",
    "    for i in range(0,len(payload)-1):\n",
    "        ngrams.append(payload[i:i+1])\n",
    "    return ngrams\n",
    "\n",
    "tfidf_vectorizer_1grams = TfidfVectorizer(tokenizer=get1Grams)\n",
    "count_vectorizer_1grams = CountVectorizer(min_df=1, tokenizer=get1Grams)"
   ]
  },
  {
   "cell_type": "markdown",
   "metadata": {},
   "source": [
    "### 2-Grams features\n",
    "create a Countvectorizer and TF-IDFvectorizer that uses 2-grams.  "
   ]
  },
  {
   "cell_type": "code",
   "execution_count": 4,
   "metadata": {
    "collapsed": true
   },
   "outputs": [],
   "source": [
    "def get2Grams(payload_obj):\n",
    "    '''Divides a string into 2-grams\n",
    "    \n",
    "    Example: input - payload: \"<script>\"\n",
    "             output- [\"<s\",\"sc\",\"cr\",\"ri\",\"ip\",\"pt\",\"t>\"]\n",
    "    '''\n",
    "    payload = str(payload_obj)\n",
    "    ngrams = []\n",
    "    for i in range(0,len(payload)-2):\n",
    "        ngrams.append(payload[i:i+2])\n",
    "    return ngrams\n",
    "\n",
    "tfidf_vectorizer_2grams = TfidfVectorizer(tokenizer=get2Grams)\n",
    "count_vectorizer_2grams = CountVectorizer(min_df=1, tokenizer=get2Grams)"
   ]
  },
  {
   "cell_type": "markdown",
   "metadata": {},
   "source": [
    "### 3-Grams features\n",
    "Create a Countvectorizer and TF-IDFvectorizer that uses 3-grams"
   ]
  },
  {
   "cell_type": "code",
   "execution_count": 5,
   "metadata": {
    "collapsed": true
   },
   "outputs": [],
   "source": [
    "def get3Grams(payload_obj):\n",
    "    '''Divides a string into 3-grams\n",
    "    \n",
    "    Example: input - payload: \"<script>\"\n",
    "             output- [\"<sc\",\"scr\",\"cri\",\"rip\",\"ipt\",\"pt>\"]\n",
    "    '''\n",
    "    payload = str(payload_obj)\n",
    "    ngrams = []\n",
    "    for i in range(0,len(payload)-3):\n",
    "        ngrams.append(payload[i:i+3])\n",
    "    return ngrams\n",
    "\n",
    "tfidf_vectorizer_3grams = TfidfVectorizer(tokenizer=get3Grams)\n",
    "count_vectorizer_3grams = CountVectorizer(min_df=1, tokenizer=get3Grams)"
   ]
  },
  {
   "cell_type": "markdown",
   "metadata": {},
   "source": [
    "#  Step4\n",
    "Model selection and evaluation"
   ]
  },
  {
   "cell_type": "markdown",
   "metadata": {},
   "source": [
    "First, we will automate hyperparameter tuning and out of sample testing using train_model below"
   ]
  },
  {
   "cell_type": "code",
   "execution_count": 6,
   "metadata": {
    "collapsed": true
   },
   "outputs": [],
   "source": [
    "def train_model(clf, param_grid, X, Y):\n",
    "    '''Trains and evaluates the model clf from input\n",
    "    \n",
    "    The function selects the best model of clf by optimizing for the validation data,\n",
    "    then evaluates its performance using the out of sample test data.\n",
    "    \n",
    "    input - clf: the model to train\n",
    "            param_grid: a dict of hyperparameters to use for optimization\n",
    "            X: features\n",
    "            Y: labels\n",
    "    \n",
    "    output - the best estimator (trained model)\n",
    "             the confusion matrix from classifying the test data\n",
    "    '''\n",
    "    \n",
    "    #First, partition into train and test data\n",
    "    X_train, X_test, Y_train, Y_test = train_test_split(X, Y, test_size=0.2, random_state=42)\n",
    "\n",
    "    n_iter = 6\n",
    "    #If number of possible iterations are less than prefered number of iterations, \n",
    "    #set it to the number of possible iterations\n",
    "    #number of possible iterations are not less than prefered number of iterations if any argument is expon()\n",
    "    #because expon() is continous (writing 100 instead, could be any large number)\n",
    "    n_iter = min(n_iter,np.prod([\n",
    "        100 if type(xs) == type(expon()) \n",
    "        else len(xs) \n",
    "        for xs in param_grid.values()\n",
    "    ]))\n",
    "    \n",
    "    #perform a grid search for the best parameters on the training data.\n",
    "    #Cross validation is made to select the parameters, so the training data is actually split into\n",
    "    #a new train data set and a validation data set, K number of times\n",
    "    cv = ShuffleSplit(n=len(X_train), n_iter=1, test_size=0.2, random_state=0) #DEBUG: n_iter=10\n",
    "    #cv = KFold(n=len(X), n_folds=10)\n",
    "    random_grid_search = RandomizedSearchCV(\n",
    "        clf, \n",
    "        param_distributions=param_grid,\n",
    "        cv=cv, \n",
    "        scoring='f1', \n",
    "        n_iter=n_iter, #DEBUG 1 \n",
    "        random_state=5,\n",
    "        refit=True,\n",
    "        verbose=10\n",
    "    )\n",
    "    \n",
    "    '''Randomized search used instead. We have limited computing power\n",
    "    grid_search = GridSearchCV(\n",
    "        clf,\n",
    "        param_grid=param_grid,\n",
    "        cv=cv,\n",
    "        scoring='f1', #accuracy/f1/f1_weighted all give same result?\n",
    "        verbose=10,\n",
    "        n_jobs=-1\n",
    "    )\n",
    "    grid_search.fit(X_train, Y_train)\n",
    "    '''\n",
    "    random_grid_search.fit(X_train, Y_train)\n",
    "    \n",
    "    #Evaluate the best model on the test data\n",
    "    Y_test_predicted = random_grid_search.best_estimator_.predict(X_test)\n",
    "    Y_test_predicted_prob = random_grid_search.best_estimator_.predict_proba(X_test)[:, 1]\n",
    "\n",
    "    confusion = confusion_matrix(Y_test, Y_test_predicted)\n",
    "    TP = confusion[1, 1]\n",
    "    TN = confusion[0, 0]\n",
    "    FP = confusion[0, 1]\n",
    "    FN = confusion[1, 0]\n",
    "\n",
    "    #Calculate recall (sensitivity) from confusion matrix\n",
    "    sensitivity = TP / float(TP + FN)\n",
    "    \n",
    "    #Calculate specificity from confusion matrix\n",
    "    specificity = TN / float(TN + FP)\n",
    "\n",
    "    #Calculate accuracy\n",
    "    accuracy = (confusion[0][0] + confusion[1][1]) / (confusion.sum().sum())\n",
    "    \n",
    "    #Calculate axes of ROC curve\n",
    "    fpr, tpr, thresholds = roc_curve(Y_test, Y_test_predicted_prob)\n",
    "    \n",
    "    #Area under the ROC curve\n",
    "    auc = roc_auc_score(Y_test, Y_test_predicted_prob)\n",
    "\n",
    "    return {\n",
    "        'conf_matrix':confusion, \n",
    "        'accuracy':accuracy, \n",
    "        'sensitivity':sensitivity,\n",
    "        'specificity':specificity,\n",
    "        'auc':auc,\n",
    "        'params':random_grid_search.best_params_,\n",
    "        'model':random_grid_search.best_estimator_,\n",
    "        'roc':{'fpr':fpr,'tpr':tpr,'thresholds':thresholds}\n",
    "    }\n"
   ]
  },
  {
   "cell_type": "markdown",
   "metadata": {},
   "source": [
    "Then, we will use the train_model function to train, optimize and retrieve out of sample testing results from a range of classifiers.\n",
    "These are the classifiers we will evaluate the performance on:\n",
    " - Logistic Regression\n",
    " - Support Vector Machine\n",
    " - Random forest\n",
    " - Decision Tree\n",
    " - Gaussian Naive Bayes\n",
    " - ...  \n",
    " And all their best parameters with their performance is stored in a dataframe called classifier_results"
   ]
  },
  {
   "cell_type": "code",
   "execution_count": 19,
   "metadata": {},
   "outputs": [
    {
     "ename": "SyntaxError",
     "evalue": "invalid syntax (<ipython-input-19-837bea73bdd1>, line 23)",
     "output_type": "error",
     "traceback": [
      "\u001b[0;36m  File \u001b[0;32m\"<ipython-input-19-837bea73bdd1>\"\u001b[0;36m, line \u001b[0;32m23\u001b[0m\n\u001b[0;31m    'clf__hidden_layer_sizes':[(1000,100)],\u001b[0m\n\u001b[0m                            ^\u001b[0m\n\u001b[0;31mSyntaxError\u001b[0m\u001b[0;31m:\u001b[0m invalid syntax\n"
     ]
    }
   ],
   "source": [
    "def create_classifier_inputs_using_vectorizers(vectorizer, subscript):\n",
    "    '''make pipelines of the specified vectorizer with the classifiers to train\n",
    "    \n",
    "    input - vectorizer: the vectorizer to add to the pipelines\n",
    "            subscript:  subscript name for the dictionary key\n",
    "            \n",
    "    output - A dict of inputs to use for train_model(); a pipeline and a dict of params to optimize\n",
    "    '''\n",
    "    \n",
    "    classifier_inputs = {}\n",
    "    \n",
    "\n",
    "    classifier_inputs[subscript + ' MLPClassifier'] = {\n",
    "        'pipeline':Pipeline([('vect', vectorizer),('clf',MLPClassifier(\n",
    "            activation='relu',\n",
    "            solver='adam',\n",
    "            early_stopping=False,\n",
    "            verbose=True\n",
    "            \n",
    "        ))]),\n",
    "        'dict_params': {\n",
    "            'vect__min_df':[1,2,5,10,20,40]\n",
    "            'clf__hidden_layer_sizes':[(1000,100)],\n",
    "            'clf__alpha':[0.0005,0.001,0.01,0.1,1],\n",
    "            'clf__learning_rate':['constant','invscaling'],\n",
    "            'clf__learning_rate_init':[0.0005,0.001,0.01,0.1,1],\n",
    "            'clf__momentum':[0,0.9],\n",
    "        }\n",
    "    }\n",
    "    '''\n",
    "    classifier_inputs[subscript + ' MultinomialNB'] = {\n",
    "        'pipeline':Pipeline([('vect', vectorizer),('clf',MultinomialNB())]),\n",
    "        'dict_params': {\n",
    "            'vect__min_df':[1,2,5,10,20,40]\n",
    "        }\n",
    "    }\n",
    "    classifier_inputs[subscript + ' RandomForest'] = {\n",
    "        'pipeline':Pipeline([('vect', vectorizer),('clf',RandomForestClassifier(\n",
    "            max_depth=None,min_samples_split=2, random_state=0))]),\n",
    "        'dict_params': {\n",
    "            'vect__min_df':[1,2,5,10,20,40],\n",
    "            'clf__n_estimators':[10,20,40,60]\n",
    "        }\n",
    "    }\n",
    "    \n",
    "    classifier_inputs[subscript + ' Logistic'] = {\n",
    "        'pipeline':Pipeline([('vect', vectorizer), ('clf',LogisticRegression())]),\n",
    "        'dict_params': {\n",
    "            'vect__min_df':[1,2,5,10,20,40],\n",
    "            'clf__C':[0.001, 0.01, 0.1, 1, 10, 100, 1000]\n",
    "        }\n",
    "    }\n",
    "    classifier_inputs[subscript + ' SVM'] = {\n",
    "        'pipeline':Pipeline([('vect', vectorizer), ('clf',SVC(probability=True))]),\n",
    "        'dict_params': {\n",
    "            'vect__min_df':[1,2,5,10,20,40],\n",
    "            'clf__C':[0.001, 0.01, 0.1, 1, 10, 100, 1000],\n",
    "            'clf__gamma':[0.001, 0.0001,'auto'],\n",
    "            'clf__kernel':['rbf']\n",
    "        }\n",
    "    }'''\n",
    "    \n",
    "    \n",
    "    return classifier_inputs\n"
   ]
  },
  {
   "cell_type": "code",
   "execution_count": 94,
   "metadata": {
    "collapsed": true
   },
   "outputs": [],
   "source": [
    "def create_classifier_inputs(subscript):\n",
    "    \n",
    "    classifier_input = {}\n",
    "    \n",
    "    \n",
    "    '''classifier_inputs[subscript + ' MultinomialNB'] = {\n",
    "        'pipeline':MultinomialNB(),\n",
    "        'dict_params': {\n",
    "            'alpha': [1.0]\n",
    "        }\n",
    "    }'''\n",
    "    \n",
    "    '''classifier_inputs[subscript + ' Logistic'] = {\n",
    "        'pipeline':LogisticRegression(),\n",
    "        'dict_params': {\n",
    "            'C': [0.001, 0.01, 0.1, 1, 10, 100, 1000]\n",
    "        }\n",
    "    }'''\n",
    "    \n",
    "    '''classifier_inputs[subscript + ' RandomForest'] = {\n",
    "        'pipeline':RandomForestClassifier(\n",
    "            max_depth=None,min_samples_split=2, random_state=0),\n",
    "        'dict_params': {\n",
    "            'n_estimators':[10,20,40,60]\n",
    "        }\n",
    "    }'''\n",
    "    \n",
    "    classifier_inputs[subscript + ' SVM'] = {\n",
    "        'pipeline':SVC(probability=True),\n",
    "        'dict_params': {\n",
    "            'C':[0.001, 0.01, 0.1, 1, 10, 100, 1000],\n",
    "            'gamma':[0.001, 0.0001,'auto'],\n",
    "            'kernel':['rbf']\n",
    "        }\n",
    "    }\n",
    "    \n",
    "    return classifier_inputs"
   ]
  },
  {
   "cell_type": "code",
   "execution_count": 77,
   "metadata": {
    "collapsed": true
   },
   "outputs": [],
   "source": [
    "classifier_results = pd.DataFrame(columns=['accuracy','sensitivity','specificity','auc','conf_matrix','params','model','roc'],index=classifier_inputs.keys())"
   ]
  },
  {
   "cell_type": "markdown",
   "metadata": {},
   "source": [
    "Use the 6 different feature spaces generated from the vectorizers previously above, \n",
    "and train every classifier in classifier_inputs in every feature space"
   ]
  },
  {
   "cell_type": "code",
   "execution_count": 43,
   "metadata": {},
   "outputs": [
    {
     "ename": "NameError",
     "evalue": "name 'create_classifier_inputs_using_vectorizers' is not defined",
     "output_type": "error",
     "traceback": [
      "\u001b[0;31m---------------------------------------------------------------------------\u001b[0m",
      "\u001b[0;31mNameError\u001b[0m                                 Traceback (most recent call last)",
      "\u001b[0;32m<ipython-input-43-b664f44a9c86>\u001b[0m in \u001b[0;36m<module>\u001b[0;34m()\u001b[0m\n\u001b[1;32m      2\u001b[0m \u001b[0;31m#classifier_inputs.update(create_classifier_inputs_using_vectorizers(count_vectorizer_1grams,'count 1grams'))\u001b[0m\u001b[0;34m\u001b[0m\u001b[0;34m\u001b[0m\u001b[0m\n\u001b[1;32m      3\u001b[0m \u001b[0;31m#classifier_inputs.update(create_classifier_inputs_using_vectorizers(count_vectorizer_2grams,'count 2grams'))\u001b[0m\u001b[0;34m\u001b[0m\u001b[0;34m\u001b[0m\u001b[0m\n\u001b[0;32m----> 4\u001b[0;31m \u001b[0mclassifier_inputs\u001b[0m\u001b[0;34m.\u001b[0m\u001b[0mupdate\u001b[0m\u001b[0;34m(\u001b[0m\u001b[0mcreate_classifier_inputs_using_vectorizers\u001b[0m\u001b[0;34m(\u001b[0m\u001b[0mcount_vectorizer_3grams\u001b[0m\u001b[0;34m,\u001b[0m\u001b[0;34m'count 3grams'\u001b[0m\u001b[0;34m)\u001b[0m\u001b[0;34m)\u001b[0m\u001b[0;34m\u001b[0m\u001b[0m\n\u001b[0m\u001b[1;32m      5\u001b[0m \u001b[0;31m#classifier_inputs.update(create_classifier_inputs_using_vectorizers(tfidf_vectorizer_1grams,'tfidf 1grams'))\u001b[0m\u001b[0;34m\u001b[0m\u001b[0;34m\u001b[0m\u001b[0m\n\u001b[1;32m      6\u001b[0m \u001b[0;31m#classifier_inputs.update(create_classifier_inputs_using_vectorizers(tfidf_vectorizer_2grams,'tfidf 2grams'))\u001b[0m\u001b[0;34m\u001b[0m\u001b[0;34m\u001b[0m\u001b[0m\n",
      "\u001b[0;31mNameError\u001b[0m: name 'create_classifier_inputs_using_vectorizers' is not defined"
     ]
    }
   ],
   "source": [
    "classifier_inputs = {}\n",
    "#classifier_inputs.update(create_classifier_inputs_using_vectorizers(count_vectorizer_1grams,'count 1grams'))\n",
    "#classifier_inputs.update(create_classifier_inputs_using_vectorizers(count_vectorizer_2grams,'count 2grams'))\n",
    "classifier_inputs.update(create_classifier_inputs_using_vectorizers(count_vectorizer_3grams,'count 3grams'))\n",
    "#classifier_inputs.update(create_classifier_inputs_using_vectorizers(tfidf_vectorizer_1grams,'tfidf 1grams'))\n",
    "#classifier_inputs.update(create_classifier_inputs_using_vectorizers(tfidf_vectorizer_2grams,'tfidf 2grams'))\n",
    "classifier_inputs.update(create_classifier_inputs_using_vectorizers(tfidf_vectorizer_3grams,'tfidf 3grams'))\n",
    "\n",
    "\n",
    "'''\n",
    "add classifier inputs for custom features\n",
    "gaussiannb\n",
    "QuadraticDiscriminantAnalysis\n",
    "classifier_inputs[subscript + ' GPC'] = {\n",
    "        'pipeline':Pipeline([('vect', vectorizer),('clf',GaussianProcessClassifier())]),\n",
    "        'dict_params': {\n",
    "            'vect__min_df':[1,10],\n",
    "            'clf__kernel':[\n",
    "                1.0*kernels.RBF(1.0),\n",
    "                1.0*kernels.Matern(),\n",
    "                1.0*kernels.RationalQuadratic(),\n",
    "                1.0*kernels.DotProduct()\n",
    "            ]\n",
    "        }\n",
    "    }\n",
    "'''\n",
    "    \n",
    "X = payloads['payload'][:30000] #DEBUG: only first 10k rows\n",
    "Y = payloads['is_malicious'][:30000]\n",
    "\n",
    "for classifier_name, inputs in classifier_inputs.items():\n",
    "    display(inputs['dict_params'])\n",
    "    result_dict = train_model(inputs['pipeline'],inputs['dict_params'],X,Y)\n",
    "    classifier_results.loc[classifier_name] = result_dict\n",
    "    \n",
    "\n",
    "\n",
    "    \n",
    "'''\n",
    "Holmi kör en for loop här som ovan fast X = dina features och ingen pipeline\n",
    "'''\n",
    "\n",
    "#Save classifiers in a pickle file to be able to re-use them without re-training\n",
    "pickle.dump( classifier_results, open( \"data/trained_classifiers.p\", \"wb\" ) )\n",
    "\n",
    "display(classifier_results)"
   ]
  },
  {
   "cell_type": "code",
   "execution_count": null,
   "metadata": {
    "scrolled": false
   },
   "outputs": [
    {
     "data": {
      "text/html": [
       "<div>\n",
       "<table border=\"1\" class=\"dataframe\">\n",
       "  <thead>\n",
       "    <tr style=\"text-align: right;\">\n",
       "      <th></th>\n",
       "      <th>payload</th>\n",
       "      <th>is_malicious</th>\n",
       "      <th>injection_type</th>\n",
       "    </tr>\n",
       "    <tr>\n",
       "      <th>index</th>\n",
       "      <th></th>\n",
       "      <th></th>\n",
       "      <th></th>\n",
       "    </tr>\n",
       "  </thead>\n",
       "  <tbody>\n",
       "    <tr>\n",
       "      <th>0</th>\n",
       "      <td>37662577P</td>\n",
       "      <td>0.0</td>\n",
       "      <td>LEGAL</td>\n",
       "    </tr>\n",
       "    <tr>\n",
       "      <th>1</th>\n",
       "      <td>shirting</td>\n",
       "      <td>0.0</td>\n",
       "      <td>LEGAL</td>\n",
       "    </tr>\n",
       "    <tr>\n",
       "      <th>2</th>\n",
       "      <td>&amp;kw=%27;alert%28%27XSS%27%29;//</td>\n",
       "      <td>1.0</td>\n",
       "      <td>XSS</td>\n",
       "    </tr>\n",
       "    <tr>\n",
       "      <th>3</th>\n",
       "      <td>obeying</td>\n",
       "      <td>0.0</td>\n",
       "      <td>LEGAL</td>\n",
       "    </tr>\n",
       "    <tr>\n",
       "      <th>4</th>\n",
       "      <td>dictating</td>\n",
       "      <td>0.0</td>\n",
       "      <td>LEGAL</td>\n",
       "    </tr>\n",
       "  </tbody>\n",
       "</table>\n",
       "</div>"
      ],
      "text/plain": [
       "                               payload  is_malicious injection_type\n",
       "index                                                              \n",
       "0                            37662577P           0.0          LEGAL\n",
       "1                             shirting           0.0          LEGAL\n",
       "2      &kw=%27;alert%28%27XSS%27%29;//           1.0            XSS\n",
       "3                              obeying           0.0          LEGAL\n",
       "4                            dictating           0.0          LEGAL"
      ]
     },
     "metadata": {},
     "output_type": "display_data"
    },
    {
     "data": {
      "text/plain": [
       "{'alpha': [1.0]}"
      ]
     },
     "metadata": {},
     "output_type": "display_data"
    },
    {
     "name": "stdout",
     "output_type": "stream",
     "text": [
      "Fitting 1 folds for each of 1 candidates, totalling 1 fits\n",
      "[CV] alpha=1.0 .......................................................\n",
      "[CV] ........................ alpha=1.0, score=0.679735, total=   0.1s\n"
     ]
    },
    {
     "name": "stderr",
     "output_type": "stream",
     "text": [
      "[Parallel(n_jobs=1)]: Done   1 out of   1 | elapsed:    0.1s remaining:    0.0s\n",
      "[Parallel(n_jobs=1)]: Done   1 out of   1 | elapsed:    0.1s finished\n"
     ]
    },
    {
     "data": {
      "text/plain": [
       "{'C': [0.001, 0.01, 0.1, 1, 10, 100, 1000]}"
      ]
     },
     "metadata": {},
     "output_type": "display_data"
    },
    {
     "name": "stdout",
     "output_type": "stream",
     "text": [
      "Fitting 1 folds for each of 6 candidates, totalling 6 fits\n",
      "[CV] C=1000 ..........................................................\n",
      "[CV] ........................... C=1000, score=0.891775, total=   0.7s\n",
      "[CV] C=0.1 ...........................................................\n"
     ]
    },
    {
     "name": "stderr",
     "output_type": "stream",
     "text": [
      "[Parallel(n_jobs=1)]: Done   1 out of   1 | elapsed:    0.7s remaining:    0.0s\n"
     ]
    },
    {
     "name": "stdout",
     "output_type": "stream",
     "text": [
      "[CV] ............................ C=0.1, score=0.886805, total=   0.7s\n",
      "[CV] C=10 ............................................................\n"
     ]
    },
    {
     "name": "stderr",
     "output_type": "stream",
     "text": [
      "[Parallel(n_jobs=1)]: Done   2 out of   2 | elapsed:    1.5s remaining:    0.0s\n"
     ]
    },
    {
     "name": "stdout",
     "output_type": "stream",
     "text": [
      "[CV] ............................. C=10, score=0.890812, total=   0.8s\n",
      "[CV] C=0.01 ..........................................................\n"
     ]
    },
    {
     "name": "stderr",
     "output_type": "stream",
     "text": [
      "[Parallel(n_jobs=1)]: Done   3 out of   3 | elapsed:    2.4s remaining:    0.0s\n"
     ]
    },
    {
     "name": "stdout",
     "output_type": "stream",
     "text": [
      "[CV] ........................... C=0.01, score=0.883815, total=   0.4s\n",
      "[CV] C=0.001 .........................................................\n"
     ]
    },
    {
     "name": "stderr",
     "output_type": "stream",
     "text": [
      "[Parallel(n_jobs=1)]: Done   4 out of   4 | elapsed:    2.8s remaining:    0.0s\n"
     ]
    },
    {
     "name": "stdout",
     "output_type": "stream",
     "text": [
      "[CV] .......................... C=0.001, score=0.885335, total=   0.4s\n",
      "[CV] C=100 ...........................................................\n"
     ]
    },
    {
     "name": "stderr",
     "output_type": "stream",
     "text": [
      "[Parallel(n_jobs=1)]: Done   5 out of   5 | elapsed:    3.3s remaining:    0.0s\n"
     ]
    },
    {
     "name": "stdout",
     "output_type": "stream",
     "text": [
      "[CV] ............................ C=100, score=0.886667, total=   0.8s\n"
     ]
    },
    {
     "name": "stderr",
     "output_type": "stream",
     "text": [
      "[Parallel(n_jobs=1)]: Done   6 out of   6 | elapsed:    4.1s remaining:    0.0s\n",
      "[Parallel(n_jobs=1)]: Done   6 out of   6 | elapsed:    4.1s finished\n"
     ]
    },
    {
     "data": {
      "text/plain": [
       "{'n_estimators': [10, 20, 40, 60]}"
      ]
     },
     "metadata": {},
     "output_type": "display_data"
    },
    {
     "name": "stdout",
     "output_type": "stream",
     "text": [
      "Fitting 1 folds for each of 4 candidates, totalling 4 fits\n",
      "[CV] n_estimators=10 .................................................\n",
      "[CV] .................. n_estimators=10, score=0.978898, total=   0.6s\n",
      "[CV] n_estimators=20 .................................................\n"
     ]
    },
    {
     "name": "stderr",
     "output_type": "stream",
     "text": [
      "[Parallel(n_jobs=1)]: Done   1 out of   1 | elapsed:    0.7s remaining:    0.0s\n"
     ]
    },
    {
     "name": "stdout",
     "output_type": "stream",
     "text": [
      "[CV] .................. n_estimators=20, score=0.979862, total=   1.2s\n",
      "[CV] n_estimators=40 .................................................\n"
     ]
    },
    {
     "name": "stderr",
     "output_type": "stream",
     "text": [
      "[Parallel(n_jobs=1)]: Done   2 out of   2 | elapsed:    2.0s remaining:    0.0s\n"
     ]
    },
    {
     "name": "stdout",
     "output_type": "stream",
     "text": [
      "[CV] .................. n_estimators=40, score=0.981830, total=   2.3s\n",
      "[CV] n_estimators=60 .................................................\n"
     ]
    },
    {
     "name": "stderr",
     "output_type": "stream",
     "text": [
      "[Parallel(n_jobs=1)]: Done   3 out of   3 | elapsed:    4.6s remaining:    0.0s\n"
     ]
    },
    {
     "name": "stdout",
     "output_type": "stream",
     "text": [
      "[CV] .................. n_estimators=60, score=0.980564, total=   3.8s\n"
     ]
    },
    {
     "name": "stderr",
     "output_type": "stream",
     "text": [
      "[Parallel(n_jobs=1)]: Done   4 out of   4 | elapsed:    8.8s remaining:    0.0s\n",
      "[Parallel(n_jobs=1)]: Done   4 out of   4 | elapsed:    8.8s finished\n"
     ]
    },
    {
     "data": {
      "text/plain": [
       "{'C': [0.001, 0.01, 0.1, 1, 10, 100, 1000],\n",
       " 'gamma': [0.001, 0.0001, 'auto'],\n",
       " 'kernel': ['rbf']}"
      ]
     },
     "metadata": {},
     "output_type": "display_data"
    },
    {
     "name": "stdout",
     "output_type": "stream",
     "text": [
      "Fitting 1 folds for each of 6 candidates, totalling 6 fits\n",
      "[CV] kernel=rbf, gamma=auto, C=0.001 .................................\n"
     ]
    },
    {
     "name": "stderr",
     "output_type": "stream",
     "text": [
      "/chalmers/users/oskhol/anaconda3/lib/python3.6/site-packages/sklearn/metrics/classification.py:1113: UndefinedMetricWarning: F-score is ill-defined and being set to 0.0 due to no predicted samples.\n",
      "  'precision', 'predicted', average, warn_for)\n"
     ]
    },
    {
     "name": "stdout",
     "output_type": "stream",
     "text": [
      "[CV] .. kernel=rbf, gamma=auto, C=0.001, score=0.000000, total= 6.8min\n",
      "[CV] kernel=rbf, gamma=auto, C=100 ...................................\n"
     ]
    },
    {
     "name": "stderr",
     "output_type": "stream",
     "text": [
      "[Parallel(n_jobs=1)]: Done   1 out of   1 | elapsed:  7.5min remaining:    0.0s\n"
     ]
    },
    {
     "name": "stdout",
     "output_type": "stream",
     "text": [
      "[CV] .... kernel=rbf, gamma=auto, C=100, score=0.963054, total=18.6min\n",
      "[CV] kernel=rbf, gamma=0.0001, C=1000 ................................\n"
     ]
    },
    {
     "name": "stderr",
     "output_type": "stream",
     "text": [
      "[Parallel(n_jobs=1)]: Done   2 out of   2 | elapsed: 26.6min remaining:    0.0s\n"
     ]
    },
    {
     "name": "stdout",
     "output_type": "stream",
     "text": [
      "[CV] . kernel=rbf, gamma=0.0001, C=1000, score=0.954690, total= 1.9min\n",
      "[CV] kernel=rbf, gamma=auto, C=1000 ..................................\n"
     ]
    },
    {
     "name": "stderr",
     "output_type": "stream",
     "text": [
      "[Parallel(n_jobs=1)]: Done   3 out of   3 | elapsed: 28.5min remaining:    0.0s\n"
     ]
    },
    {
     "name": "stdout",
     "output_type": "stream",
     "text": [
      "[CV] ... kernel=rbf, gamma=auto, C=1000, score=0.962165, total=17.0min\n",
      "[CV] kernel=rbf, gamma=0.001, C=1000 .................................\n"
     ]
    },
    {
     "name": "stderr",
     "output_type": "stream",
     "text": [
      "[Parallel(n_jobs=1)]: Done   4 out of   4 | elapsed: 46.1min remaining:    0.0s\n"
     ]
    },
    {
     "name": "stdout",
     "output_type": "stream",
     "text": [
      "[CV] .. kernel=rbf, gamma=0.001, C=1000, score=0.968374, total= 2.3min\n",
      "[CV] kernel=rbf, gamma=auto, C=0.01 ..................................\n"
     ]
    },
    {
     "name": "stderr",
     "output_type": "stream",
     "text": [
      "[Parallel(n_jobs=1)]: Done   5 out of   5 | elapsed: 48.4min remaining:    0.0s\n"
     ]
    }
   ],
   "source": [
    "classifier_inputs_custom = {}\n",
    "\n",
    "classifier_inputs_custom.update(create_classifier_inputs('custom'))\n",
    "\n",
    "\n",
    "Y = payloads['is_malicious']\n",
    "display(payloads.head())\n",
    "#X = create_features(payloads.copy())\n",
    "\n",
    "\n",
    "for classifier_name, inputs in classifier_inputs_custom.items():\n",
    "    display(inputs['dict_params'])\n",
    "    result_dict = train_model(inputs['pipeline'],inputs['dict_params'],X,Y)\n",
    "    classifier_results.loc[classifier_name] = result_dict"
   ]
  },
  {
   "cell_type": "code",
   "execution_count": null,
   "metadata": {},
   "outputs": [],
   "source": [
    "display(classifier_results)"
   ]
  },
  {
   "cell_type": "code",
   "execution_count": 80,
   "metadata": {
    "scrolled": false
   },
   "outputs": [],
   "source": [
    "def create_features(payloads):\n",
    "    features = create_feature_length(payloads)\n",
    "    features = create_feature_non_printable_characters(features)\n",
    "    features = create_feature_punctuation_characters(features)\n",
    "    features = create_feature_max_byte_value(features)\n",
    "    features = create_feature_min_byte_value(features)\n",
    "    features = create_feature_mean_byte_value(features)\n",
    "    features = create_feature_std_byte_value(features)\n",
    "    features = create_feature_distinct_bytes(features)\n",
    "    features = create_feature_sql_keywords(features)\n",
    "    features = create_feature_javascript_keywords(features)\n",
    "    del features['payload']\n",
    "    del features['is_malicious']\n",
    "    del features['injection_type']\n",
    "\n",
    "    return features\n",
    "\n"
   ]
  },
  {
   "cell_type": "code",
   "execution_count": 7,
   "metadata": {},
   "outputs": [
    {
     "data": {
      "text/html": [
       "<div>\n",
       "<table border=\"1\" class=\"dataframe\">\n",
       "  <thead>\n",
       "    <tr style=\"text-align: right;\">\n",
       "      <th></th>\n",
       "      <th>accuracy</th>\n",
       "      <th>sensitivity</th>\n",
       "      <th>specificity</th>\n",
       "      <th>auc</th>\n",
       "      <th>conf_matrix</th>\n",
       "      <th>params</th>\n",
       "      <th>model</th>\n",
       "      <th>roc</th>\n",
       "    </tr>\n",
       "  </thead>\n",
       "  <tbody>\n",
       "    <tr>\n",
       "      <th>tfidf 3grams MLPClassifier</th>\n",
       "      <td>0.991167</td>\n",
       "      <td>0.911321</td>\n",
       "      <td>0.998903</td>\n",
       "      <td>0.99301</td>\n",
       "      <td>[[5464, 6], [47, 483]]</td>\n",
       "      <td>{'clf__momentum': 0, 'vect__min_df': 10, 'clf_...</td>\n",
       "      <td>Pipeline(steps=[('vect', TfidfVectorizer(analy...</td>\n",
       "      <td>{'fpr': [0.0, 0.0, 0.0, 0.0, 0.0, 0.0, 0.0, 0....</td>\n",
       "    </tr>\n",
       "    <tr>\n",
       "      <th>count 3grams MLPClassifier</th>\n",
       "      <td>0.992667</td>\n",
       "      <td>0.920755</td>\n",
       "      <td>0.999634</td>\n",
       "      <td>0.994114</td>\n",
       "      <td>[[5468, 2], [42, 488]]</td>\n",
       "      <td>{'clf__momentum': 0, 'vect__min_df': 1, 'clf__...</td>\n",
       "      <td>Pipeline(steps=[('vect', CountVectorizer(analy...</td>\n",
       "      <td>{'fpr': [0.0, 0.0, 0.0, 0.0, 0.0, 0.0, 0.00018...</td>\n",
       "    </tr>\n",
       "  </tbody>\n",
       "</table>\n",
       "</div>"
      ],
      "text/plain": [
       "                            accuracy sensitivity specificity       auc  \\\n",
       "tfidf 3grams MLPClassifier  0.991167    0.911321    0.998903   0.99301   \n",
       "count 3grams MLPClassifier  0.992667    0.920755    0.999634  0.994114   \n",
       "\n",
       "                                       conf_matrix  \\\n",
       "tfidf 3grams MLPClassifier  [[5464, 6], [47, 483]]   \n",
       "count 3grams MLPClassifier  [[5468, 2], [42, 488]]   \n",
       "\n",
       "                                                                       params  \\\n",
       "tfidf 3grams MLPClassifier  {'clf__momentum': 0, 'vect__min_df': 10, 'clf_...   \n",
       "count 3grams MLPClassifier  {'clf__momentum': 0, 'vect__min_df': 1, 'clf__...   \n",
       "\n",
       "                                                                        model  \\\n",
       "tfidf 3grams MLPClassifier  Pipeline(steps=[('vect', TfidfVectorizer(analy...   \n",
       "count 3grams MLPClassifier  Pipeline(steps=[('vect', CountVectorizer(analy...   \n",
       "\n",
       "                                                                          roc  \n",
       "tfidf 3grams MLPClassifier  {'fpr': [0.0, 0.0, 0.0, 0.0, 0.0, 0.0, 0.0, 0....  \n",
       "count 3grams MLPClassifier  {'fpr': [0.0, 0.0, 0.0, 0.0, 0.0, 0.0, 0.00018...  "
      ]
     },
     "metadata": {},
     "output_type": "display_data"
    }
   ],
   "source": [
    "#OR load classifiers from pickle if already trained\n",
    "classifier_results = pickle.load( open( \"data/trained_classifiers.p\", \"rb\" ) )\n",
    "display(classifier_results)\n"
   ]
  },
  {
   "cell_type": "markdown",
   "metadata": {},
   "source": [
    "# Step5\n",
    "Visualize results. We construct a function visualize_result that can present the performance of each row from classifier_results in a visually appealing way using tables and graphs"
   ]
  },
  {
   "cell_type": "code",
   "execution_count": 14,
   "metadata": {},
   "outputs": [
    {
     "name": "stdout",
     "output_type": "stream",
     "text": [
      "explained variance ratio (first two components): [ 0.00579392  0.00258976]\n"
     ]
    },
    {
     "data": {
      "image/png": "[encoded data removed]",
      "text/plain": [
       "<matplotlib.figure.Figure at 0x7f94729fa780>"
      ]
     },
     "metadata": {},
     "output_type": "display_data"
    },
    {
     "data": {
      "text/plain": [
       "<matplotlib.figure.Figure at 0x7f9472fef908>"
      ]
     },
     "metadata": {},
     "output_type": "display_data"
    }
   ],
   "source": [
    "#PCA\n",
    "from sklearn.decomposition import TruncatedSVD\n",
    "from sklearn.discriminant_analysis import LinearDiscriminantAnalysis\n",
    "\n",
    "tfidf_vectorizer_3grams = TfidfVectorizer(tokenizer=get3Grams)\n",
    "\n",
    "X = tfidf_vectorizer_3grams.fit_transform(payloads['payload'])\n",
    "Y = payloads['is_malicious']\n",
    "\n",
    "pca = TruncatedSVD(n_components=2)\n",
    "X_r = pca.fit(X).transform(X)\n",
    "\n",
    "#lda = LinearDiscriminantAnalysis(n_components=2)\n",
    "#X_r2 = lda.fit(X, Y).transform(X)\n",
    "\n",
    "# Percentage of variance explained for each components\n",
    "print('explained variance ratio (first two components): %s'\n",
    "      % str(pca.explained_variance_ratio_))\n",
    "\n",
    "plt.figure()\n",
    "colors = ['navy', 'turquoise', 'darkorange']\n",
    "lw = 2\n",
    "\n",
    "for color, i, y in zip(colors, [0, 1, 2], Y):\n",
    "    plt.scatter(X_r[Y == i, 0], X_r[Y == i, 1], color=color, alpha=.8, lw=lw,\n",
    "                label=y)\n",
    "plt.legend(loc='best', shadow=False, scatterpoints=1)\n",
    "plt.title('PCA')\n",
    "\n",
    "plt.figure()\n",
    "#for color, i, y in zip(colors, [0, 1, 2], Y):\n",
    "#    plt.scatter(X_r2[Y == i, 0], X_r2[Y == i, 1], alpha=.8, color=color,\n",
    "#                label=y)\n",
    "#plt.legend(loc='best', shadow=False, scatterpoints=1)\n",
    "#plt.title('LDA')\n",
    "\n",
    "plt.show()"
   ]
  },
  {
   "cell_type": "code",
   "execution_count": null,
   "metadata": {
    "collapsed": true
   },
   "outputs": [],
   "source": [
    "import numpy as np\n",
    "import matplotlib.pyplot as plt\n",
    "from sklearn.naive_bayes import GaussianNB\n",
    "from sklearn.svm import SVC\n",
    "from sklearn.datasets import load_digits\n",
    "from sklearn.model_selection import learning_curve\n",
    "from sklearn.model_selection import ShuffleSplit\n",
    "\n",
    "def plot_learning_curve(df_row):\n",
    "    \n",
    "    estimator = df_row['model']\n",
    "    title = 'Learning curves for classifier ' + df_row.name\n",
    "    X = payloads['payload']\n",
    "    Y = payloads['is_malicious']\n",
    "    train_sizes = np.linspace(0.1,1.0,5)\n",
    "    cv = ShuffleSplit(n_splits=10, test_size=0.2, random_state=0)\n",
    "    \n",
    "    \n",
    "\n",
    "    \n",
    "    plt.figure()\n",
    "    plt.title(title)\n",
    "    plt.xlabel(\"Training examples\")\n",
    "    plt.ylabel(\"Score\")\n",
    "    \n",
    "    train_sizes, train_scores, test_scores = learning_curve(\n",
    "        estimator, X, Y, cv=cv, n_jobs=-1, train_sizes=train_sizes)\n",
    "    \n",
    "    train_scores_mean = np.mean(train_scores, axis=1)\n",
    "    train_scores_std = np.std(train_scores, axis=1)\n",
    "    test_scores_mean = np.mean(test_scores, axis=1)\n",
    "    test_scores_std = np.std(test_scores, axis=1)\n",
    "    plt.grid()\n",
    "\n",
    "    plt.fill_between(train_sizes, train_scores_mean - train_scores_std,\n",
    "                     train_scores_mean + train_scores_std, alpha=0.1,\n",
    "                     color=\"r\")\n",
    "    plt.fill_between(train_sizes, test_scores_mean - test_scores_std,\n",
    "                     test_scores_mean + test_scores_std, alpha=0.1, color=\"g\")\n",
    "    plt.plot(train_sizes, train_scores_mean, 'o-', color=\"r\",\n",
    "             label=\"Training score\")\n",
    "    plt.plot(train_sizes, test_scores_mean, 'o-', color=\"g\",\n",
    "             label=\"Cross-validation score\")\n",
    "\n",
    "    plt.legend(loc=\"best\")\n",
    "    plt.show()\n",
    "\n",
    "\n",
    "\n",
    "plot_learning_curve(classifier_results.iloc[1])"
   ]
  },
  {
   "cell_type": "code",
   "execution_count": 72,
   "metadata": {
    "collapsed": true
   },
   "outputs": [],
   "source": [
    "def visualize_result(df_row):\n",
    "    '''Visualizes the results of a classifier\n",
    "    \n",
    "    input - df_row: a dataframe row with columns: ['accuracy','sensitivity','specificity','auc','conf_matrix','params','roc']\n",
    "    '''\n",
    "    \n",
    "    print('Performance for classifier ' + str(df_row.name) + ' with parameters: ' + str(df_row['params']))\n",
    "    print('Accuracy: \\t' + str(df_row['accuracy']))\n",
    "    print('Sensitivity: \\t' + str(df_row['sensitivity']))\n",
    "    print('Specificity: \\t' + str(df_row['specificity']))\n",
    "    print('AUC: \\t' + str(df_row['auc']))\n",
    "    \n",
    "    f, (ax1, ax2) = plt.subplots(1,2)\n",
    "    f.set_figheight(8)\n",
    "    f.set_figwidth(15)\n",
    "    \n",
    "    #Subplot 1, ROC curve\n",
    "    ax1.plot(df_row['roc']['fpr'], df_row['roc']['tpr'])\n",
    "    ax1.set_xlim([0, 1])\n",
    "    ax1.set_ylim([0, 1.0])\n",
    "    ax1.set_title('ROC curve for payload classifier')\n",
    "    ax1.set_xlabel('False Positive Rate (1 - Specificity)')\n",
    "    ax1.set_ylabel('True Positive Rate (Sensitivity)')\n",
    "    ax1.grid(True)\n",
    "    \n",
    "    #subplot 2, ROC curve zoomed\n",
    "    ax2.plot(df_row['roc']['fpr'], df_row['roc']['tpr'])\n",
    "    ax2.set_xlim([0, 0.6])\n",
    "    ax2.set_ylim([0.8, 1.0])\n",
    "    ax2.set_title('ROC curve for payload classifier (Zoomed)')\n",
    "    ax2.set_xlabel('False Positive Rate (1 - Specificity)')\n",
    "    ax2.set_ylabel('True Positive Rate (Sensitivity)')\n",
    "    ax2.grid(True)\n",
    "    plt.show()\n",
    "    \n",
    "    confusion_table = pd.DataFrame(df_row['conf_matrix'], index=['True class = 0','True class = 1'], columns=['Predicted class = 0','Predicted class = 1'])\n",
    "    print('Confusion matrix:')\n",
    "    display(confusion_table)"
   ]
  },
  {
   "cell_type": "markdown",
   "metadata": {},
   "source": [
    "### Result Support Vectore Machine"
   ]
  },
  {
   "cell_type": "code",
   "execution_count": 75,
   "metadata": {},
   "outputs": [
    {
     "name": "stdout",
     "output_type": "stream",
     "text": [
      "Performance for classifier svm with parameters: {'clf__kernel': 'rbf', 'clf__C': 10, 'vect__min_df': 10}\n",
      "Accuracy: \t0.981333333333\n",
      "Sensitivity: \t0.798548094374\n",
      "Specificity: \t0.999816480088\n",
      "AUC: \t0.992037367452\n"
     ]
    },
    {
     "data": {
      "image/png": "[encoded data removed]",
      "text/plain": [
       "<matplotlib.figure.Figure at 0x7fa7714682e8>"
      ]
     },
     "metadata": {},
     "output_type": "display_data"
    },
    {
     "name": "stdout",
     "output_type": "stream",
     "text": [
      "Confusion matrix:\n"
     ]
    },
    {
     "data": {
      "text/html": [
       "<div>\n",
       "<table border=\"1\" class=\"dataframe\">\n",
       "  <thead>\n",
       "    <tr style=\"text-align: right;\">\n",
       "      <th></th>\n",
       "      <th>Predicted class = 0</th>\n",
       "      <th>Predicted class = 1</th>\n",
       "    </tr>\n",
       "  </thead>\n",
       "  <tbody>\n",
       "    <tr>\n",
       "      <th>True class = 0</th>\n",
       "      <td>5448</td>\n",
       "      <td>1</td>\n",
       "    </tr>\n",
       "    <tr>\n",
       "      <th>True class = 1</th>\n",
       "      <td>111</td>\n",
       "      <td>440</td>\n",
       "    </tr>\n",
       "  </tbody>\n",
       "</table>\n",
       "</div>"
      ],
      "text/plain": [
       "                Predicted class = 0  Predicted class = 1\n",
       "True class = 0                 5448                    1\n",
       "True class = 1                  111                  440"
      ]
     },
     "metadata": {},
     "output_type": "display_data"
    }
   ],
   "source": [
    "visualize_result(classifier_results.iloc[1])"
   ]
  },
  {
   "cell_type": "markdown",
   "metadata": {},
   "source": [
    "# (Step6)\n",
    "we can display which types of queries the classifiers failed to classify. These are interesting to examine for further work on how to improve the classifier"
   ]
  },
  {
   "cell_type": "code",
   "execution_count": 38,
   "metadata": {},
   "outputs": [
    {
     "data": {
      "text/plain": [
       "index\n",
       "28660    dojo.io.script.jsonp_dojoIoScript60693._jsonpC...\n",
       "17914                                      127.0.0.1 | id|\n",
       "Name: payload, dtype: object"
      ]
     },
     "metadata": {},
     "output_type": "display_data"
    }
   ],
   "source": [
    "pipe = Pipeline([('vect', vectorizer), ('clf',LogisticRegression(C=10))])\n",
    "X_train, X_test, Y_train, Y_test = train_test_split(X, Y, test_size=0.2, random_state=42)\n",
    "\n",
    "    \n",
    "#perform a grid search for the best parameters on the training data.\n",
    "#Cross validation is made to select the parameters, so the training data is actually split into\n",
    "#a new train data set and a validation data set, K number of times\n",
    "cv = ShuffleSplit(n=len(X_train), n_iter=1, test_size=0.2, random_state=0) #DEBUG: n_iter=10\n",
    "#cv = KFold(n=len(X), n_folds=10)\n",
    "random_grid_search = RandomizedSearchCV(\n",
    "    pipe, \n",
    "    param_distributions={\n",
    "        'clf__C':[10]\n",
    "    },\n",
    "    cv=cv, \n",
    "    scoring='roc_auc', \n",
    "    n_iter=1, \n",
    "    random_state=5,\n",
    "    refit=True\n",
    ")\n",
    "random_grid_search.fit(X_train, Y_train)\n",
    "\n",
    "#Evaluate the best model on the test data\n",
    "Y_test_predicted = random_grid_search.best_estimator_.predict(X_test)\n"
   ]
  },
  {
   "cell_type": "code",
   "execution_count": 45,
   "metadata": {},
   "outputs": [
    {
     "name": "stdout",
     "output_type": "stream",
     "text": [
      "False positives\n",
      "index\n",
      "28660    dojo.io.script.jsonp_dojoIoScript60693._jsonpCallback\n",
      "17914                                          127.0.0.1 | id|\n",
      "Name: payload, dtype: object\n",
      "False negatives\n",
      "index\n",
      "8224                                                                                                                                                    '<'s'v'g' o'n'l'o'a'd'='a'l'e'r't'('7')' '>'\n",
      "250                                                                                                                                                                b'<? popen($_REQUEST[\"c4\"]); ?> '\n",
      "9145                                                                                                                                                                       > XSS | Replacive Fuzzers\n",
      "10000                                                                                                                                                                                           ;id;\n",
      "9817                                                                                                                                                                                     &i=WmYmMm28\n",
      "27166                                                                                                                                                   'create user name identified by 'pass123' --\n",
      "24783                                                                                                                                                         <!--#config timefmt=\"A %B %d %Y %r\"-->\n",
      "22368                                                                                                                                                                                 b'123+1+5-5-1'\n",
      "22836                                                                                            b'<x repeat=\"template\" repeat-start=\"999999\">0<y repeat=\"template\" repeat-start=\"999999\">1</y></x>'\n",
      "4745                                                                                                                                                                                        Data URl\n",
      "6120                                                                                                                                                                  '><object/data=//goo.gl/nlX0P>\n",
      "10145                                                                                                                                                                                   'aaa'<>'bbb'\n",
      "14920                                                                                                                                                                                            %3C\n",
      "29705                                                                                                                                                                                    <plaintext>\n",
      "2951                                                                                                               http://raw.githubusercontent.com/fuzzdb-project/fuzzdb/master/attack/xss/test.xxe\n",
      "6405                                                                                                                                                                         %2e%2e%2f%2e%2e%2ffile'\n",
      "7653       %3Cs%26%2399%3B%26%23114%3Bi%26%23112%3Bt%20s%26%23114%3B%26%2399%3B%3Dht%26%23116%3Bp%3A%2F%2Fx%26%23116%3Bxs%26%2399%3B.cx%2Fxss%2Ejs%3E%3C%2Fs%26%2399%3B%26%23114%3Bi%26%23112%3Bt%3E\n",
      "7031                                                                                                                                                               /%2e%2e%5c%2e%2e%5c%2e%2e%5cfile'\n",
      "1050                                                                                                                                                                                           &p=37\n",
      "11332                                                                                                                                 Redirect 302 /a.jpg http://victimsite.com/admin.asp&deleteuser\n",
      "19084                                                                                                                                                                        ' if(2=2,1,SLEEP(5))--+\n",
      "3452                                                                                                                                                                                        admin\"/*\n",
      "1175                                                                                                                                                                                           <%%%>\n",
      "14686                                                                                                                                                                         b'123K29yKycxJz0nMQ=='\n",
      "9793                                                                                                                                                                                    <x o%6Exxx=1\n",
      "14118    &action=install&name=Offline%20Mail&message=Hi,%20Reddit&icon_src=http%3A%2F%2Fmail.google.com%2Fmail%2Fimages%2F2%2Fmail_icon_48.png&return=https%3A%2F%2Fmail.google.com%2Fmail%2F%23lsci\n",
      "25462                                                                                                                                                           <!--#include file=?UUUUUUUU...UU?-->\n",
      "21118                                                                                                                                            < s c r i p t > p r o m p t ( 1 ) < / s c r i p t >\n",
      "8820                                                                                                                                                                                  1'OR'121'='121\n",
      "12363                                                                                                                                                                       & ping -i 30 127.0.0.1 &\n",
      "6242                                                                                                                                                                String.fromCharCode(0xffff+0x3d)\n",
      "7840                                                                                                                                                                                          admin'\n",
      "16861                                                                                                                                                                                    \"onblur<='`\n",
      "25533                                                                                                                                                                                    b'exec(@s)'\n",
      "24424                                                                                                                                                                                         %2A%7C\n",
      "7475                                                                                                                                    eval((_=!0+(()=>0)+!1)[10]+_[11]+_[3]+_[1]+_[0]+_[4]+1+_[5])\n",
      "Name: payload, dtype: object\n"
     ]
    }
   ],
   "source": [
    "#Payloads classified incorrectly\n",
    "pd.options.display.max_colwidth = 200\n",
    "print('False positives')\n",
    "print(X_test[(Y_test == 0) & (Y_test_predicted == 1)])\n",
    "print('False negatives')\n",
    "print(X_test[(Y_test == 1) & (Y_test_predicted == 0)])"
   ]
  },
  {
   "cell_type": "code",
   "execution_count": 89,
   "metadata": {},
   "outputs": [
    {
     "name": "stdout",
     "output_type": "stream",
     "text": [
      "{'a': 1, 'b': 2}\n"
     ]
    }
   ],
   "source": [
    "a = {'a':1}\n",
    "aa = {'b':2}\n",
    "aaa = {}\n",
    "aaa.update(a)\n",
    "aaa.update(aa)\n",
    "print(aaa)"
   ]
  }
 ],
 "metadata": {
  "kernelspec": {
   "display_name": "Python 3",
   "language": "python",
   "name": "python3"
  },
  "language_info": {
   "codemirror_mode": {
    "name": "ipython",
    "version": 3
   },
   "file_extension": ".py",
   "mimetype": "text/x-python",
   "name": "python",
   "nbconvert_exporter": "python",
   "pygments_lexer": "ipython3",
   "version": "3.5.3"
  }
 },
 "nbformat": 4,
 "nbformat_minor": 2
}
