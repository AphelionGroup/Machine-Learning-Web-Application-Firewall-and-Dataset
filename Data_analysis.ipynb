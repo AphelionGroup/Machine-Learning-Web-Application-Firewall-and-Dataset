{
 "cells": [
  {
   "cell_type": "markdown",
   "metadata": {},
   "source": [
    "# Feature extraction"
   ]
  },
  {
   "cell_type": "markdown",
   "metadata": {},
   "source": [
    "# Step1\n",
    "import dependencies"
   ]
  },
  {
   "cell_type": "code",
   "execution_count": 1,
   "metadata": {},
   "outputs": [
    {
     "name": "stderr",
     "output_type": "stream",
     "text": [
      "/chalmers/users/oskhol/anaconda3/lib/python3.6/site-packages/sklearn/cross_validation.py:44: DeprecationWarning: This module was deprecated in version 0.18 in favor of the model_selection module into which all the refactored classes and functions are moved. Also note that the interface of the new CV iterators are different from that of this module. This module will be removed in 0.20.\n",
      "  \"This module will be removed in 0.20.\", DeprecationWarning)\n"
     ]
    }
   ],
   "source": [
    "import pandas as pd\n",
    "import numpy as np\n",
    "import pickle\n",
    "import matplotlib.pyplot as plt\n",
    "import seaborn\n",
    "import string\n",
    "from IPython.display import display\n",
    "from sklearn.feature_extraction.text import CountVectorizer\n",
    "from sklearn.feature_extraction.text import TfidfVectorizer\n",
    "from sklearn.model_selection import train_test_split\n",
    "from sklearn.model_selection import RandomizedSearchCV\n",
    "from sklearn.model_selection import learning_curve\n",
    "from sklearn.decomposition import TruncatedSVD\n",
    "from sklearn.feature_selection import SelectKBest\n",
    "from sklearn.feature_selection import chi2\n",
    "\n",
    "from sklearn.ensemble import RandomForestClassifier\n",
    "from sklearn.linear_model import LogisticRegression\n",
    "from sklearn.discriminant_analysis import QuadraticDiscriminantAnalysis\n",
    "from sklearn.svm import SVC\n",
    "from sklearn.gaussian_process import GaussianProcessClassifier\n",
    "from sklearn.neural_network import MLPClassifier\n",
    "from sklearn.naive_bayes import MultinomialNB\n",
    "from sklearn.ensemble import AdaBoostClassifier\n",
    "from sklearn.linear_model import SGDClassifier\n",
    "from sklearn.neighbors import NearestNeighbors\n",
    "from sklearn.neighbors.nearest_centroid import NearestCentroid\n",
    "from sklearn.discriminant_analysis import QuadraticDiscriminantAnalysis\n",
    "from sklearn.tree import DecisionTreeClassifier\n",
    "\n",
    "\n",
    "import sklearn.gaussian_process.kernels as kernels\n",
    "\n",
    "from sklearn.cross_validation import ShuffleSplit\n",
    "from sklearn.cross_validation import KFold\n",
    "from sklearn.pipeline import Pipeline\n",
    "from sklearn.metrics import confusion_matrix\n",
    "from sklearn.metrics import roc_curve\n",
    "from sklearn.metrics import roc_auc_score\n",
    "\n",
    "from scipy.stats import expon"
   ]
  },
  {
   "cell_type": "markdown",
   "metadata": {},
   "source": [
    "# Step2\n",
    "load the payloads into memory"
   ]
  },
  {
   "cell_type": "code",
   "execution_count": 2,
   "metadata": {},
   "outputs": [
    {
     "data": {
      "text/html": [
       "<div>\n",
       "<table border=\"1\" class=\"dataframe\">\n",
       "  <thead>\n",
       "    <tr style=\"text-align: right;\">\n",
       "      <th></th>\n",
       "      <th>payload</th>\n",
       "      <th>is_malicious</th>\n",
       "      <th>injection_type</th>\n",
       "    </tr>\n",
       "    <tr>\n",
       "      <th>index</th>\n",
       "      <th></th>\n",
       "      <th></th>\n",
       "      <th></th>\n",
       "    </tr>\n",
       "  </thead>\n",
       "  <tbody>\n",
       "    <tr>\n",
       "      <th>0</th>\n",
       "      <td>37662577P</td>\n",
       "      <td>0.0</td>\n",
       "      <td>LEGAL</td>\n",
       "    </tr>\n",
       "    <tr>\n",
       "      <th>1</th>\n",
       "      <td>shirting</td>\n",
       "      <td>0.0</td>\n",
       "      <td>LEGAL</td>\n",
       "    </tr>\n",
       "    <tr>\n",
       "      <th>2</th>\n",
       "      <td>&amp;kw=%27;alert%28%27XSS%27%29;//</td>\n",
       "      <td>1.0</td>\n",
       "      <td>XSS</td>\n",
       "    </tr>\n",
       "    <tr>\n",
       "      <th>3</th>\n",
       "      <td>obeying</td>\n",
       "      <td>0.0</td>\n",
       "      <td>LEGAL</td>\n",
       "    </tr>\n",
       "    <tr>\n",
       "      <th>4</th>\n",
       "      <td>dictating</td>\n",
       "      <td>0.0</td>\n",
       "      <td>LEGAL</td>\n",
       "    </tr>\n",
       "    <tr>\n",
       "      <th>5</th>\n",
       "      <td>lafleur</td>\n",
       "      <td>0.0</td>\n",
       "      <td>LEGAL</td>\n",
       "    </tr>\n",
       "    <tr>\n",
       "      <th>6</th>\n",
       "      <td>capturers</td>\n",
       "      <td>0.0</td>\n",
       "      <td>LEGAL</td>\n",
       "    </tr>\n",
       "    <tr>\n",
       "      <th>7</th>\n",
       "      <td>8nca58z48</td>\n",
       "      <td>0.0</td>\n",
       "      <td>LEGAL</td>\n",
       "    </tr>\n",
       "    <tr>\n",
       "      <th>8</th>\n",
       "      <td>autocratic</td>\n",
       "      <td>0.0</td>\n",
       "      <td>LEGAL</td>\n",
       "    </tr>\n",
       "    <tr>\n",
       "      <th>9</th>\n",
       "      <td>grocery+warehouses</td>\n",
       "      <td>0.0</td>\n",
       "      <td>LEGAL</td>\n",
       "    </tr>\n",
       "    <tr>\n",
       "      <th>10</th>\n",
       "      <td>Danciel</td>\n",
       "      <td>0.0</td>\n",
       "      <td>LEGAL</td>\n",
       "    </tr>\n",
       "    <tr>\n",
       "      <th>11</th>\n",
       "      <td>Koressa</td>\n",
       "      <td>0.0</td>\n",
       "      <td>LEGAL</td>\n",
       "    </tr>\n",
       "    <tr>\n",
       "      <th>12</th>\n",
       "      <td>bowie0%40showeb-handling.bi</td>\n",
       "      <td>0.0</td>\n",
       "      <td>LEGAL</td>\n",
       "    </tr>\n",
       "    <tr>\n",
       "      <th>13</th>\n",
       "      <td>Auque+Cote</td>\n",
       "      <td>0.0</td>\n",
       "      <td>LEGAL</td>\n",
       "    </tr>\n",
       "    <tr>\n",
       "      <th>14</th>\n",
       "      <td>broadest</td>\n",
       "      <td>0.0</td>\n",
       "      <td>LEGAL</td>\n",
       "    </tr>\n",
       "    <tr>\n",
       "      <th>15</th>\n",
       "      <td>Xaubet+Sorolla</td>\n",
       "      <td>0.0</td>\n",
       "      <td>LEGAL</td>\n",
       "    </tr>\n",
       "    <tr>\n",
       "      <th>16</th>\n",
       "      <td>vocational</td>\n",
       "      <td>0.0</td>\n",
       "      <td>LEGAL</td>\n",
       "    </tr>\n",
       "    <tr>\n",
       "      <th>17</th>\n",
       "      <td>Yemen</td>\n",
       "      <td>0.0</td>\n",
       "      <td>LEGAL</td>\n",
       "    </tr>\n",
       "    <tr>\n",
       "      <th>18</th>\n",
       "      <td>22584</td>\n",
       "      <td>0.0</td>\n",
       "      <td>LEGAL</td>\n",
       "    </tr>\n",
       "    <tr>\n",
       "      <th>19</th>\n",
       "      <td>&lt;BR SIZE=\"&amp;{alert(1)}\"&gt;</td>\n",
       "      <td>1.0</td>\n",
       "      <td>XSS</td>\n",
       "    </tr>\n",
       "    <tr>\n",
       "      <th>20</th>\n",
       "      <td>impaction</td>\n",
       "      <td>0.0</td>\n",
       "      <td>LEGAL</td>\n",
       "    </tr>\n",
       "    <tr>\n",
       "      <th>21</th>\n",
       "      <td>&lt;button onclick=\"window.open('http://xss.cx/::...</td>\n",
       "      <td>1.0</td>\n",
       "      <td>XSS</td>\n",
       "    </tr>\n",
       "    <tr>\n",
       "      <th>22</th>\n",
       "      <td>&lt;IFRAME SRC=\"javascript:alert(\\'XSS\\');\"&gt;&lt;/IFR...</td>\n",
       "      <td>1.0</td>\n",
       "      <td>XSS</td>\n",
       "    </tr>\n",
       "    <tr>\n",
       "      <th>23</th>\n",
       "      <td>03830</td>\n",
       "      <td>0.0</td>\n",
       "      <td>LEGAL</td>\n",
       "    </tr>\n",
       "    <tr>\n",
       "      <th>24</th>\n",
       "      <td>pineapple</td>\n",
       "      <td>0.0</td>\n",
       "      <td>LEGAL</td>\n",
       "    </tr>\n",
       "    <tr>\n",
       "      <th>25</th>\n",
       "      <td>La+Lora+11%2C+</td>\n",
       "      <td>0.0</td>\n",
       "      <td>LEGAL</td>\n",
       "    </tr>\n",
       "    <tr>\n",
       "      <th>26</th>\n",
       "      <td>Pittston</td>\n",
       "      <td>0.0</td>\n",
       "      <td>LEGAL</td>\n",
       "    </tr>\n",
       "    <tr>\n",
       "      <th>27</th>\n",
       "      <td>Aeriela</td>\n",
       "      <td>0.0</td>\n",
       "      <td>LEGAL</td>\n",
       "    </tr>\n",
       "    <tr>\n",
       "      <th>28</th>\n",
       "      <td>Brewster</td>\n",
       "      <td>0.0</td>\n",
       "      <td>LEGAL</td>\n",
       "    </tr>\n",
       "    <tr>\n",
       "      <th>29</th>\n",
       "      <td>doting</td>\n",
       "      <td>0.0</td>\n",
       "      <td>LEGAL</td>\n",
       "    </tr>\n",
       "  </tbody>\n",
       "</table>\n",
       "</div>"
      ],
      "text/plain": [
       "                                                 payload  is_malicious  \\\n",
       "index                                                                    \n",
       "0                                              37662577P           0.0   \n",
       "1                                               shirting           0.0   \n",
       "2                        &kw=%27;alert%28%27XSS%27%29;//           1.0   \n",
       "3                                                obeying           0.0   \n",
       "4                                              dictating           0.0   \n",
       "5                                                lafleur           0.0   \n",
       "6                                              capturers           0.0   \n",
       "7                                              8nca58z48           0.0   \n",
       "8                                             autocratic           0.0   \n",
       "9                                     grocery+warehouses           0.0   \n",
       "10                                               Danciel           0.0   \n",
       "11                                               Koressa           0.0   \n",
       "12                           bowie0%40showeb-handling.bi           0.0   \n",
       "13                                            Auque+Cote           0.0   \n",
       "14                                              broadest           0.0   \n",
       "15                                        Xaubet+Sorolla           0.0   \n",
       "16                                            vocational           0.0   \n",
       "17                                                 Yemen           0.0   \n",
       "18                                                 22584           0.0   \n",
       "19                               <BR SIZE=\"&{alert(1)}\">           1.0   \n",
       "20                                             impaction           0.0   \n",
       "21     <button onclick=\"window.open('http://xss.cx/::...           1.0   \n",
       "22     <IFRAME SRC=\"javascript:alert(\\'XSS\\');\"></IFR...           1.0   \n",
       "23                                                 03830           0.0   \n",
       "24                                             pineapple           0.0   \n",
       "25                                        La+Lora+11%2C+           0.0   \n",
       "26                                              Pittston           0.0   \n",
       "27                                               Aeriela           0.0   \n",
       "28                                              Brewster           0.0   \n",
       "29                                                doting           0.0   \n",
       "\n",
       "      injection_type  \n",
       "index                 \n",
       "0              LEGAL  \n",
       "1              LEGAL  \n",
       "2                XSS  \n",
       "3              LEGAL  \n",
       "4              LEGAL  \n",
       "5              LEGAL  \n",
       "6              LEGAL  \n",
       "7              LEGAL  \n",
       "8              LEGAL  \n",
       "9              LEGAL  \n",
       "10             LEGAL  \n",
       "11             LEGAL  \n",
       "12             LEGAL  \n",
       "13             LEGAL  \n",
       "14             LEGAL  \n",
       "15             LEGAL  \n",
       "16             LEGAL  \n",
       "17             LEGAL  \n",
       "18             LEGAL  \n",
       "19               XSS  \n",
       "20             LEGAL  \n",
       "21               XSS  \n",
       "22               XSS  \n",
       "23             LEGAL  \n",
       "24             LEGAL  \n",
       "25             LEGAL  \n",
       "26             LEGAL  \n",
       "27             LEGAL  \n",
       "28             LEGAL  \n",
       "29             LEGAL  "
      ]
     },
     "metadata": {},
     "output_type": "display_data"
    }
   ],
   "source": [
    "payloads = pd.read_csv(\"data/payloads.csv\",index_col='index')\n",
    "display(payloads.head(30))"
   ]
  },
  {
   "cell_type": "markdown",
   "metadata": {},
   "source": [
    "# Step3\n",
    "feature engineering"
   ]
  },
  {
   "cell_type": "code",
   "execution_count": 3,
   "metadata": {
    "collapsed": true
   },
   "outputs": [],
   "source": [
    "def plot_feature_distribution(features):\n",
    "    print('Properties of feature: ' + features.name)\n",
    "    print(features.describe())\n",
    "    f, ax = plt.subplots(1, figsize=(10, 6))\n",
    "    ax.hist(features, bins=features.max()-features.min()+1, normed=1)\n",
    "    ax.set_xlabel('value')\n",
    "    ax.set_ylabel('fraction')\n",
    "    \n",
    "    plt.show()"
   ]
  },
  {
   "cell_type": "code",
   "execution_count": 21,
   "metadata": {},
   "outputs": [
    {
     "data": {
      "text/html": [
       "<div>\n",
       "<table border=\"1\" class=\"dataframe\">\n",
       "  <thead>\n",
       "    <tr style=\"text-align: right;\">\n",
       "      <th></th>\n",
       "      <th>payload</th>\n",
       "      <th>is_malicious</th>\n",
       "      <th>injection_type</th>\n",
       "      <th>example</th>\n",
       "    </tr>\n",
       "    <tr>\n",
       "      <th>index</th>\n",
       "      <th></th>\n",
       "      <th></th>\n",
       "      <th></th>\n",
       "      <th></th>\n",
       "    </tr>\n",
       "  </thead>\n",
       "  <tbody>\n",
       "    <tr>\n",
       "      <th>0</th>\n",
       "      <td>37662577P</td>\n",
       "      <td>0.0</td>\n",
       "      <td>LEGAL</td>\n",
       "      <td>1</td>\n",
       "    </tr>\n",
       "    <tr>\n",
       "      <th>1</th>\n",
       "      <td>shirting</td>\n",
       "      <td>0.0</td>\n",
       "      <td>LEGAL</td>\n",
       "      <td>1</td>\n",
       "    </tr>\n",
       "    <tr>\n",
       "      <th>2</th>\n",
       "      <td>&amp;kw=%27;alert%28%27XSS%27%29;//</td>\n",
       "      <td>1.0</td>\n",
       "      <td>XSS</td>\n",
       "      <td>1</td>\n",
       "    </tr>\n",
       "    <tr>\n",
       "      <th>3</th>\n",
       "      <td>obeying</td>\n",
       "      <td>0.0</td>\n",
       "      <td>LEGAL</td>\n",
       "      <td>1</td>\n",
       "    </tr>\n",
       "    <tr>\n",
       "      <th>4</th>\n",
       "      <td>dictating</td>\n",
       "      <td>0.0</td>\n",
       "      <td>LEGAL</td>\n",
       "      <td>1</td>\n",
       "    </tr>\n",
       "  </tbody>\n",
       "</table>\n",
       "</div>"
      ],
      "text/plain": [
       "                               payload  is_malicious injection_type  example\n",
       "index                                                                       \n",
       "0                            37662577P           0.0          LEGAL        1\n",
       "1                             shirting           0.0          LEGAL        1\n",
       "2      &kw=%27;alert%28%27XSS%27%29;//           1.0            XSS        1\n",
       "3                              obeying           0.0          LEGAL        1\n",
       "4                            dictating           0.0          LEGAL        1"
      ]
     },
     "metadata": {},
     "output_type": "display_data"
    },
    {
     "name": "stdout",
     "output_type": "stream",
     "text": [
      "Properties of feature: example\n",
      "count    110357.0\n",
      "mean          1.0\n",
      "std           0.0\n",
      "min           1.0\n",
      "25%           1.0\n",
      "50%           1.0\n",
      "75%           1.0\n",
      "max           1.0\n",
      "Name: example, dtype: float64\n"
     ]
    },
    {
     "data": {
      "image/png": "[encoded data removed]",
      "text/plain": [
       "<matplotlib.figure.Figure at 0x7f99edd05470>"
      ]
     },
     "metadata": {},
     "output_type": "display_data"
    }
   ],
   "source": [
    "def create_feature_example(payloads):\n",
    "    '''small description\n",
    "    \n",
    "    longer description\n",
    "    '''\n",
    "    \n",
    "    payloads['example'] = [1 for row in payloads['payload']]\n",
    "    return payloads\n",
    "\n",
    "payloads = create_feature_example(payloads)\n",
    "display(payloads.head())\n",
    "\n",
    "plot_feature_distribution(payloads['example'])"
   ]
  },
  {
   "cell_type": "code",
   "execution_count": 4,
   "metadata": {},
   "outputs": [
    {
     "data": {
      "text/html": [
       "<div>\n",
       "<table border=\"1\" class=\"dataframe\">\n",
       "  <thead>\n",
       "    <tr style=\"text-align: right;\">\n",
       "      <th></th>\n",
       "      <th>payload</th>\n",
       "      <th>is_malicious</th>\n",
       "      <th>injection_type</th>\n",
       "      <th>length</th>\n",
       "    </tr>\n",
       "    <tr>\n",
       "      <th>index</th>\n",
       "      <th></th>\n",
       "      <th></th>\n",
       "      <th></th>\n",
       "      <th></th>\n",
       "    </tr>\n",
       "  </thead>\n",
       "  <tbody>\n",
       "    <tr>\n",
       "      <th>0</th>\n",
       "      <td>37662577P</td>\n",
       "      <td>0.0</td>\n",
       "      <td>LEGAL</td>\n",
       "      <td>9</td>\n",
       "    </tr>\n",
       "    <tr>\n",
       "      <th>1</th>\n",
       "      <td>shirting</td>\n",
       "      <td>0.0</td>\n",
       "      <td>LEGAL</td>\n",
       "      <td>8</td>\n",
       "    </tr>\n",
       "    <tr>\n",
       "      <th>2</th>\n",
       "      <td>&amp;kw=%27;alert%28%27XSS%27%29;//</td>\n",
       "      <td>1.0</td>\n",
       "      <td>XSS</td>\n",
       "      <td>31</td>\n",
       "    </tr>\n",
       "    <tr>\n",
       "      <th>3</th>\n",
       "      <td>obeying</td>\n",
       "      <td>0.0</td>\n",
       "      <td>LEGAL</td>\n",
       "      <td>7</td>\n",
       "    </tr>\n",
       "    <tr>\n",
       "      <th>4</th>\n",
       "      <td>dictating</td>\n",
       "      <td>0.0</td>\n",
       "      <td>LEGAL</td>\n",
       "      <td>9</td>\n",
       "    </tr>\n",
       "  </tbody>\n",
       "</table>\n",
       "</div>"
      ],
      "text/plain": [
       "                               payload  is_malicious injection_type  length\n",
       "index                                                                      \n",
       "0                            37662577P           0.0          LEGAL       9\n",
       "1                             shirting           0.0          LEGAL       8\n",
       "2      &kw=%27;alert%28%27XSS%27%29;//           1.0            XSS      31\n",
       "3                              obeying           0.0          LEGAL       7\n",
       "4                            dictating           0.0          LEGAL       9"
      ]
     },
     "metadata": {},
     "output_type": "display_data"
    },
    {
     "name": "stdout",
     "output_type": "stream",
     "text": [
      "Properties of feature: length\n",
      "count    110357.000000\n",
      "mean         16.559638\n",
      "std          32.108637\n",
      "min           1.000000\n",
      "25%           6.000000\n",
      "50%           9.000000\n",
      "75%          14.000000\n",
      "max         974.000000\n",
      "Name: length, dtype: float64\n"
     ]
    },
    {
     "data": {
      "image/png": "[encoded data removed]",
      "text/plain": [
       "<matplotlib.figure.Figure at 0x7f841feaca20>"
      ]
     },
     "metadata": {},
     "output_type": "display_data"
    }
   ],
   "source": [
    "def create_feature_length(payloads):\n",
    "    '''\n",
    "        Feature describing the lengh of the input\n",
    "    '''\n",
    "    \n",
    "    \n",
    "    payloads['length'] = [len(str(row)) for row in payloads['payload']]\n",
    "    return payloads\n",
    "\n",
    "\n",
    "payloads = create_feature_length(payloads)\n",
    "display(payloads.head())\n",
    "\n",
    "\n",
    "plot_feature_distribution(payloads['length'])\n"
   ]
  },
  {
   "cell_type": "code",
   "execution_count": 5,
   "metadata": {},
   "outputs": [
    {
     "data": {
      "text/html": [
       "<div>\n",
       "<table border=\"1\" class=\"dataframe\">\n",
       "  <thead>\n",
       "    <tr style=\"text-align: right;\">\n",
       "      <th></th>\n",
       "      <th>payload</th>\n",
       "      <th>is_malicious</th>\n",
       "      <th>injection_type</th>\n",
       "      <th>length</th>\n",
       "      <th>non-printable</th>\n",
       "    </tr>\n",
       "    <tr>\n",
       "      <th>index</th>\n",
       "      <th></th>\n",
       "      <th></th>\n",
       "      <th></th>\n",
       "      <th></th>\n",
       "      <th></th>\n",
       "    </tr>\n",
       "  </thead>\n",
       "  <tbody>\n",
       "    <tr>\n",
       "      <th>0</th>\n",
       "      <td>37662577P</td>\n",
       "      <td>0.0</td>\n",
       "      <td>LEGAL</td>\n",
       "      <td>9</td>\n",
       "      <td>0</td>\n",
       "    </tr>\n",
       "    <tr>\n",
       "      <th>1</th>\n",
       "      <td>shirting</td>\n",
       "      <td>0.0</td>\n",
       "      <td>LEGAL</td>\n",
       "      <td>8</td>\n",
       "      <td>0</td>\n",
       "    </tr>\n",
       "    <tr>\n",
       "      <th>2</th>\n",
       "      <td>&amp;kw=%27;alert%28%27XSS%27%29;//</td>\n",
       "      <td>1.0</td>\n",
       "      <td>XSS</td>\n",
       "      <td>31</td>\n",
       "      <td>0</td>\n",
       "    </tr>\n",
       "    <tr>\n",
       "      <th>3</th>\n",
       "      <td>obeying</td>\n",
       "      <td>0.0</td>\n",
       "      <td>LEGAL</td>\n",
       "      <td>7</td>\n",
       "      <td>0</td>\n",
       "    </tr>\n",
       "    <tr>\n",
       "      <th>4</th>\n",
       "      <td>dictating</td>\n",
       "      <td>0.0</td>\n",
       "      <td>LEGAL</td>\n",
       "      <td>9</td>\n",
       "      <td>0</td>\n",
       "    </tr>\n",
       "  </tbody>\n",
       "</table>\n",
       "</div>"
      ],
      "text/plain": [
       "                               payload  is_malicious injection_type  length  \\\n",
       "index                                                                         \n",
       "0                            37662577P           0.0          LEGAL       9   \n",
       "1                             shirting           0.0          LEGAL       8   \n",
       "2      &kw=%27;alert%28%27XSS%27%29;//           1.0            XSS      31   \n",
       "3                              obeying           0.0          LEGAL       7   \n",
       "4                            dictating           0.0          LEGAL       9   \n",
       "\n",
       "       non-printable  \n",
       "index                 \n",
       "0                  0  \n",
       "1                  0  \n",
       "2                  0  \n",
       "3                  0  \n",
       "4                  0  "
      ]
     },
     "metadata": {},
     "output_type": "display_data"
    },
    {
     "name": "stdout",
     "output_type": "stream",
     "text": [
      "Properties of feature: non-printable\n",
      "count    110357.000000\n",
      "mean          0.007412\n",
      "std           0.216736\n",
      "min           0.000000\n",
      "25%           0.000000\n",
      "50%           0.000000\n",
      "75%           0.000000\n",
      "max          30.000000\n",
      "Name: non-printable, dtype: float64\n"
     ]
    },
    {
     "data": {
      "image/png": "[encoded data removed]",
      "text/plain": [
       "<matplotlib.figure.Figure at 0x7f840f122a90>"
      ]
     },
     "metadata": {},
     "output_type": "display_data"
    }
   ],
   "source": [
    "def create_feature_non_printable_characters(payloads):  \n",
    "    '''\n",
    "    Feature\n",
    "    Number of non printable characthers within payload\n",
    "    '''\n",
    "    \n",
    "    payloads['non-printable'] = [ len([1 for letter in str(row) if letter not in string.printable]) for row in payloads['payload']]\n",
    "    return payloads\n",
    "    \n",
    "\n",
    "create_feature_non_printable_characters(payloads)\n",
    "display(payloads.head())\n",
    "    \n",
    "plot_feature_distribution(payloads['non-printable'])\n"
   ]
  },
  {
   "cell_type": "code",
   "execution_count": 6,
   "metadata": {},
   "outputs": [
    {
     "data": {
      "text/html": [
       "<div>\n",
       "<table border=\"1\" class=\"dataframe\">\n",
       "  <thead>\n",
       "    <tr style=\"text-align: right;\">\n",
       "      <th></th>\n",
       "      <th>payload</th>\n",
       "      <th>is_malicious</th>\n",
       "      <th>injection_type</th>\n",
       "      <th>length</th>\n",
       "      <th>non-printable</th>\n",
       "      <th>punctuation</th>\n",
       "    </tr>\n",
       "    <tr>\n",
       "      <th>index</th>\n",
       "      <th></th>\n",
       "      <th></th>\n",
       "      <th></th>\n",
       "      <th></th>\n",
       "      <th></th>\n",
       "      <th></th>\n",
       "    </tr>\n",
       "  </thead>\n",
       "  <tbody>\n",
       "    <tr>\n",
       "      <th>0</th>\n",
       "      <td>37662577P</td>\n",
       "      <td>0.0</td>\n",
       "      <td>LEGAL</td>\n",
       "      <td>9</td>\n",
       "      <td>0</td>\n",
       "      <td>0</td>\n",
       "    </tr>\n",
       "    <tr>\n",
       "      <th>1</th>\n",
       "      <td>shirting</td>\n",
       "      <td>0.0</td>\n",
       "      <td>LEGAL</td>\n",
       "      <td>8</td>\n",
       "      <td>0</td>\n",
       "      <td>0</td>\n",
       "    </tr>\n",
       "    <tr>\n",
       "      <th>2</th>\n",
       "      <td>&amp;kw=%27;alert%28%27XSS%27%29;//</td>\n",
       "      <td>1.0</td>\n",
       "      <td>XSS</td>\n",
       "      <td>31</td>\n",
       "      <td>0</td>\n",
       "      <td>11</td>\n",
       "    </tr>\n",
       "    <tr>\n",
       "      <th>3</th>\n",
       "      <td>obeying</td>\n",
       "      <td>0.0</td>\n",
       "      <td>LEGAL</td>\n",
       "      <td>7</td>\n",
       "      <td>0</td>\n",
       "      <td>0</td>\n",
       "    </tr>\n",
       "    <tr>\n",
       "      <th>4</th>\n",
       "      <td>dictating</td>\n",
       "      <td>0.0</td>\n",
       "      <td>LEGAL</td>\n",
       "      <td>9</td>\n",
       "      <td>0</td>\n",
       "      <td>0</td>\n",
       "    </tr>\n",
       "  </tbody>\n",
       "</table>\n",
       "</div>"
      ],
      "text/plain": [
       "                               payload  is_malicious injection_type  length  \\\n",
       "index                                                                         \n",
       "0                            37662577P           0.0          LEGAL       9   \n",
       "1                             shirting           0.0          LEGAL       8   \n",
       "2      &kw=%27;alert%28%27XSS%27%29;//           1.0            XSS      31   \n",
       "3                              obeying           0.0          LEGAL       7   \n",
       "4                            dictating           0.0          LEGAL       9   \n",
       "\n",
       "       non-printable  punctuation  \n",
       "index                              \n",
       "0                  0            0  \n",
       "1                  0            0  \n",
       "2                  0           11  \n",
       "3                  0            0  \n",
       "4                  0            0  "
      ]
     },
     "metadata": {},
     "output_type": "display_data"
    },
    {
     "name": "stdout",
     "output_type": "stream",
     "text": [
      "Properties of feature: punctuation\n",
      "count    110357.000000\n",
      "mean          2.363729\n",
      "std           9.771260\n",
      "min           0.000000\n",
      "25%           0.000000\n",
      "50%           0.000000\n",
      "75%           1.000000\n",
      "max         538.000000\n",
      "Name: punctuation, dtype: float64\n"
     ]
    },
    {
     "data": {
      "image/png": "[encoded data removed]",
      "text/plain": [
       "<matplotlib.figure.Figure at 0x7f841febf860>"
      ]
     },
     "metadata": {},
     "output_type": "display_data"
    }
   ],
   "source": [
    "def create_feature_punctuation_characters(payloads):\n",
    "    '''\n",
    "    Feature\n",
    "    Number of punctuation characthers within payload\n",
    "    '''\n",
    "    \n",
    "    payloads['punctuation'] = [ len([1 for letter in str(row) if letter in string.punctuation]) for row in payloads['payload']]\n",
    "    return payloads\n",
    "    \n",
    "\n",
    "create_feature_punctuation_characters(payloads)\n",
    "display(payloads.head())\n",
    "    \n",
    "plot_feature_distribution(payloads['punctuation'])"
   ]
  },
  {
   "cell_type": "code",
   "execution_count": 7,
   "metadata": {},
   "outputs": [
    {
     "data": {
      "text/html": [
       "<div>\n",
       "<table border=\"1\" class=\"dataframe\">\n",
       "  <thead>\n",
       "    <tr style=\"text-align: right;\">\n",
       "      <th></th>\n",
       "      <th>payload</th>\n",
       "      <th>is_malicious</th>\n",
       "      <th>injection_type</th>\n",
       "      <th>length</th>\n",
       "      <th>non-printable</th>\n",
       "      <th>punctuation</th>\n",
       "      <th>min-byte</th>\n",
       "    </tr>\n",
       "    <tr>\n",
       "      <th>index</th>\n",
       "      <th></th>\n",
       "      <th></th>\n",
       "      <th></th>\n",
       "      <th></th>\n",
       "      <th></th>\n",
       "      <th></th>\n",
       "      <th></th>\n",
       "    </tr>\n",
       "  </thead>\n",
       "  <tbody>\n",
       "    <tr>\n",
       "      <th>0</th>\n",
       "      <td>37662577P</td>\n",
       "      <td>0.0</td>\n",
       "      <td>LEGAL</td>\n",
       "      <td>9</td>\n",
       "      <td>0</td>\n",
       "      <td>0</td>\n",
       "      <td>50</td>\n",
       "    </tr>\n",
       "    <tr>\n",
       "      <th>1</th>\n",
       "      <td>shirting</td>\n",
       "      <td>0.0</td>\n",
       "      <td>LEGAL</td>\n",
       "      <td>8</td>\n",
       "      <td>0</td>\n",
       "      <td>0</td>\n",
       "      <td>103</td>\n",
       "    </tr>\n",
       "    <tr>\n",
       "      <th>2</th>\n",
       "      <td>&amp;kw=%27;alert%28%27XSS%27%29;//</td>\n",
       "      <td>1.0</td>\n",
       "      <td>XSS</td>\n",
       "      <td>31</td>\n",
       "      <td>0</td>\n",
       "      <td>11</td>\n",
       "      <td>37</td>\n",
       "    </tr>\n",
       "    <tr>\n",
       "      <th>3</th>\n",
       "      <td>obeying</td>\n",
       "      <td>0.0</td>\n",
       "      <td>LEGAL</td>\n",
       "      <td>7</td>\n",
       "      <td>0</td>\n",
       "      <td>0</td>\n",
       "      <td>98</td>\n",
       "    </tr>\n",
       "    <tr>\n",
       "      <th>4</th>\n",
       "      <td>dictating</td>\n",
       "      <td>0.0</td>\n",
       "      <td>LEGAL</td>\n",
       "      <td>9</td>\n",
       "      <td>0</td>\n",
       "      <td>0</td>\n",
       "      <td>97</td>\n",
       "    </tr>\n",
       "  </tbody>\n",
       "</table>\n",
       "</div>"
      ],
      "text/plain": [
       "                               payload  is_malicious injection_type  length  \\\n",
       "index                                                                         \n",
       "0                            37662577P           0.0          LEGAL       9   \n",
       "1                             shirting           0.0          LEGAL       8   \n",
       "2      &kw=%27;alert%28%27XSS%27%29;//           1.0            XSS      31   \n",
       "3                              obeying           0.0          LEGAL       7   \n",
       "4                            dictating           0.0          LEGAL       9   \n",
       "\n",
       "       non-printable  punctuation  min-byte  \n",
       "index                                        \n",
       "0                  0            0        50  \n",
       "1                  0            0       103  \n",
       "2                  0           11        37  \n",
       "3                  0            0        98  \n",
       "4                  0            0        97  "
      ]
     },
     "metadata": {},
     "output_type": "display_data"
    },
    {
     "name": "stdout",
     "output_type": "stream",
     "text": [
      "Properties of feature: min-byte\n",
      "count    110357.000000\n",
      "mean         71.225849\n",
      "std          26.545900\n",
      "min           9.000000\n",
      "25%          48.000000\n",
      "50%          75.000000\n",
      "75%          97.000000\n",
      "max         125.000000\n",
      "Name: min-byte, dtype: float64\n"
     ]
    },
    {
     "data": {
      "image/png": "[encoded data removed]",
      "text/plain": [
       "<matplotlib.figure.Figure at 0x7f840f169240>"
      ]
     },
     "metadata": {},
     "output_type": "display_data"
    }
   ],
   "source": [
    "def create_feature_min_byte_value(payloads):\n",
    "    '''\n",
    "    Feature\n",
    "    Minimum byte value in payload\n",
    "    '''\n",
    "    \n",
    "    payloads['min-byte'] = [ min(bytearray(str(row), 'utf8')) for row in payloads['payload']]\n",
    "    return payloads\n",
    "\n",
    "create_feature_min_byte_value(payloads)\n",
    "display(payloads.head())\n",
    "\n",
    "plot_feature_distribution(payloads['min-byte'])"
   ]
  },
  {
   "cell_type": "code",
   "execution_count": 8,
   "metadata": {},
   "outputs": [
    {
     "data": {
      "text/html": [
       "<div>\n",
       "<table border=\"1\" class=\"dataframe\">\n",
       "  <thead>\n",
       "    <tr style=\"text-align: right;\">\n",
       "      <th></th>\n",
       "      <th>payload</th>\n",
       "      <th>is_malicious</th>\n",
       "      <th>injection_type</th>\n",
       "      <th>length</th>\n",
       "      <th>non-printable</th>\n",
       "      <th>punctuation</th>\n",
       "      <th>min-byte</th>\n",
       "      <th>max-byte</th>\n",
       "    </tr>\n",
       "    <tr>\n",
       "      <th>index</th>\n",
       "      <th></th>\n",
       "      <th></th>\n",
       "      <th></th>\n",
       "      <th></th>\n",
       "      <th></th>\n",
       "      <th></th>\n",
       "      <th></th>\n",
       "      <th></th>\n",
       "    </tr>\n",
       "  </thead>\n",
       "  <tbody>\n",
       "    <tr>\n",
       "      <th>0</th>\n",
       "      <td>37662577P</td>\n",
       "      <td>0.0</td>\n",
       "      <td>LEGAL</td>\n",
       "      <td>9</td>\n",
       "      <td>0</td>\n",
       "      <td>0</td>\n",
       "      <td>50</td>\n",
       "      <td>80</td>\n",
       "    </tr>\n",
       "    <tr>\n",
       "      <th>1</th>\n",
       "      <td>shirting</td>\n",
       "      <td>0.0</td>\n",
       "      <td>LEGAL</td>\n",
       "      <td>8</td>\n",
       "      <td>0</td>\n",
       "      <td>0</td>\n",
       "      <td>103</td>\n",
       "      <td>116</td>\n",
       "    </tr>\n",
       "    <tr>\n",
       "      <th>2</th>\n",
       "      <td>&amp;kw=%27;alert%28%27XSS%27%29;//</td>\n",
       "      <td>1.0</td>\n",
       "      <td>XSS</td>\n",
       "      <td>31</td>\n",
       "      <td>0</td>\n",
       "      <td>11</td>\n",
       "      <td>37</td>\n",
       "      <td>119</td>\n",
       "    </tr>\n",
       "    <tr>\n",
       "      <th>3</th>\n",
       "      <td>obeying</td>\n",
       "      <td>0.0</td>\n",
       "      <td>LEGAL</td>\n",
       "      <td>7</td>\n",
       "      <td>0</td>\n",
       "      <td>0</td>\n",
       "      <td>98</td>\n",
       "      <td>121</td>\n",
       "    </tr>\n",
       "    <tr>\n",
       "      <th>4</th>\n",
       "      <td>dictating</td>\n",
       "      <td>0.0</td>\n",
       "      <td>LEGAL</td>\n",
       "      <td>9</td>\n",
       "      <td>0</td>\n",
       "      <td>0</td>\n",
       "      <td>97</td>\n",
       "      <td>116</td>\n",
       "    </tr>\n",
       "  </tbody>\n",
       "</table>\n",
       "</div>"
      ],
      "text/plain": [
       "                               payload  is_malicious injection_type  length  \\\n",
       "index                                                                         \n",
       "0                            37662577P           0.0          LEGAL       9   \n",
       "1                             shirting           0.0          LEGAL       8   \n",
       "2      &kw=%27;alert%28%27XSS%27%29;//           1.0            XSS      31   \n",
       "3                              obeying           0.0          LEGAL       7   \n",
       "4                            dictating           0.0          LEGAL       9   \n",
       "\n",
       "       non-printable  punctuation  min-byte  max-byte  \n",
       "index                                                  \n",
       "0                  0            0        50        80  \n",
       "1                  0            0       103       116  \n",
       "2                  0           11        37       119  \n",
       "3                  0            0        98       121  \n",
       "4                  0            0        97       116  "
      ]
     },
     "metadata": {},
     "output_type": "display_data"
    },
    {
     "name": "stdout",
     "output_type": "stream",
     "text": [
      "Properties of feature: max-byte\n",
      "count    110357.000000\n",
      "mean        109.495229\n",
      "std          20.327697\n",
      "min          33.000000\n",
      "25%         114.000000\n",
      "50%         116.000000\n",
      "75%         118.000000\n",
      "max         240.000000\n",
      "Name: max-byte, dtype: float64\n"
     ]
    },
    {
     "data": {
      "image/png": "[encoded data removed]",
      "text/plain": [
       "<matplotlib.figure.Figure at 0x7f840f06d400>"
      ]
     },
     "metadata": {},
     "output_type": "display_data"
    }
   ],
   "source": [
    "def create_feature_max_byte_value(payloads):\n",
    "    '''\n",
    "    Feature\n",
    "    Maximum byte value in payload\n",
    "    '''\n",
    "    \n",
    "    payloads['max-byte'] = [ max(bytearray(str(row), 'utf8')) for row in payloads['payload']]\n",
    "    return payloads\n",
    "\n",
    "create_feature_max_byte_value(payloads)\n",
    "display(payloads.head())\n",
    "\n",
    "plot_feature_distribution(payloads['max-byte'])"
   ]
  },
  {
   "cell_type": "code",
   "execution_count": 9,
   "metadata": {},
   "outputs": [
    {
     "data": {
      "text/html": [
       "<div>\n",
       "<table border=\"1\" class=\"dataframe\">\n",
       "  <thead>\n",
       "    <tr style=\"text-align: right;\">\n",
       "      <th></th>\n",
       "      <th>payload</th>\n",
       "      <th>is_malicious</th>\n",
       "      <th>injection_type</th>\n",
       "      <th>length</th>\n",
       "      <th>non-printable</th>\n",
       "      <th>punctuation</th>\n",
       "      <th>min-byte</th>\n",
       "      <th>max-byte</th>\n",
       "      <th>mean-byte</th>\n",
       "    </tr>\n",
       "    <tr>\n",
       "      <th>index</th>\n",
       "      <th></th>\n",
       "      <th></th>\n",
       "      <th></th>\n",
       "      <th></th>\n",
       "      <th></th>\n",
       "      <th></th>\n",
       "      <th></th>\n",
       "      <th></th>\n",
       "      <th></th>\n",
       "    </tr>\n",
       "  </thead>\n",
       "  <tbody>\n",
       "    <tr>\n",
       "      <th>0</th>\n",
       "      <td>37662577P</td>\n",
       "      <td>0.0</td>\n",
       "      <td>LEGAL</td>\n",
       "      <td>9</td>\n",
       "      <td>0</td>\n",
       "      <td>0</td>\n",
       "      <td>50</td>\n",
       "      <td>80</td>\n",
       "      <td>56.333333</td>\n",
       "    </tr>\n",
       "    <tr>\n",
       "      <th>1</th>\n",
       "      <td>shirting</td>\n",
       "      <td>0.0</td>\n",
       "      <td>LEGAL</td>\n",
       "      <td>8</td>\n",
       "      <td>0</td>\n",
       "      <td>0</td>\n",
       "      <td>103</td>\n",
       "      <td>116</td>\n",
       "      <td>109.000000</td>\n",
       "    </tr>\n",
       "    <tr>\n",
       "      <th>2</th>\n",
       "      <td>&amp;kw=%27;alert%28%27XSS%27%29;//</td>\n",
       "      <td>1.0</td>\n",
       "      <td>XSS</td>\n",
       "      <td>31</td>\n",
       "      <td>0</td>\n",
       "      <td>11</td>\n",
       "      <td>37</td>\n",
       "      <td>119</td>\n",
       "      <td>65.806452</td>\n",
       "    </tr>\n",
       "    <tr>\n",
       "      <th>3</th>\n",
       "      <td>obeying</td>\n",
       "      <td>0.0</td>\n",
       "      <td>LEGAL</td>\n",
       "      <td>7</td>\n",
       "      <td>0</td>\n",
       "      <td>0</td>\n",
       "      <td>98</td>\n",
       "      <td>121</td>\n",
       "      <td>107.000000</td>\n",
       "    </tr>\n",
       "    <tr>\n",
       "      <th>4</th>\n",
       "      <td>dictating</td>\n",
       "      <td>0.0</td>\n",
       "      <td>LEGAL</td>\n",
       "      <td>9</td>\n",
       "      <td>0</td>\n",
       "      <td>0</td>\n",
       "      <td>97</td>\n",
       "      <td>116</td>\n",
       "      <td>105.666667</td>\n",
       "    </tr>\n",
       "  </tbody>\n",
       "</table>\n",
       "</div>"
      ],
      "text/plain": [
       "                               payload  is_malicious injection_type  length  \\\n",
       "index                                                                         \n",
       "0                            37662577P           0.0          LEGAL       9   \n",
       "1                             shirting           0.0          LEGAL       8   \n",
       "2      &kw=%27;alert%28%27XSS%27%29;//           1.0            XSS      31   \n",
       "3                              obeying           0.0          LEGAL       7   \n",
       "4                            dictating           0.0          LEGAL       9   \n",
       "\n",
       "       non-printable  punctuation  min-byte  max-byte   mean-byte  \n",
       "index                                                              \n",
       "0                  0            0        50        80   56.333333  \n",
       "1                  0            0       103       116  109.000000  \n",
       "2                  0           11        37       119   65.806452  \n",
       "3                  0            0        98       121  107.000000  \n",
       "4                  0            0        97       116  105.666667  "
      ]
     },
     "metadata": {},
     "output_type": "display_data"
    },
    {
     "name": "stdout",
     "output_type": "stream",
     "text": [
      "Properties of feature: mean-byte\n",
      "count    110357.000000\n",
      "mean         92.514086\n",
      "std          19.323081\n",
      "min          33.000000\n",
      "25%          83.000000\n",
      "50%         101.000000\n",
      "75%         107.000000\n",
      "max         164.000000\n",
      "Name: mean-byte, dtype: float64\n"
     ]
    },
    {
     "data": {
      "image/png": "[encoded data removed]",
      "text/plain": [
       "<matplotlib.figure.Figure at 0x7f840e3cc470>"
      ]
     },
     "metadata": {},
     "output_type": "display_data"
    }
   ],
   "source": [
    "def create_feature_mean_byte_value(payloads):\n",
    "    '''\n",
    "    Feature\n",
    "    Maximum byte value in payload\n",
    "    '''\n",
    "    \n",
    "    payloads['mean-byte'] = [ np.mean(bytearray(str(row), 'utf8')) for row in payloads['payload']]\n",
    "    return payloads\n",
    "\n",
    "create_feature_mean_byte_value(payloads)\n",
    "display(payloads.head())\n",
    "\n",
    "plot_feature_distribution(payloads['mean-byte'].astype(int))"
   ]
  },
  {
   "cell_type": "code",
   "execution_count": 10,
   "metadata": {},
   "outputs": [
    {
     "data": {
      "text/html": [
       "<div>\n",
       "<table border=\"1\" class=\"dataframe\">\n",
       "  <thead>\n",
       "    <tr style=\"text-align: right;\">\n",
       "      <th></th>\n",
       "      <th>payload</th>\n",
       "      <th>is_malicious</th>\n",
       "      <th>injection_type</th>\n",
       "      <th>length</th>\n",
       "      <th>non-printable</th>\n",
       "      <th>punctuation</th>\n",
       "      <th>min-byte</th>\n",
       "      <th>max-byte</th>\n",
       "      <th>mean-byte</th>\n",
       "      <th>std-byte</th>\n",
       "    </tr>\n",
       "    <tr>\n",
       "      <th>index</th>\n",
       "      <th></th>\n",
       "      <th></th>\n",
       "      <th></th>\n",
       "      <th></th>\n",
       "      <th></th>\n",
       "      <th></th>\n",
       "      <th></th>\n",
       "      <th></th>\n",
       "      <th></th>\n",
       "      <th></th>\n",
       "    </tr>\n",
       "  </thead>\n",
       "  <tbody>\n",
       "    <tr>\n",
       "      <th>0</th>\n",
       "      <td>37662577P</td>\n",
       "      <td>0.0</td>\n",
       "      <td>LEGAL</td>\n",
       "      <td>9</td>\n",
       "      <td>0</td>\n",
       "      <td>0</td>\n",
       "      <td>50</td>\n",
       "      <td>80</td>\n",
       "      <td>56.333333</td>\n",
       "      <td>8.537499</td>\n",
       "    </tr>\n",
       "    <tr>\n",
       "      <th>1</th>\n",
       "      <td>shirting</td>\n",
       "      <td>0.0</td>\n",
       "      <td>LEGAL</td>\n",
       "      <td>8</td>\n",
       "      <td>0</td>\n",
       "      <td>0</td>\n",
       "      <td>103</td>\n",
       "      <td>116</td>\n",
       "      <td>109.000000</td>\n",
       "      <td>5.049752</td>\n",
       "    </tr>\n",
       "    <tr>\n",
       "      <th>2</th>\n",
       "      <td>&amp;kw=%27;alert%28%27XSS%27%29;//</td>\n",
       "      <td>1.0</td>\n",
       "      <td>XSS</td>\n",
       "      <td>31</td>\n",
       "      <td>0</td>\n",
       "      <td>11</td>\n",
       "      <td>37</td>\n",
       "      <td>119</td>\n",
       "      <td>65.806452</td>\n",
       "      <td>26.617263</td>\n",
       "    </tr>\n",
       "    <tr>\n",
       "      <th>3</th>\n",
       "      <td>obeying</td>\n",
       "      <td>0.0</td>\n",
       "      <td>LEGAL</td>\n",
       "      <td>7</td>\n",
       "      <td>0</td>\n",
       "      <td>0</td>\n",
       "      <td>98</td>\n",
       "      <td>121</td>\n",
       "      <td>107.000000</td>\n",
       "      <td>7.151423</td>\n",
       "    </tr>\n",
       "    <tr>\n",
       "      <th>4</th>\n",
       "      <td>dictating</td>\n",
       "      <td>0.0</td>\n",
       "      <td>LEGAL</td>\n",
       "      <td>9</td>\n",
       "      <td>0</td>\n",
       "      <td>0</td>\n",
       "      <td>97</td>\n",
       "      <td>116</td>\n",
       "      <td>105.666667</td>\n",
       "      <td>6.599663</td>\n",
       "    </tr>\n",
       "  </tbody>\n",
       "</table>\n",
       "</div>"
      ],
      "text/plain": [
       "                               payload  is_malicious injection_type  length  \\\n",
       "index                                                                         \n",
       "0                            37662577P           0.0          LEGAL       9   \n",
       "1                             shirting           0.0          LEGAL       8   \n",
       "2      &kw=%27;alert%28%27XSS%27%29;//           1.0            XSS      31   \n",
       "3                              obeying           0.0          LEGAL       7   \n",
       "4                            dictating           0.0          LEGAL       9   \n",
       "\n",
       "       non-printable  punctuation  min-byte  max-byte   mean-byte   std-byte  \n",
       "index                                                                         \n",
       "0                  0            0        50        80   56.333333   8.537499  \n",
       "1                  0            0       103       116  109.000000   5.049752  \n",
       "2                  0           11        37       119   65.806452  26.617263  \n",
       "3                  0            0        98       121  107.000000   7.151423  \n",
       "4                  0            0        97       116  105.666667   6.599663  "
      ]
     },
     "metadata": {},
     "output_type": "display_data"
    },
    {
     "name": "stdout",
     "output_type": "stream",
     "text": [
      "Properties of feature: std-byte\n",
      "count    110357.000000\n",
      "mean         12.155649\n",
      "std           9.201210\n",
      "min           0.000000\n",
      "25%           5.000000\n",
      "50%           7.000000\n",
      "75%          20.000000\n",
      "max          75.000000\n",
      "Name: std-byte, dtype: float64\n"
     ]
    },
    {
     "data": {
      "image/png": "[encoded data removed]",
      "text/plain": [
       "<matplotlib.figure.Figure at 0x7f840e1e9780>"
      ]
     },
     "metadata": {},
     "output_type": "display_data"
    }
   ],
   "source": [
    "def create_feature_std_byte_value(payloads):\n",
    "    '''\n",
    "    Feature\n",
    "    Standard deviation byte value in payload\n",
    "    '''\n",
    "    \n",
    "    payloads['std-byte'] = [ np.std(bytearray(str(row), 'utf8')) for row in payloads['payload']]\n",
    "    return payloads\n",
    "\n",
    "create_feature_std_byte_value(payloads)\n",
    "display(payloads.head())\n",
    "\n",
    "plot_feature_distribution(payloads['std-byte'].astype(int))"
   ]
  },
  {
   "cell_type": "code",
   "execution_count": 11,
   "metadata": {
    "scrolled": false
   },
   "outputs": [
    {
     "data": {
      "text/html": [
       "<div>\n",
       "<table border=\"1\" class=\"dataframe\">\n",
       "  <thead>\n",
       "    <tr style=\"text-align: right;\">\n",
       "      <th></th>\n",
       "      <th>payload</th>\n",
       "      <th>is_malicious</th>\n",
       "      <th>injection_type</th>\n",
       "      <th>length</th>\n",
       "      <th>non-printable</th>\n",
       "      <th>punctuation</th>\n",
       "      <th>min-byte</th>\n",
       "      <th>max-byte</th>\n",
       "      <th>mean-byte</th>\n",
       "      <th>std-byte</th>\n",
       "      <th>distinct-bytes</th>\n",
       "    </tr>\n",
       "    <tr>\n",
       "      <th>index</th>\n",
       "      <th></th>\n",
       "      <th></th>\n",
       "      <th></th>\n",
       "      <th></th>\n",
       "      <th></th>\n",
       "      <th></th>\n",
       "      <th></th>\n",
       "      <th></th>\n",
       "      <th></th>\n",
       "      <th></th>\n",
       "      <th></th>\n",
       "    </tr>\n",
       "  </thead>\n",
       "  <tbody>\n",
       "    <tr>\n",
       "      <th>0</th>\n",
       "      <td>37662577P</td>\n",
       "      <td>0.0</td>\n",
       "      <td>LEGAL</td>\n",
       "      <td>9</td>\n",
       "      <td>0</td>\n",
       "      <td>0</td>\n",
       "      <td>50</td>\n",
       "      <td>80</td>\n",
       "      <td>56.333333</td>\n",
       "      <td>8.537499</td>\n",
       "      <td>6</td>\n",
       "    </tr>\n",
       "    <tr>\n",
       "      <th>1</th>\n",
       "      <td>shirting</td>\n",
       "      <td>0.0</td>\n",
       "      <td>LEGAL</td>\n",
       "      <td>8</td>\n",
       "      <td>0</td>\n",
       "      <td>0</td>\n",
       "      <td>103</td>\n",
       "      <td>116</td>\n",
       "      <td>109.000000</td>\n",
       "      <td>5.049752</td>\n",
       "      <td>7</td>\n",
       "    </tr>\n",
       "    <tr>\n",
       "      <th>2</th>\n",
       "      <td>&amp;kw=%27;alert%28%27XSS%27%29;//</td>\n",
       "      <td>1.0</td>\n",
       "      <td>XSS</td>\n",
       "      <td>31</td>\n",
       "      <td>0</td>\n",
       "      <td>11</td>\n",
       "      <td>37</td>\n",
       "      <td>119</td>\n",
       "      <td>65.806452</td>\n",
       "      <td>26.617263</td>\n",
       "      <td>18</td>\n",
       "    </tr>\n",
       "    <tr>\n",
       "      <th>3</th>\n",
       "      <td>obeying</td>\n",
       "      <td>0.0</td>\n",
       "      <td>LEGAL</td>\n",
       "      <td>7</td>\n",
       "      <td>0</td>\n",
       "      <td>0</td>\n",
       "      <td>98</td>\n",
       "      <td>121</td>\n",
       "      <td>107.000000</td>\n",
       "      <td>7.151423</td>\n",
       "      <td>7</td>\n",
       "    </tr>\n",
       "    <tr>\n",
       "      <th>4</th>\n",
       "      <td>dictating</td>\n",
       "      <td>0.0</td>\n",
       "      <td>LEGAL</td>\n",
       "      <td>9</td>\n",
       "      <td>0</td>\n",
       "      <td>0</td>\n",
       "      <td>97</td>\n",
       "      <td>116</td>\n",
       "      <td>105.666667</td>\n",
       "      <td>6.599663</td>\n",
       "      <td>7</td>\n",
       "    </tr>\n",
       "  </tbody>\n",
       "</table>\n",
       "</div>"
      ],
      "text/plain": [
       "                               payload  is_malicious injection_type  length  \\\n",
       "index                                                                         \n",
       "0                            37662577P           0.0          LEGAL       9   \n",
       "1                             shirting           0.0          LEGAL       8   \n",
       "2      &kw=%27;alert%28%27XSS%27%29;//           1.0            XSS      31   \n",
       "3                              obeying           0.0          LEGAL       7   \n",
       "4                            dictating           0.0          LEGAL       9   \n",
       "\n",
       "       non-printable  punctuation  min-byte  max-byte   mean-byte   std-byte  \\\n",
       "index                                                                          \n",
       "0                  0            0        50        80   56.333333   8.537499   \n",
       "1                  0            0       103       116  109.000000   5.049752   \n",
       "2                  0           11        37       119   65.806452  26.617263   \n",
       "3                  0            0        98       121  107.000000   7.151423   \n",
       "4                  0            0        97       116  105.666667   6.599663   \n",
       "\n",
       "       distinct-bytes  \n",
       "index                  \n",
       "0                   6  \n",
       "1                   7  \n",
       "2                  18  \n",
       "3                   7  \n",
       "4                   7  "
      ]
     },
     "metadata": {},
     "output_type": "display_data"
    },
    {
     "name": "stdout",
     "output_type": "stream",
     "text": [
      "Properties of feature: distinct-bytes\n",
      "count    110357.000000\n",
      "mean          9.483087\n",
      "std           7.410797\n",
      "min           1.000000\n",
      "25%           5.000000\n",
      "50%           7.000000\n",
      "75%          10.000000\n",
      "max          76.000000\n",
      "Name: distinct-bytes, dtype: float64\n"
     ]
    },
    {
     "data": {
      "image/png": "[encoded data removed]",
      "text/plain": [
       "<matplotlib.figure.Figure at 0x7f840e504a58>"
      ]
     },
     "metadata": {},
     "output_type": "display_data"
    }
   ],
   "source": [
    "def create_feature_distinct_bytes(payloads):\n",
    "    '''\n",
    "    Feature\n",
    "    Number of distinct bytes in payload\n",
    "    '''\n",
    "    \n",
    "    payloads['distinct-bytes'] = [ len(list(set(bytearray(str(row), 'utf8')))) for row in payloads['payload']]\n",
    "    return payloads\n",
    "\n",
    "create_feature_distinct_bytes(payloads)\n",
    "display(payloads.head())\n",
    "\n",
    "plot_feature_distribution(payloads['distinct-bytes'])"
   ]
  },
  {
   "cell_type": "code",
   "execution_count": 12,
   "metadata": {},
   "outputs": [
    {
     "data": {
      "text/plain": [
       "pandas.core.frame.DataFrame"
      ]
     },
     "metadata": {},
     "output_type": "display_data"
    },
    {
     "data": {
      "text/html": [
       "<div>\n",
       "<table border=\"1\" class=\"dataframe\">\n",
       "  <thead>\n",
       "    <tr style=\"text-align: right;\">\n",
       "      <th></th>\n",
       "      <th>payload</th>\n",
       "      <th>is_malicious</th>\n",
       "      <th>injection_type</th>\n",
       "      <th>length</th>\n",
       "      <th>non-printable</th>\n",
       "      <th>punctuation</th>\n",
       "      <th>min-byte</th>\n",
       "      <th>max-byte</th>\n",
       "      <th>mean-byte</th>\n",
       "      <th>std-byte</th>\n",
       "      <th>distinct-bytes</th>\n",
       "      <th>sql-keywords</th>\n",
       "    </tr>\n",
       "    <tr>\n",
       "      <th>index</th>\n",
       "      <th></th>\n",
       "      <th></th>\n",
       "      <th></th>\n",
       "      <th></th>\n",
       "      <th></th>\n",
       "      <th></th>\n",
       "      <th></th>\n",
       "      <th></th>\n",
       "      <th></th>\n",
       "      <th></th>\n",
       "      <th></th>\n",
       "      <th></th>\n",
       "    </tr>\n",
       "  </thead>\n",
       "  <tbody>\n",
       "    <tr>\n",
       "      <th>0</th>\n",
       "      <td>37662577P</td>\n",
       "      <td>0.0</td>\n",
       "      <td>LEGAL</td>\n",
       "      <td>9</td>\n",
       "      <td>0</td>\n",
       "      <td>0</td>\n",
       "      <td>50</td>\n",
       "      <td>80</td>\n",
       "      <td>56.333333</td>\n",
       "      <td>8.537499</td>\n",
       "      <td>6</td>\n",
       "      <td>0</td>\n",
       "    </tr>\n",
       "    <tr>\n",
       "      <th>1</th>\n",
       "      <td>shirting</td>\n",
       "      <td>0.0</td>\n",
       "      <td>LEGAL</td>\n",
       "      <td>8</td>\n",
       "      <td>0</td>\n",
       "      <td>0</td>\n",
       "      <td>103</td>\n",
       "      <td>116</td>\n",
       "      <td>109.000000</td>\n",
       "      <td>5.049752</td>\n",
       "      <td>7</td>\n",
       "      <td>0</td>\n",
       "    </tr>\n",
       "    <tr>\n",
       "      <th>2</th>\n",
       "      <td>&amp;kw=%27;alert%28%27XSS%27%29;//</td>\n",
       "      <td>1.0</td>\n",
       "      <td>XSS</td>\n",
       "      <td>31</td>\n",
       "      <td>0</td>\n",
       "      <td>11</td>\n",
       "      <td>37</td>\n",
       "      <td>119</td>\n",
       "      <td>65.806452</td>\n",
       "      <td>26.617263</td>\n",
       "      <td>18</td>\n",
       "      <td>0</td>\n",
       "    </tr>\n",
       "    <tr>\n",
       "      <th>3</th>\n",
       "      <td>obeying</td>\n",
       "      <td>0.0</td>\n",
       "      <td>LEGAL</td>\n",
       "      <td>7</td>\n",
       "      <td>0</td>\n",
       "      <td>0</td>\n",
       "      <td>98</td>\n",
       "      <td>121</td>\n",
       "      <td>107.000000</td>\n",
       "      <td>7.151423</td>\n",
       "      <td>7</td>\n",
       "      <td>0</td>\n",
       "    </tr>\n",
       "    <tr>\n",
       "      <th>4</th>\n",
       "      <td>dictating</td>\n",
       "      <td>0.0</td>\n",
       "      <td>LEGAL</td>\n",
       "      <td>9</td>\n",
       "      <td>0</td>\n",
       "      <td>0</td>\n",
       "      <td>97</td>\n",
       "      <td>116</td>\n",
       "      <td>105.666667</td>\n",
       "      <td>6.599663</td>\n",
       "      <td>7</td>\n",
       "      <td>0</td>\n",
       "    </tr>\n",
       "  </tbody>\n",
       "</table>\n",
       "</div>"
      ],
      "text/plain": [
       "                               payload  is_malicious injection_type  length  \\\n",
       "index                                                                         \n",
       "0                            37662577P           0.0          LEGAL       9   \n",
       "1                             shirting           0.0          LEGAL       8   \n",
       "2      &kw=%27;alert%28%27XSS%27%29;//           1.0            XSS      31   \n",
       "3                              obeying           0.0          LEGAL       7   \n",
       "4                            dictating           0.0          LEGAL       9   \n",
       "\n",
       "       non-printable  punctuation  min-byte  max-byte   mean-byte   std-byte  \\\n",
       "index                                                                          \n",
       "0                  0            0        50        80   56.333333   8.537499   \n",
       "1                  0            0       103       116  109.000000   5.049752   \n",
       "2                  0           11        37       119   65.806452  26.617263   \n",
       "3                  0            0        98       121  107.000000   7.151423   \n",
       "4                  0            0        97       116  105.666667   6.599663   \n",
       "\n",
       "       distinct-bytes  sql-keywords  \n",
       "index                                \n",
       "0                   6             0  \n",
       "1                   7             0  \n",
       "2                  18             0  \n",
       "3                   7             0  \n",
       "4                   7             0  "
      ]
     },
     "metadata": {},
     "output_type": "display_data"
    },
    {
     "name": "stdout",
     "output_type": "stream",
     "text": [
      "Properties of feature: sql-keywords\n",
      "count    110357.000000\n",
      "mean          0.196000\n",
      "std           0.671686\n",
      "min           0.000000\n",
      "25%           0.000000\n",
      "50%           0.000000\n",
      "75%           0.000000\n",
      "max          15.000000\n",
      "Name: sql-keywords, dtype: float64\n"
     ]
    },
    {
     "data": {
      "image/png": "[encoded data removed]",
      "text/plain": [
       "<matplotlib.figure.Figure at 0x7f840e451ac8>"
      ]
     },
     "metadata": {},
     "output_type": "display_data"
    }
   ],
   "source": [
    "sql_keywords = pd.read_csv('data/SQLKeywords.txt', index_col=False)\n",
    "\n",
    "def create_feature_sql_keywords(payloads):\n",
    "    \n",
    "    '''\n",
    "    Feature\n",
    "    Number of SQL keywords within payload\n",
    "    '''\n",
    "    payloads['sql-keywords'] = [ len([1 for keyword in sql_keywords['Keyword'] if str(keyword).lower() in str(row).lower()]) for row in payloads['payload']]\n",
    "    return payloads\n",
    "\n",
    "create_feature_sql_keywords(payloads)\n",
    "display(type(sql_keywords))\n",
    "display(payloads.head())\n",
    "plot_feature_distribution(payloads['sql-keywords'])\n",
    "    "
   ]
  },
  {
   "cell_type": "code",
   "execution_count": 13,
   "metadata": {
    "scrolled": false
   },
   "outputs": [
    {
     "data": {
      "text/html": [
       "<div>\n",
       "<table border=\"1\" class=\"dataframe\">\n",
       "  <thead>\n",
       "    <tr style=\"text-align: right;\">\n",
       "      <th></th>\n",
       "      <th>payload</th>\n",
       "      <th>is_malicious</th>\n",
       "      <th>injection_type</th>\n",
       "      <th>length</th>\n",
       "      <th>non-printable</th>\n",
       "      <th>punctuation</th>\n",
       "      <th>min-byte</th>\n",
       "      <th>max-byte</th>\n",
       "      <th>mean-byte</th>\n",
       "      <th>std-byte</th>\n",
       "      <th>distinct-bytes</th>\n",
       "      <th>sql-keywords</th>\n",
       "      <th>js-keywords</th>\n",
       "    </tr>\n",
       "    <tr>\n",
       "      <th>index</th>\n",
       "      <th></th>\n",
       "      <th></th>\n",
       "      <th></th>\n",
       "      <th></th>\n",
       "      <th></th>\n",
       "      <th></th>\n",
       "      <th></th>\n",
       "      <th></th>\n",
       "      <th></th>\n",
       "      <th></th>\n",
       "      <th></th>\n",
       "      <th></th>\n",
       "      <th></th>\n",
       "    </tr>\n",
       "  </thead>\n",
       "  <tbody>\n",
       "    <tr>\n",
       "      <th>0</th>\n",
       "      <td>37662577P</td>\n",
       "      <td>0.0</td>\n",
       "      <td>LEGAL</td>\n",
       "      <td>9</td>\n",
       "      <td>0</td>\n",
       "      <td>0</td>\n",
       "      <td>50</td>\n",
       "      <td>80</td>\n",
       "      <td>56.333333</td>\n",
       "      <td>8.537499</td>\n",
       "      <td>6</td>\n",
       "      <td>0</td>\n",
       "      <td>0</td>\n",
       "    </tr>\n",
       "    <tr>\n",
       "      <th>1</th>\n",
       "      <td>shirting</td>\n",
       "      <td>0.0</td>\n",
       "      <td>LEGAL</td>\n",
       "      <td>8</td>\n",
       "      <td>0</td>\n",
       "      <td>0</td>\n",
       "      <td>103</td>\n",
       "      <td>116</td>\n",
       "      <td>109.000000</td>\n",
       "      <td>5.049752</td>\n",
       "      <td>7</td>\n",
       "      <td>0</td>\n",
       "      <td>1</td>\n",
       "    </tr>\n",
       "    <tr>\n",
       "      <th>2</th>\n",
       "      <td>&amp;kw=%27;alert%28%27XSS%27%29;//</td>\n",
       "      <td>1.0</td>\n",
       "      <td>XSS</td>\n",
       "      <td>31</td>\n",
       "      <td>0</td>\n",
       "      <td>11</td>\n",
       "      <td>37</td>\n",
       "      <td>119</td>\n",
       "      <td>65.806452</td>\n",
       "      <td>26.617263</td>\n",
       "      <td>18</td>\n",
       "      <td>0</td>\n",
       "      <td>1</td>\n",
       "    </tr>\n",
       "    <tr>\n",
       "      <th>3</th>\n",
       "      <td>obeying</td>\n",
       "      <td>0.0</td>\n",
       "      <td>LEGAL</td>\n",
       "      <td>7</td>\n",
       "      <td>0</td>\n",
       "      <td>0</td>\n",
       "      <td>98</td>\n",
       "      <td>121</td>\n",
       "      <td>107.000000</td>\n",
       "      <td>7.151423</td>\n",
       "      <td>7</td>\n",
       "      <td>0</td>\n",
       "      <td>1</td>\n",
       "    </tr>\n",
       "    <tr>\n",
       "      <th>4</th>\n",
       "      <td>dictating</td>\n",
       "      <td>0.0</td>\n",
       "      <td>LEGAL</td>\n",
       "      <td>9</td>\n",
       "      <td>0</td>\n",
       "      <td>0</td>\n",
       "      <td>97</td>\n",
       "      <td>116</td>\n",
       "      <td>105.666667</td>\n",
       "      <td>6.599663</td>\n",
       "      <td>7</td>\n",
       "      <td>0</td>\n",
       "      <td>1</td>\n",
       "    </tr>\n",
       "  </tbody>\n",
       "</table>\n",
       "</div>"
      ],
      "text/plain": [
       "                               payload  is_malicious injection_type  length  \\\n",
       "index                                                                         \n",
       "0                            37662577P           0.0          LEGAL       9   \n",
       "1                             shirting           0.0          LEGAL       8   \n",
       "2      &kw=%27;alert%28%27XSS%27%29;//           1.0            XSS      31   \n",
       "3                              obeying           0.0          LEGAL       7   \n",
       "4                            dictating           0.0          LEGAL       9   \n",
       "\n",
       "       non-printable  punctuation  min-byte  max-byte   mean-byte   std-byte  \\\n",
       "index                                                                          \n",
       "0                  0            0        50        80   56.333333   8.537499   \n",
       "1                  0            0       103       116  109.000000   5.049752   \n",
       "2                  0           11        37       119   65.806452  26.617263   \n",
       "3                  0            0        98       121  107.000000   7.151423   \n",
       "4                  0            0        97       116  105.666667   6.599663   \n",
       "\n",
       "       distinct-bytes  sql-keywords  js-keywords  \n",
       "index                                             \n",
       "0                   6             0            0  \n",
       "1                   7             0            1  \n",
       "2                  18             0            1  \n",
       "3                   7             0            1  \n",
       "4                   7             0            1  "
      ]
     },
     "metadata": {},
     "output_type": "display_data"
    },
    {
     "name": "stdout",
     "output_type": "stream",
     "text": [
      "Properties of feature: js-keywords\n",
      "count    110357.000000\n",
      "mean          0.354975\n",
      "std           0.828371\n",
      "min           0.000000\n",
      "25%           0.000000\n",
      "50%           0.000000\n",
      "75%           0.000000\n",
      "max          16.000000\n",
      "Name: js-keywords, dtype: float64\n"
     ]
    },
    {
     "data": {
      "image/png": "[encoded data removed]",
      "text/plain": [
       "<matplotlib.figure.Figure at 0x7f840e2426d8>"
      ]
     },
     "metadata": {},
     "output_type": "display_data"
    }
   ],
   "source": [
    "js_keywords = pd.read_csv('data/JavascriptKeywords.txt', index_col=False)\n",
    "\n",
    "def create_feature_javascript_keywords(payloads):\n",
    "    '''\n",
    "    Feature\n",
    "    Number of Javascript keywords within payload\n",
    "    '''\n",
    "    \n",
    "    payloads['js-keywords'] = [len([1 for keyword in js_keywords['Keyword'] if str(keyword).lower() in str(row).lower()]) for row in payloads['payload']]\n",
    "    return payloads\n",
    "    \n",
    "\n",
    "create_feature_javascript_keywords(payloads)\n",
    "display(payloads.head())    \n",
    "plot_feature_distribution(payloads['js-keywords'])\n",
    "    \n",
    "    "
   ]
  },
  {
   "cell_type": "markdown",
   "metadata": {},
   "source": [
    "define a function that makes a feature vector from the payload using the custom features"
   ]
  },
  {
   "cell_type": "code",
   "execution_count": 14,
   "metadata": {
    "collapsed": true
   },
   "outputs": [],
   "source": [
    "def create_features(payloads):\n",
    "    features = create_feature_length(payloads)\n",
    "    features = create_feature_non_printable_characters(features)\n",
    "    features = create_feature_punctuation_characters(features)\n",
    "    features = create_feature_max_byte_value(features)\n",
    "    features = create_feature_min_byte_value(features)\n",
    "    features = create_feature_mean_byte_value(features)\n",
    "    features = create_feature_std_byte_value(features)\n",
    "    features = create_feature_distinct_bytes(features)\n",
    "    features = create_feature_sql_keywords(features)\n",
    "    features = create_feature_javascript_keywords(features)\n",
    "    del features['payload']\n",
    "\n",
    "    return features"
   ]
  },
  {
   "cell_type": "markdown",
   "metadata": {},
   "source": [
    "# Scoring custom features"
   ]
  },
  {
   "cell_type": "code",
   "execution_count": 15,
   "metadata": {
    "scrolled": false
   },
   "outputs": [
    {
     "name": "stdout",
     "output_type": "stream",
     "text": [
      "[ 1741947.55319445     8315.00812852  1327640.01843927    11961.95267096\n",
      "   209306.71262799    16750.06417719   202116.21011929   289328.55486197\n",
      "    33370.32829912    51571.75031561]\n",
      "[ 1741947.55     8315.01  1327640.02    11961.95   209306.71    16750.06\n",
      "   202116.21   289328.55    33370.33    51571.75]\n"
     ]
    },
    {
     "data": {
      "text/plain": [
       "['non-printable',\n",
       " 'max-byte',\n",
       " 'mean-byte',\n",
       " 'sql-keywords',\n",
       " 'js-keywords',\n",
       " 'std-byte',\n",
       " 'min-byte',\n",
       " 'distinct-bytes',\n",
       " 'punctuation',\n",
       " 'length']"
      ]
     },
     "metadata": {},
     "output_type": "display_data"
    },
    {
     "data": {
      "text/plain": [
       "['max-byte 8315.00812852',\n",
       " 'sql-keywords 11961.952671',\n",
       " 'std-byte 16750.0641772',\n",
       " 'punctuation 33370.3282991',\n",
       " 'length 51571.7503156',\n",
       " 'min-byte 202116.210119',\n",
       " 'js-keywords 209306.712628',\n",
       " 'distinct-bytes 289328.554862',\n",
       " 'mean-byte 1327640.01844',\n",
       " 'non-printable 1741947.55319']"
      ]
     },
     "metadata": {},
     "output_type": "display_data"
    },
    {
     "data": {
      "image/png": "[encoded data removed]",
      "text/plain": [
       "<matplotlib.figure.Figure at 0x7f844859c518>"
      ]
     },
     "metadata": {},
     "output_type": "display_data"
    }
   ],
   "source": [
    "#print(type(X))\n",
    "Y = payloads['is_malicious']\n",
    "X = create_features(pd.DataFrame(payloads['payload'].copy()))\n",
    "\n",
    "\n",
    "test = SelectKBest(score_func=chi2, k='all')\n",
    "fit = test.fit(X, Y)\n",
    "# summarize scores\n",
    "print(fit.scores_)\n",
    "features = fit.transform(X)\n",
    "# summarize selected features\n",
    "# summarize scores\n",
    "np.set_printoptions(precision=2)\n",
    "print(fit.scores_)\n",
    "\n",
    "# Get the indices sorted by most important to least important\n",
    "indices = np.argsort(fit.scores_)\n",
    "\n",
    "# To get your top 10 feature names\n",
    "featuress = []\n",
    "for i in range(10):\n",
    "    featuress.append(X.columns[indices[i]])\n",
    "\n",
    "display(featuress)\n",
    "#display(fit.scores_[indices[range(10)]])\n",
    "display([featuress[i] + ' ' + str(fit.scores_[i]) for i in indices[range(10)]])\n",
    "# Now plot\n",
    "#plt.figure()\n",
    "#plt.bar(featuress, fit.scores_[indices[range(10)]], 1751999)\n",
    "#plt.show()\n",
    "\n",
    "plt.rcdefaults()\n",
    "fig, ax = plt.subplots()\n",
    "\n",
    "y_pos = np.arange(len(featuress))\n",
    "performance = 3 + 10 * np.random.rand(len(featuress))\n",
    "error = np.random.rand(len(featuress))\n",
    "\n",
    "ax.barh(y_pos, fit.scores_[indices[range(10)]],  align='center',\n",
    "        color='green', ecolor='black')\n",
    "ax.set_yticks(y_pos)\n",
    "ax.set_yticklabels(featuress)\n",
    "ax.set_xscale('log')\n",
    "\n",
    "#ax.invert_yaxis()  # labels read top-to-bottom\n",
    "ax.set_xlabel('Points')\n",
    "ax.set_title('SelectKBest()')\n",
    "\n",
    "plt.show()\n",
    "\n",
    "\n",
    "\n",
    "\n",
    "\n"
   ]
  },
  {
   "cell_type": "markdown",
   "metadata": {},
   "source": [
    "# Step3 B\n",
    "Feature engineering using bag of words techniques.  \n",
    "The following vectorizers below is another way of creating features for text input.\n",
    "We will test the performance of these techniques independently from our custom features in Step 3A.\n",
    "We will create vectorizers of these combinations:\n",
    "- 1-grams CountVectorizer\n",
    "- 2-grams CountVectorizer\n",
    "- 3-grams CountVectorizer\n",
    "- 1-grams TfidfVectorizer\n",
    "- 2-grams TfidfVectorizer\n",
    "- 3-grams TfidfVectorizer\n",
    "\n",
    "The type of N-gram function determines how the actual \"words\" should be created from the payload string  \n",
    "Each vectorizer is used later in Step4 in Pipeline objects before training"
   ]
  },
  {
   "cell_type": "markdown",
   "metadata": {},
   "source": [
    "### 1-Grams features\n",
    "create a Countvectorizer and TF-IDFvectorizer that uses 1-grams.  \n",
    "1-grams equals one feature for each letter/symbol recorded"
   ]
  },
  {
   "cell_type": "code",
   "execution_count": 18,
   "metadata": {
    "collapsed": true
   },
   "outputs": [],
   "source": [
    "def get1Grams(payload_obj):\n",
    "    '''Divides a string into 1-grams\n",
    "    \n",
    "    Example: input - payload: \"<script>\"\n",
    "             output- [\"<\",\"s\",\"c\",\"r\",\"i\",\"p\",\"t\",\">\"]\n",
    "    '''\n",
    "    payload = str(payload_obj)\n",
    "    ngrams = []\n",
    "    for i in range(0,len(payload)-1):\n",
    "        ngrams.append(payload[i:i+1])\n",
    "    return ngrams\n",
    "\n",
    "tfidf_vectorizer_1grams = TfidfVectorizer(tokenizer=get1Grams)\n",
    "count_vectorizer_1grams = CountVectorizer(min_df=1, tokenizer=get1Grams)"
   ]
  },
  {
   "cell_type": "markdown",
   "metadata": {},
   "source": [
    "### 2-Grams features\n",
    "create a Countvectorizer and TF-IDFvectorizer that uses 2-grams.  "
   ]
  },
  {
   "cell_type": "code",
   "execution_count": 19,
   "metadata": {
    "collapsed": true
   },
   "outputs": [],
   "source": [
    "def get2Grams(payload_obj):\n",
    "    '''Divides a string into 2-grams\n",
    "    \n",
    "    Example: input - payload: \"<script>\"\n",
    "             output- [\"<s\",\"sc\",\"cr\",\"ri\",\"ip\",\"pt\",\"t>\"]\n",
    "    '''\n",
    "    payload = str(payload_obj)\n",
    "    ngrams = []\n",
    "    for i in range(0,len(payload)-2):\n",
    "        ngrams.append(payload[i:i+2])\n",
    "    return ngrams\n",
    "\n",
    "tfidf_vectorizer_2grams = TfidfVectorizer(tokenizer=get2Grams)\n",
    "count_vectorizer_2grams = CountVectorizer(min_df=1, tokenizer=get2Grams)"
   ]
  },
  {
   "cell_type": "markdown",
   "metadata": {},
   "source": [
    "### 3-Grams features\n",
    "Create a Countvectorizer and TF-IDFvectorizer that uses 3-grams"
   ]
  },
  {
   "cell_type": "code",
   "execution_count": 20,
   "metadata": {
    "collapsed": true
   },
   "outputs": [],
   "source": [
    "def get3Grams(payload_obj):\n",
    "    '''Divides a string into 3-grams\n",
    "    \n",
    "    Example: input - payload: \"<script>\"\n",
    "             output- [\"<sc\",\"scr\",\"cri\",\"rip\",\"ipt\",\"pt>\"]\n",
    "    '''\n",
    "    payload = str(payload_obj)\n",
    "    ngrams = []\n",
    "    for i in range(0,len(payload)-3):\n",
    "        ngrams.append(payload[i:i+3])\n",
    "    return ngrams\n",
    "\n",
    "tfidf_vectorizer_3grams = TfidfVectorizer(tokenizer=get3Grams)\n",
    "count_vectorizer_3grams = CountVectorizer(min_df=1, tokenizer=get3Grams)"
   ]
  },
  {
   "cell_type": "markdown",
   "metadata": {},
   "source": [
    "## Step 3C - Feature space visualization\n",
    "After creating our different feature spaces to later train each classifier on,  \n",
    "we first examine them visually by projecting the feature spaces into two dimensions using Principle Component Analysis  \n",
    "Graphs are shown below displaying the data in 3 out of 7 of our feature spaces"
   ]
  },
  {
   "cell_type": "code",
   "execution_count": 5,
   "metadata": {
    "collapsed": true
   },
   "outputs": [],
   "source": [
    "def visualize_feature_space_by_projection(X,Y):\n",
    "    pca = TruncatedSVD(n_components=2)\n",
    "    X_r = pca.fit(X).transform(X)\n",
    "\n",
    "    # Percentage of variance explained for each components\n",
    "    print('explained variance ratio (first two components): %s'\n",
    "          % str(pca.explained_variance_ratio_))\n",
    "\n",
    "    plt.figure()\n",
    "    colors = ['blue', 'darkorange']\n",
    "    lw = 2\n",
    "\n",
    "    for color, i, y in zip(colors, [0, 1], Y):\n",
    "        plt.scatter(X_r[Y == i, 0], X_r[Y == i, 1], color=color, alpha=.3, lw=lw,\n",
    "                    label=i)\n",
    "    plt.legend(loc='best', shadow=False, scatterpoints=1)\n",
    "    plt.title('PCA')\n",
    "    plt.show()"
   ]
  },
  {
   "cell_type": "markdown",
   "metadata": {},
   "source": [
    "### 1-Grams CountVectorizer feature space visualization"
   ]
  },
  {
   "cell_type": "code",
   "execution_count": 39,
   "metadata": {},
   "outputs": [
    {
     "name": "stdout",
     "output_type": "stream",
     "text": [
      "explained variance ratio (first two components): [ 0.26506858  0.22575119]\n"
     ]
    },
    {
     "data": {
      "image/png": "[encoded data removed]",
      "text/plain": [
       "<matplotlib.figure.Figure at 0x29893920240>"
      ]
     },
     "metadata": {},
     "output_type": "display_data"
    }
   ],
   "source": [
    "X = count_vectorizer_1grams.fit_transform(payloads['payload'])\n",
    "Y = payloads['is_malicious']\n",
    "visualize_feature_space_by_projection(X,Y)"
   ]
  },
  {
   "cell_type": "markdown",
   "metadata": {},
   "source": [
    "### 3-Grams TFIDFVectorizer feature space visualization"
   ]
  },
  {
   "cell_type": "code",
   "execution_count": 38,
   "metadata": {},
   "outputs": [
    {
     "name": "stdout",
     "output_type": "stream",
     "text": [
      "explained variance ratio (first two components): [ 0.00579368  0.0025907 ]\n"
     ]
    },
    {
     "data": {
      "image/png": "[encoded data removed]",
      "text/plain": [
       "<matplotlib.figure.Figure at 0x2989368db70>"
      ]
     },
     "metadata": {},
     "output_type": "display_data"
    }
   ],
   "source": [
    "X = tfidf_vectorizer_3grams.fit_transform(payloads['payload'])\n",
    "Y = payloads['is_malicious']\n",
    "visualize_feature_space_by_projection(X,Y)"
   ]
  },
  {
   "cell_type": "markdown",
   "metadata": {},
   "source": [
    "### Custom feature space visualization"
   ]
  },
  {
   "cell_type": "code",
   "execution_count": 66,
   "metadata": {},
   "outputs": [
    {
     "name": "stdout",
     "output_type": "stream",
     "text": [
      "explained variance ratio (first two components): [ 0.34120191  0.49034151]\n"
     ]
    },
    {
     "data": {
      "image/png": "[encoded data removed]",
      "text/plain": [
       "<matplotlib.figure.Figure at 0x29897189f98>"
      ]
     },
     "metadata": {},
     "output_type": "display_data"
    }
   ],
   "source": [
    "X = create_features(payloads.copy())\n",
    "Y = payloads['is_malicious']\n",
    "visualize_feature_space_by_projection(X,Y)"
   ]
  },
  {
   "cell_type": "markdown",
   "metadata": {},
   "source": [
    "#  Step4\n",
    "Model selection and evaluation"
   ]
  },
  {
   "cell_type": "markdown",
   "metadata": {},
   "source": [
    "First, we will automate hyperparameter tuning and out of sample testing using train_model below"
   ]
  },
  {
   "cell_type": "code",
   "execution_count": 34,
   "metadata": {
    "collapsed": true
   },
   "outputs": [],
   "source": [
    "def train_model(clf, param_grid, X, Y):\n",
    "    '''Trains and evaluates the model clf from input\n",
    "    \n",
    "    The function selects the best model of clf by optimizing for the validation data,\n",
    "    then evaluates its performance using the out of sample test data.\n",
    "    \n",
    "    input - clf: the model to train\n",
    "            param_grid: a dict of hyperparameters to use for optimization\n",
    "            X: features\n",
    "            Y: labels\n",
    "    \n",
    "    output - the best estimator (trained model)\n",
    "             the confusion matrix from classifying the test data\n",
    "    '''\n",
    "    \n",
    "    #First, partition into train and test data\n",
    "    X_train, X_test, Y_train, Y_test = train_test_split(X, Y, test_size=0.2, random_state=42)\n",
    "\n",
    "    n_iter = 10\n",
    "    #If number of possible iterations are less than prefered number of iterations, \n",
    "    #set it to the number of possible iterations\n",
    "    #number of possible iterations are not less than prefered number of iterations if any argument is expon()\n",
    "    #because expon() is continous (writing 100 instead, could be any large number)\n",
    "    n_iter = min(n_iter,np.prod([\n",
    "        100 if type(xs) == type(expon()) \n",
    "        else len(xs) \n",
    "        for xs in param_grid.values()\n",
    "    ]))\n",
    "    \n",
    "    #perform a grid search for the best parameters on the training data.\n",
    "    #Cross validation is made to select the parameters, so the training data is actually split into\n",
    "    #a new train data set and a validation data set, K number of times\n",
    "    cv = ShuffleSplit(n=len(X_train), n_iter=5, test_size=0.2, random_state=0) #DEBUG: n_iter=10\n",
    "    #cv = KFold(n=len(X), n_folds=10)\n",
    "    random_grid_search = RandomizedSearchCV(\n",
    "        clf, \n",
    "        param_distributions=param_grid,\n",
    "        cv=cv, \n",
    "        scoring='f1', \n",
    "        n_iter=n_iter, #DEBUG 1 \n",
    "        random_state=5,\n",
    "        refit=True,\n",
    "        verbose=10\n",
    "    )\n",
    "    \n",
    "    '''Randomized search used instead. We have limited computing power\n",
    "    grid_search = GridSearchCV(\n",
    "        clf,\n",
    "        param_grid=param_grid,\n",
    "        cv=cv,\n",
    "        scoring='f1', #accuracy/f1/f1_weighted all give same result?\n",
    "        verbose=10,\n",
    "        n_jobs=-1\n",
    "    )\n",
    "    grid_search.fit(X_train, Y_train)\n",
    "    '''\n",
    "    random_grid_search.fit(X_train, Y_train)\n",
    "    \n",
    "    #Evaluate the best model on the test data\n",
    "    Y_test_predicted = random_grid_search.best_estimator_.predict(X_test)\n",
    "    Y_test_predicted_prob = random_grid_search.best_estimator_.predict_proba(X_test)[:, 1]\n",
    "\n",
    "    confusion = confusion_matrix(Y_test, Y_test_predicted)\n",
    "    TP = confusion[1, 1]\n",
    "    TN = confusion[0, 0]\n",
    "    FP = confusion[0, 1]\n",
    "    FN = confusion[1, 0]\n",
    "\n",
    "    #Calculate recall (sensitivity) from confusion matrix\n",
    "    sensitivity = TP / float(TP + FN)\n",
    "    \n",
    "    #Calculate specificity from confusion matrix\n",
    "    specificity = TN / float(TN + FP)\n",
    "\n",
    "    #Calculate accuracy\n",
    "    accuracy = (confusion[0][0] + confusion[1][1]) / (confusion.sum().sum())\n",
    "    \n",
    "    #Calculate axes of ROC curve\n",
    "    fpr, tpr, thresholds = roc_curve(Y_test, Y_test_predicted_prob)\n",
    "    \n",
    "    #Area under the ROC curve\n",
    "    auc = roc_auc_score(Y_test, Y_test_predicted_prob)\n",
    "\n",
    "    return {\n",
    "        'conf_matrix':confusion, \n",
    "        'accuracy':accuracy, \n",
    "        'sensitivity':sensitivity,\n",
    "        'specificity':specificity,\n",
    "        'auc':auc,\n",
    "        'params':random_grid_search.best_params_,\n",
    "        'model':random_grid_search.best_estimator_,\n",
    "        'roc':{'fpr':fpr,'tpr':tpr,'thresholds':thresholds}\n",
    "    }\n"
   ]
  },
  {
   "cell_type": "markdown",
   "metadata": {},
   "source": [
    "Then, we will use the train_model function to train, optimize and retrieve out of sample testing results from a range of classifiers.\n",
    "These are the classifiers we will evaluate the performance on:\n",
    " - Logistic Regression\n",
    " - Support Vector Machine\n",
    " - Random forest\n",
    " - Decision Tree\n",
    " - Gaussian Naive Bayes\n",
    " - ...  \n",
    " And all their best parameters with their performance is stored in a dataframe called classifier_results"
   ]
  },
  {
   "cell_type": "code",
   "execution_count": 55,
   "metadata": {},
   "outputs": [
    {
     "ename": "SyntaxError",
     "evalue": "invalid syntax (<ipython-input-55-b81a95f58991>, line 22)",
     "output_type": "error",
     "traceback": [
      "\u001b[0;36m  File \u001b[0;32m\"<ipython-input-55-b81a95f58991>\"\u001b[0;36m, line \u001b[0;32m22\u001b[0m\n\u001b[0;31m    'clf__hidden_layer_sizes':[(100,10)],\u001b[0m\n\u001b[0m                            ^\u001b[0m\n\u001b[0;31mSyntaxError\u001b[0m\u001b[0;31m:\u001b[0m invalid syntax\n"
     ]
    }
   ],
   "source": [
    "def create_classifier_inputs_using_vectorizers(vectorizer, subscript):\n",
    "    '''make pipelines of the specified vectorizer with the classifiers to train\n",
    "    \n",
    "    input - vectorizer: the vectorizer to add to the pipelines\n",
    "            subscript:  subscript name for the dictionary key\n",
    "            \n",
    "    output - A dict of inputs to use for train_model(); a pipeline and a dict of params to optimize\n",
    "    '''\n",
    "    \n",
    "    classifier_inputs = {}\n",
    "    \n",
    "    classifier_inputs[subscript + ' MLPClassifier'] = {\n",
    "        'pipeline':Pipeline([('vect', vectorizer),('clf',MLPClassifier(\n",
    "            activation='relu',\n",
    "            solver='adam',\n",
    "            early_stopping=False,\n",
    "            verbose=True\n",
    "            \n",
    "        ))]),\n",
    "        'dict_params': {\n",
    "            'vect__min_df':[1,2,5,10,20,40],\n",
    "            'clf__hidden_layer_sizes':[(100,10)],\n",
    "            'clf__alpha':[0.0005,0.001,0.01,0.1,1],\n",
    "            'clf__learning_rate':['constant','invscaling'],\n",
    "            'clf__learning_rate_init':[0.0005,0.001,0.01,0.1,1],\n",
    "            'clf__momentum':[0,0.9],\n",
    "        }\n",
    "    }\n",
    "    classifier_inputs[subscript + ' MultinomialNB'] = {\n",
    "        'pipeline':Pipeline([('vect', vectorizer),('clf',MultinomialNB())]),\n",
    "        'dict_params': {\n",
    "            'vect__min_df':[1,2,5,10,20,40]\n",
    "        }\n",
    "    }\n",
    "    classifier_inputs[subscript + ' RandomForest'] = {\n",
    "        'pipeline':Pipeline([('vect', vectorizer),('clf',RandomForestClassifier(\n",
    "            max_depth=None,min_samples_split=2, random_state=0))]),\n",
    "        'dict_params': {\n",
    "            'vect__min_df':[1,2,5,10,20,40],\n",
    "            'clf__n_estimators':[10,20,40,60]\n",
    "        }\n",
    "    }\n",
    "    classifier_inputs[subscript + ' Logistic'] = {\n",
    "        'pipeline':Pipeline([('vect', vectorizer), ('clf',LogisticRegression())]),\n",
    "        'dict_params': {\n",
    "            'vect__min_df':[1,2,5,10,20,40],\n",
    "            'clf__C':[0.001, 0.01, 0.1, 1, 10, 100, 1000]\n",
    "        }\n",
    "    }\n",
    "    classifier_inputs[subscript + ' SVM'] = {\n",
    "        'pipeline':Pipeline([('vect', vectorizer), ('clf',SVC(probability=True))]),\n",
    "        'dict_params': {\n",
    "            'vect__min_df':[1,2,5,10,20,40],\n",
    "            'clf__C':[0.001, 0.01, 0.1, 1, 10, 100, 1000],\n",
    "            'clf__gamma':[0.001, 0.0001,'auto'],\n",
    "            'clf__kernel':['rbf']\n",
    "        }\n",
    "    }\n",
    "    \n",
    "    \n",
    "    return classifier_inputs\n"
   ]
  },
  {
   "cell_type": "code",
   "execution_count": 49,
   "metadata": {},
   "outputs": [],
   "source": [
    "def create_classifier_inputs(subscript):\n",
    "    \n",
    "    classifier_inputs = {}\n",
    "    \n",
    "    \n",
    "    '''classifier_inputs[subscript + ' GPC'] = {\n",
    "        'pipeline':GaussianProcessClassifier(),\n",
    "        'dict_params': {\n",
    "            'kernel':[\n",
    "                1.0*kernels.RBF(1.0),\n",
    "                1.0*kernels.Matern(),\n",
    "                1.0*kernels.RationalQuadratic(),\n",
    "                1.0*kernels.DotProduct()\n",
    "            ]\n",
    "        }\n",
    "    }'''\n",
    "    classifier_inputs[subscript + ' AdaBoostClassifier'] = {\n",
    "        'pipeline':AdaBoostClassifier(n_estimators=100),\n",
    "        'dict_params': {\n",
    "            'n_estimators':[10,20,50, 100], \n",
    "            'learning_rate':[0.1, 0.5, 1.0, 2.0]\n",
    "        }\n",
    "    }\n",
    "    classifier_inputs[subscript + ' SGD'] = {\n",
    "        'pipeline':SGDClassifier(loss=\"log\", penalty=\"l2\"),\n",
    "        'dict_params': {\n",
    "            'learning_rate': ['optimal']\n",
    "        }\n",
    "    }\n",
    "    classifier_inputs[subscript + ' RandomForest'] = {\n",
    "        'pipeline':RandomForestClassifier(\n",
    "            max_depth=None,min_samples_split=2, random_state=0),\n",
    "        'dict_params': {\n",
    "            'n_estimators':[10,20,40,60]\n",
    "        }\n",
    "    }\n",
    "    classifier_inputs[subscript + ' DecisionTree'] = {\n",
    "        'pipeline':  DecisionTreeClassifier(max_depth=5),\n",
    "        'dict_params': {\n",
    "            'min_samples_split': [2]\n",
    "        }\n",
    "    }\n",
    "    '''classifier_inputs[subscript + ' MLPClassifier'] = {\n",
    "        'pipeline':MLPClassifier(\n",
    "            activation='relu',\n",
    "            solver='adam',\n",
    "            early_stopping=False,\n",
    "            verbose=True\n",
    "            \n",
    "        ),\n",
    "        'dict_params': {\n",
    "            'hidden_layer_sizes':[(300, 200, 150, 150), (30, 30, 30), (150, 30, 30, 150), \n",
    "                                  (400, 250, 100, 100) , (150, 200, 300)],\n",
    "            'alpha':[0.0005,0.001,0.01,0.1,1],\n",
    "            'learning_rate':['constant','invscaling'],\n",
    "            'learning_rate_init':[0.0005,0.001,0.01,0.1,1],\n",
    "            'momentum':[0,0.9],\n",
    "        }\n",
    "    }'''\n",
    "    classifier_inputs[subscript + ' Logistic'] = {\n",
    "        'pipeline':LogisticRegression(),\n",
    "        'dict_params': {\n",
    "            'C': [0.001, 0.01, 0.1, 1, 10, 100, 1000]\n",
    "        }\n",
    "    }\n",
    "    classifier_inputs[subscript + ' MultinomialNB'] = {\n",
    "        'pipeline':MultinomialNB(),\n",
    "        'dict_params': {\n",
    "            'alpha': [1.0]\n",
    "        }\n",
    "    }\n",
    "    \n",
    "    '''classifier_inputs[subscript + ' SVM'] = {\n",
    "        'pipeline':SVC(probability=True),\n",
    "        'dict_params': {\n",
    "            'C':[0.001, 0.01, 0.1, 1, 10, 100, 1000],\n",
    "            'gamma':[0.001, 0.0001,'auto'],\n",
    "            'kernel':['rbf']\n",
    "        }\n",
    "    }'''\n",
    "    return classifier_inputs\n",
    "    "
   ]
  },
  {
   "cell_type": "code",
   "execution_count": 54,
   "metadata": {
    "collapsed": true
   },
   "outputs": [],
   "source": [
    "classifier_results = pd.DataFrame(columns=['accuracy','sensitivity','specificity','auc','conf_matrix','params','model','roc'])#,index=classifier_inputs.keys())"
   ]
  },
  {
   "cell_type": "markdown",
   "metadata": {},
   "source": [
    "Use the 6 different feature spaces generated from the vectorizers previously above, \n",
    "and train every classifier in classifier_inputs in every feature space"
   ]
  },
  {
   "cell_type": "code",
   "execution_count": 78,
   "metadata": {
    "scrolled": false
   },
   "outputs": [
    {
     "ename": "NameError",
     "evalue": "name 'create_classifier_inputs_using_vectorizers' is not defined",
     "output_type": "error",
     "traceback": [
      "\u001b[0;31m---------------------------------------------------------------------------\u001b[0m",
      "\u001b[0;31mNameError\u001b[0m                                 Traceback (most recent call last)",
      "\u001b[0;32m<ipython-input-78-4f48f7e5f4fb>\u001b[0m in \u001b[0;36m<module>\u001b[0;34m()\u001b[0m\n\u001b[1;32m      3\u001b[0m \u001b[0;31m#classifier_inputs.update(create_classifier_inputs_using_vectorizers(count_vectorizer_1grams,'count 1grams'))\u001b[0m\u001b[0;34m\u001b[0m\u001b[0;34m\u001b[0m\u001b[0m\n\u001b[1;32m      4\u001b[0m \u001b[0;31m#classifier_inputs.update(create_classifier_inputs_using_vectorizers(count_vectorizer_2grams,'count 2grams'))\u001b[0m\u001b[0;34m\u001b[0m\u001b[0;34m\u001b[0m\u001b[0m\n\u001b[0;32m----> 5\u001b[0;31m \u001b[0mclassifier_inputs\u001b[0m\u001b[0;34m.\u001b[0m\u001b[0mupdate\u001b[0m\u001b[0;34m(\u001b[0m\u001b[0mcreate_classifier_inputs_using_vectorizers\u001b[0m\u001b[0;34m(\u001b[0m\u001b[0mcount_vectorizer_3grams\u001b[0m\u001b[0;34m,\u001b[0m\u001b[0;34m'count 3grams'\u001b[0m\u001b[0;34m)\u001b[0m\u001b[0;34m)\u001b[0m\u001b[0;34m\u001b[0m\u001b[0m\n\u001b[0m\u001b[1;32m      6\u001b[0m \u001b[0;31m#classifier_inputs.update(create_classifier_inputs_using_vectorizers(tfidf_vectorizer_1grams,'tfidf 1grams'))\u001b[0m\u001b[0;34m\u001b[0m\u001b[0;34m\u001b[0m\u001b[0m\n\u001b[1;32m      7\u001b[0m \u001b[0;31m#classifier_inputs.update(create_classifier_inputs_using_vectorizers(tfidf_vectorizer_2grams,'tfidf 2grams'))\u001b[0m\u001b[0;34m\u001b[0m\u001b[0;34m\u001b[0m\u001b[0m\n",
      "\u001b[0;31mNameError\u001b[0m: name 'create_classifier_inputs_using_vectorizers' is not defined"
     ]
    }
   ],
   "source": [
    "classifier_inputs = {}\n",
    "classifier_inputs.update(create_classifier_inputs_using_vectorizers(count_vectorizer_1grams,'count 1grams'))\n",
    "classifier_inputs.update(create_classifier_inputs_using_vectorizers(count_vectorizer_2grams,'count 2grams'))\n",
    "classifier_inputs.update(create_classifier_inputs_using_vectorizers(count_vectorizer_3grams,'count 3grams'))\n",
    "classifier_inputs.update(create_classifier_inputs_using_vectorizers(tfidf_vectorizer_1grams,'tfidf 1grams'))\n",
    "classifier_inputs.update(create_classifier_inputs_using_vectorizers(tfidf_vectorizer_2grams,'tfidf 2grams'))\n",
    "classifier_inputs.update(create_classifier_inputs_using_vectorizers(tfidf_vectorizer_3grams,'tfidf 3grams'))\n",
    "\n",
    "\n",
    "X = payloads['payload'] \n",
    "Y = payloads['is_malicious']\n",
    "\n",
    "for classifier_name, inputs in classifier_inputs.items():\n",
    "    display(inputs['dict_params'])\n",
    "    if classifier_name in classifier_results.index.values.tolist():\n",
    "        print('Skipping ' + classifier_name + ', already trained')\n",
    "    else:\n",
    "        result_dict = train_model(inputs['pipeline'],inputs['dict_params'],X,Y)\n",
    "        classifier_results.loc[classifier_name] = result_dict\n",
    "\n",
    "display(classifier_results)"
   ]
  },
  {
   "cell_type": "code",
   "execution_count": 74,
   "metadata": {},
   "outputs": [],
   "source": [
    "display(pd.DataFrame(payloads['payload'].copy()))"
   ]
  },
  {
   "cell_type": "code",
   "execution_count": null,
   "metadata": {
    "scrolled": false
   },
   "outputs": [
    {
     "name": "stdout",
     "output_type": "stream",
     "text": [
      "Fitting 5 folds for each of 10 candidates, totalling 50 fits\n",
      "[CV] n_estimators=20, learning_rate=0.5 ..............................\n",
      "[CV]  n_estimators=20, learning_rate=0.5, score=0.898862, total=   0.5s\n",
      "[CV] n_estimators=20, learning_rate=0.5 ..............................\n"
     ]
    },
    {
     "name": "stderr",
     "output_type": "stream",
     "text": [
      "[Parallel(n_jobs=1)]: Done   1 out of   1 | elapsed:    0.7s remaining:    0.0s\n"
     ]
    },
    {
     "name": "stdout",
     "output_type": "stream",
     "text": [
      "[CV]  n_estimators=20, learning_rate=0.5, score=0.891283, total=   0.5s\n",
      "[CV] n_estimators=20, learning_rate=0.5 ..............................\n"
     ]
    },
    {
     "name": "stderr",
     "output_type": "stream",
     "text": [
      "[Parallel(n_jobs=1)]: Done   2 out of   2 | elapsed:    1.5s remaining:    0.0s\n"
     ]
    },
    {
     "name": "stdout",
     "output_type": "stream",
     "text": [
      "[CV]  n_estimators=20, learning_rate=0.5, score=0.904625, total=   0.5s\n",
      "[CV] n_estimators=20, learning_rate=0.5 ..............................\n"
     ]
    },
    {
     "name": "stderr",
     "output_type": "stream",
     "text": [
      "[Parallel(n_jobs=1)]: Done   3 out of   3 | elapsed:    2.2s remaining:    0.0s\n"
     ]
    },
    {
     "name": "stdout",
     "output_type": "stream",
     "text": [
      "[CV]  n_estimators=20, learning_rate=0.5, score=0.898606, total=   0.5s\n",
      "[CV] n_estimators=20, learning_rate=0.5 ..............................\n"
     ]
    },
    {
     "name": "stderr",
     "output_type": "stream",
     "text": [
      "[Parallel(n_jobs=1)]: Done   4 out of   4 | elapsed:    2.9s remaining:    0.0s\n"
     ]
    },
    {
     "name": "stdout",
     "output_type": "stream",
     "text": [
      "[CV]  n_estimators=20, learning_rate=0.5, score=0.888889, total=   0.5s\n",
      "[CV] n_estimators=20, learning_rate=0.1 ..............................\n"
     ]
    },
    {
     "name": "stderr",
     "output_type": "stream",
     "text": [
      "[Parallel(n_jobs=1)]: Done   5 out of   5 | elapsed:    3.6s remaining:    0.0s\n"
     ]
    },
    {
     "name": "stdout",
     "output_type": "stream",
     "text": [
      "[CV]  n_estimators=20, learning_rate=0.1, score=0.833927, total=   0.5s\n",
      "[CV] n_estimators=20, learning_rate=0.1 ..............................\n"
     ]
    },
    {
     "name": "stderr",
     "output_type": "stream",
     "text": [
      "[Parallel(n_jobs=1)]: Done   6 out of   6 | elapsed:    4.3s remaining:    0.0s\n"
     ]
    },
    {
     "name": "stdout",
     "output_type": "stream",
     "text": [
      "[CV]  n_estimators=20, learning_rate=0.1, score=0.847612, total=   0.5s\n",
      "[CV] n_estimators=20, learning_rate=0.1 ..............................\n"
     ]
    },
    {
     "name": "stderr",
     "output_type": "stream",
     "text": [
      "[Parallel(n_jobs=1)]: Done   7 out of   7 | elapsed:    5.0s remaining:    0.0s\n"
     ]
    },
    {
     "name": "stdout",
     "output_type": "stream",
     "text": [
      "[CV]  n_estimators=20, learning_rate=0.1, score=0.843906, total=   0.5s\n",
      "[CV] n_estimators=20, learning_rate=0.1 ..............................\n"
     ]
    },
    {
     "name": "stderr",
     "output_type": "stream",
     "text": [
      "[Parallel(n_jobs=1)]: Done   8 out of   8 | elapsed:    5.7s remaining:    0.0s\n"
     ]
    },
    {
     "name": "stdout",
     "output_type": "stream",
     "text": [
      "[CV]  n_estimators=20, learning_rate=0.1, score=0.845081, total=   0.5s\n",
      "[CV] n_estimators=20, learning_rate=0.1 ..............................\n"
     ]
    },
    {
     "name": "stderr",
     "output_type": "stream",
     "text": [
      "[Parallel(n_jobs=1)]: Done   9 out of   9 | elapsed:    6.4s remaining:    0.0s\n"
     ]
    },
    {
     "name": "stdout",
     "output_type": "stream",
     "text": [
      "[CV]  n_estimators=20, learning_rate=0.1, score=0.838941, total=   0.5s\n",
      "[CV] n_estimators=100, learning_rate=0.5 .............................\n",
      "[CV]  n_estimators=100, learning_rate=0.5, score=0.925008, total=   2.6s\n",
      "[CV] n_estimators=100, learning_rate=0.5 .............................\n",
      "[CV]  n_estimators=100, learning_rate=0.5, score=0.930277, total=   2.5s\n",
      "[CV] n_estimators=100, learning_rate=0.5 .............................\n",
      "[CV]  n_estimators=100, learning_rate=0.5, score=0.926641, total=   2.5s\n",
      "[CV] n_estimators=100, learning_rate=0.5 .............................\n",
      "[CV]  n_estimators=100, learning_rate=0.5, score=0.920789, total=   2.6s\n",
      "[CV] n_estimators=100, learning_rate=0.5 .............................\n",
      "[CV]  n_estimators=100, learning_rate=0.5, score=0.920513, total=   2.8s\n",
      "[CV] n_estimators=50, learning_rate=0.1 ..............................\n",
      "[CV]  n_estimators=50, learning_rate=0.1, score=0.869766, total=   1.3s\n",
      "[CV] n_estimators=50, learning_rate=0.1 ..............................\n",
      "[CV]  n_estimators=50, learning_rate=0.1, score=0.879316, total=   1.4s\n",
      "[CV] n_estimators=50, learning_rate=0.1 ..............................\n",
      "[CV]  n_estimators=50, learning_rate=0.1, score=0.885705, total=   1.4s\n",
      "[CV] n_estimators=50, learning_rate=0.1 ..............................\n",
      "[CV]  n_estimators=50, learning_rate=0.1, score=0.870087, total=   1.5s\n",
      "[CV] n_estimators=50, learning_rate=0.1 ..............................\n",
      "[CV]  n_estimators=50, learning_rate=0.1, score=0.871812, total=   1.5s\n",
      "[CV] n_estimators=50, learning_rate=1.0 ..............................\n",
      "[CV]  n_estimators=50, learning_rate=1.0, score=0.920308, total=   1.4s\n",
      "[CV] n_estimators=50, learning_rate=1.0 ..............................\n",
      "[CV]  n_estimators=50, learning_rate=1.0, score=0.928096, total=   1.3s\n",
      "[CV] n_estimators=50, learning_rate=1.0 ..............................\n",
      "[CV]  n_estimators=50, learning_rate=1.0, score=0.922732, total=   1.3s\n",
      "[CV] n_estimators=50, learning_rate=1.0 ..............................\n",
      "[CV]  n_estimators=50, learning_rate=1.0, score=0.920462, total=   1.4s\n",
      "[CV] n_estimators=50, learning_rate=1.0 ..............................\n",
      "[CV]  n_estimators=50, learning_rate=1.0, score=0.924116, total=   1.4s\n",
      "[CV] n_estimators=100, learning_rate=2.0 .............................\n"
     ]
    },
    {
     "name": "stderr",
     "output_type": "stream",
     "text": [
      "/chalmers/users/oskhol/anaconda3/lib/python3.6/site-packages/sklearn/metrics/classification.py:1113: UndefinedMetricWarning: F-score is ill-defined and being set to 0.0 due to no predicted samples.\n",
      "  'precision', 'predicted', average, warn_for)\n"
     ]
    },
    {
     "name": "stdout",
     "output_type": "stream",
     "text": [
      "[CV]  n_estimators=100, learning_rate=2.0, score=0.000000, total=   2.5s\n",
      "[CV] n_estimators=100, learning_rate=2.0 .............................\n"
     ]
    },
    {
     "name": "stderr",
     "output_type": "stream",
     "text": [
      "/chalmers/users/oskhol/anaconda3/lib/python3.6/site-packages/sklearn/metrics/classification.py:1113: UndefinedMetricWarning: F-score is ill-defined and being set to 0.0 due to no predicted samples.\n",
      "  'precision', 'predicted', average, warn_for)\n"
     ]
    },
    {
     "name": "stdout",
     "output_type": "stream",
     "text": [
      "[CV]  n_estimators=100, learning_rate=2.0, score=0.000000, total=   2.5s\n",
      "[CV] n_estimators=100, learning_rate=2.0 .............................\n",
      "[CV]  n_estimators=100, learning_rate=2.0, score=0.846528, total=   2.8s\n",
      "[CV] n_estimators=100, learning_rate=2.0 .............................\n",
      "[CV]  n_estimators=100, learning_rate=2.0, score=0.847387, total=   2.6s\n",
      "[CV] n_estimators=100, learning_rate=2.0 .............................\n"
     ]
    },
    {
     "name": "stderr",
     "output_type": "stream",
     "text": [
      "/chalmers/users/oskhol/anaconda3/lib/python3.6/site-packages/sklearn/metrics/classification.py:1113: UndefinedMetricWarning: F-score is ill-defined and being set to 0.0 due to no predicted samples.\n",
      "  'precision', 'predicted', average, warn_for)\n"
     ]
    },
    {
     "name": "stdout",
     "output_type": "stream",
     "text": [
      "[CV]  n_estimators=100, learning_rate=2.0, score=0.000000, total=   2.5s\n",
      "[CV] n_estimators=100, learning_rate=1.0 .............................\n"
     ]
    }
   ],
   "source": [
    "classifier_inputs_custom = {}\n",
    "\n",
    "classifier_inputs_custom.update(create_classifier_inputs('custom'))\n",
    "\n",
    "\n",
    "\n",
    "Y = payloads['is_malicious']\n",
    "X = create_features(pd.DataFrame(payloads['payload'].copy()))\n",
    "\n",
    "\n",
    "X_new = SelectKBest(score_func=chi2, k=4).fit_transform(X,Y)\n",
    "#fit = test.fit(X, Y)\n",
    "# summarize scores\n",
    "#print(fit.scores_)\n",
    "#features = fit.transform(X)\n",
    "# summarize selected features\n",
    "#print(features)\n",
    "\n",
    "\n",
    "for classifier_name, inputs in classifier_inputs_custom.items():\n",
    "    if classifier_name in classifier_results.index.values.tolist():\n",
    "        print('Skipping ' + classifier_name + ', already trained')\n",
    "    else:\n",
    "        result_dict = train_model(inputs['pipeline'],inputs['dict_params'],X,Y)\n",
    "        classifier_results.loc[classifier_name] = result_dict\n",
    "\n",
    "display(classifier_results)\n",
    "\n",
    "#pickle.dump( classifier_results, open( \"data/trained_classifiers_custom_all_features.p\", \"wb\" ) )"
   ]
  },
  {
   "cell_type": "code",
   "execution_count": 69,
   "metadata": {
    "collapsed": true
   },
   "outputs": [],
   "source": [
    "pickle.dump(classifier_results, open(\"data/trained_classifier_custom_4_features.p\", \"wb\"))"
   ]
  },
  {
   "cell_type": "code",
   "execution_count": 39,
   "metadata": {
    "collapsed": true
   },
   "outputs": [],
   "source": [
    "#Save classifiers in a pickle file to be able to re-use them without re-training\n",
    "#pickle.dump( classifier_results, open( \"data/trained_classifiers_custom.p\", \"wb\" ) )"
   ]
  },
  {
   "cell_type": "code",
   "execution_count": 10,
   "metadata": {
    "scrolled": false
   },
   "outputs": [
    {
     "data": {
      "text/html": [
       "<div>\n",
       "<table border=\"1\" class=\"dataframe\">\n",
       "  <thead>\n",
       "    <tr style=\"text-align: right;\">\n",
       "      <th></th>\n",
       "      <th>accuracy</th>\n",
       "      <th>sensitivity</th>\n",
       "      <th>specificity</th>\n",
       "      <th>auc</th>\n",
       "      <th>conf_matrix</th>\n",
       "      <th>params</th>\n",
       "      <th>model</th>\n",
       "      <th>roc</th>\n",
       "    </tr>\n",
       "  </thead>\n",
       "  <tbody>\n",
       "    <tr>\n",
       "      <th>tfidf 1grams MultinomialNB</th>\n",
       "      <td>0.991075</td>\n",
       "      <td>0.927300</td>\n",
       "      <td>0.997314</td>\n",
       "      <td>0.992670</td>\n",
       "      <td>[[20051, 54], [143, 1824]]</td>\n",
       "      <td>{'vect__min_df': 1}</td>\n",
       "      <td>Pipeline(steps=[('vect', TfidfVectorizer(analy...</td>\n",
       "      <td>{'fpr': [0.0, 0.0, 0.0, 0.0, 0.0, 0.0, 0.0, 0....</td>\n",
       "    </tr>\n",
       "    <tr>\n",
       "      <th>tfidf 1grams SVM</th>\n",
       "      <td>0.994246</td>\n",
       "      <td>0.949161</td>\n",
       "      <td>0.998657</td>\n",
       "      <td>0.996409</td>\n",
       "      <td>[[20078, 27], [100, 1867]]</td>\n",
       "      <td>{'clf__C': 100, 'clf__gamma': 0.001, 'clf__ker...</td>\n",
       "      <td>Pipeline(steps=[('vect', TfidfVectorizer(analy...</td>\n",
       "      <td>{'fpr': [0.0, 0.0, 0.0, 0.0, 0.0, 0.0, 0.0, 0....</td>\n",
       "    </tr>\n",
       "    <tr>\n",
       "      <th>count 3grams MultinomialNB</th>\n",
       "      <td>0.993567</td>\n",
       "      <td>0.981698</td>\n",
       "      <td>0.994728</td>\n",
       "      <td>0.997707</td>\n",
       "      <td>[[19999, 106], [36, 1931]]</td>\n",
       "      <td>{'vect__min_df': 1}</td>\n",
       "      <td>Pipeline(steps=[('vect', CountVectorizer(analy...</td>\n",
       "      <td>{'fpr': [0.0, 4.97388709276e-05, 4.97388709276...</td>\n",
       "    </tr>\n",
       "    <tr>\n",
       "      <th>count 3grams Logistic</th>\n",
       "      <td>0.997146</td>\n",
       "      <td>0.970513</td>\n",
       "      <td>0.999751</td>\n",
       "      <td>0.998100</td>\n",
       "      <td>[[20100, 5], [58, 1909]]</td>\n",
       "      <td>{'clf__C': 10, 'vect__min_df': 2}</td>\n",
       "      <td>Pipeline(steps=[('vect', CountVectorizer(analy...</td>\n",
       "      <td>{'fpr': [0.0, 0.0, 0.0, 0.0, 0.0, 0.0, 0.0, 0....</td>\n",
       "    </tr>\n",
       "    <tr>\n",
       "      <th>tfidf 1grams RandomForest</th>\n",
       "      <td>0.998324</td>\n",
       "      <td>0.992883</td>\n",
       "      <td>0.998856</td>\n",
       "      <td>0.999167</td>\n",
       "      <td>[[20082, 23], [14, 1953]]</td>\n",
       "      <td>{'clf__n_estimators': 60, 'vect__min_df': 40}</td>\n",
       "      <td>Pipeline(steps=[('vect', TfidfVectorizer(analy...</td>\n",
       "      <td>{'fpr': [0.0, 0.0, 0.0, 0.0, 0.0, 0.0, 4.97388...</td>\n",
       "    </tr>\n",
       "    <tr>\n",
       "      <th>tfidf 3grams RandomForest</th>\n",
       "      <td>0.997553</td>\n",
       "      <td>0.975089</td>\n",
       "      <td>0.999751</td>\n",
       "      <td>0.999082</td>\n",
       "      <td>[[20100, 5], [49, 1918]]</td>\n",
       "      <td>{'clf__n_estimators': 60, 'vect__min_df': 5}</td>\n",
       "      <td>Pipeline(steps=[('vect', TfidfVectorizer(analy...</td>\n",
       "      <td>{'fpr': [0.0, 0.0, 0.0, 0.0, 0.0, 4.9738870927...</td>\n",
       "    </tr>\n",
       "    <tr>\n",
       "      <th>count 2grams RandomForest</th>\n",
       "      <td>0.998414</td>\n",
       "      <td>0.988307</td>\n",
       "      <td>0.999403</td>\n",
       "      <td>0.999120</td>\n",
       "      <td>[[20093, 12], [23, 1944]]</td>\n",
       "      <td>{'clf__n_estimators': 60, 'vect__min_df': 1}</td>\n",
       "      <td>Pipeline(steps=[('vect', CountVectorizer(analy...</td>\n",
       "      <td>{'fpr': [0.0, 0.0, 0.0, 0.0, 0.0, 0.0, 0.0, 0....</td>\n",
       "    </tr>\n",
       "    <tr>\n",
       "      <th>tfidf 3grams Logistic</th>\n",
       "      <td>0.997735</td>\n",
       "      <td>0.977631</td>\n",
       "      <td>0.999702</td>\n",
       "      <td>0.999575</td>\n",
       "      <td>[[20099, 6], [44, 1923]]</td>\n",
       "      <td>{'clf__C': 1000, 'vect__min_df': 1}</td>\n",
       "      <td>Pipeline(steps=[('vect', TfidfVectorizer(analy...</td>\n",
       "      <td>{'fpr': [0.0, 0.0, 0.0, 0.0, 0.0, 0.0, 0.0, 0....</td>\n",
       "    </tr>\n",
       "    <tr>\n",
       "      <th>count 1grams RandomForest</th>\n",
       "      <td>0.998414</td>\n",
       "      <td>0.989832</td>\n",
       "      <td>0.999254</td>\n",
       "      <td>0.999426</td>\n",
       "      <td>[[20090, 15], [20, 1947]]</td>\n",
       "      <td>{'clf__n_estimators': 60, 'vect__min_df': 1}</td>\n",
       "      <td>Pipeline(steps=[('vect', CountVectorizer(analy...</td>\n",
       "      <td>{'fpr': [0.0, 0.0, 0.0, 0.0, 0.0, 0.0, 0.0, 0....</td>\n",
       "    </tr>\n",
       "    <tr>\n",
       "      <th>tfidf 3grams MultinomialNB</th>\n",
       "      <td>0.996058</td>\n",
       "      <td>0.976614</td>\n",
       "      <td>0.997961</td>\n",
       "      <td>0.999112</td>\n",
       "      <td>[[20064, 41], [46, 1921]]</td>\n",
       "      <td>{'vect__min_df': 2}</td>\n",
       "      <td>Pipeline(steps=[('vect', TfidfVectorizer(analy...</td>\n",
       "      <td>{'fpr': [0.0, 0.0, 0.0, 0.0, 0.0, 0.0, 0.0, 0....</td>\n",
       "    </tr>\n",
       "    <tr>\n",
       "      <th>tfidf 2grams Logistic</th>\n",
       "      <td>0.998142</td>\n",
       "      <td>0.985257</td>\n",
       "      <td>0.999403</td>\n",
       "      <td>0.999489</td>\n",
       "      <td>[[20093, 12], [29, 1938]]</td>\n",
       "      <td>{'clf__C': 1000, 'vect__min_df': 1}</td>\n",
       "      <td>Pipeline(steps=[('vect', TfidfVectorizer(analy...</td>\n",
       "      <td>{'fpr': [0.0, 0.0, 0.0, 0.0, 0.0, 0.0, 0.0, 0....</td>\n",
       "    </tr>\n",
       "    <tr>\n",
       "      <th>tfidf 2grams RandomForest</th>\n",
       "      <td>0.998596</td>\n",
       "      <td>0.988307</td>\n",
       "      <td>0.999602</td>\n",
       "      <td>0.999375</td>\n",
       "      <td>[[20097, 8], [23, 1944]]</td>\n",
       "      <td>{'clf__n_estimators': 60, 'vect__min_df': 5}</td>\n",
       "      <td>Pipeline(steps=[('vect', TfidfVectorizer(analy...</td>\n",
       "      <td>{'fpr': [0.0, 0.0, 0.0, 0.0, 0.0, 0.0, 0.0, 0....</td>\n",
       "    </tr>\n",
       "    <tr>\n",
       "      <th>count 1grams SVM</th>\n",
       "      <td>0.997327</td>\n",
       "      <td>0.980173</td>\n",
       "      <td>0.999005</td>\n",
       "      <td>0.997913</td>\n",
       "      <td>[[20085, 20], [39, 1928]]</td>\n",
       "      <td>{'clf__C': 100, 'clf__gamma': 0.001, 'clf__ker...</td>\n",
       "      <td>Pipeline(steps=[('vect', CountVectorizer(analy...</td>\n",
       "      <td>{'fpr': [0.0, 4.97388709276e-05, 4.97388709276...</td>\n",
       "    </tr>\n",
       "    <tr>\n",
       "      <th>tfidf 3grams SVM</th>\n",
       "      <td>0.994971</td>\n",
       "      <td>0.947128</td>\n",
       "      <td>0.999652</td>\n",
       "      <td>0.998131</td>\n",
       "      <td>[[20098, 7], [104, 1863]]</td>\n",
       "      <td>{'clf__C': 100, 'clf__gamma': 0.001, 'clf__ker...</td>\n",
       "      <td>Pipeline(steps=[('vect', TfidfVectorizer(analy...</td>\n",
       "      <td>{'fpr': [0.0, 0.0, 0.0, 0.0, 0.0, 0.0, 0.0, 0....</td>\n",
       "    </tr>\n",
       "    <tr>\n",
       "      <th>count 1grams Logistic</th>\n",
       "      <td>0.996375</td>\n",
       "      <td>0.963396</td>\n",
       "      <td>0.999602</td>\n",
       "      <td>0.996902</td>\n",
       "      <td>[[20097, 8], [72, 1895]]</td>\n",
       "      <td>{'clf__C': 10, 'vect__min_df': 40}</td>\n",
       "      <td>Pipeline(steps=[('vect', CountVectorizer(analy...</td>\n",
       "      <td>{'fpr': [0.0, 4.97388709276e-05, 4.97388709276...</td>\n",
       "    </tr>\n",
       "    <tr>\n",
       "      <th>tfidf 2grams SVM</th>\n",
       "      <td>0.996693</td>\n",
       "      <td>0.967463</td>\n",
       "      <td>0.999552</td>\n",
       "      <td>0.999090</td>\n",
       "      <td>[[20096, 9], [64, 1903]]</td>\n",
       "      <td>{'clf__C': 100, 'clf__gamma': 0.001, 'clf__ker...</td>\n",
       "      <td>Pipeline(steps=[('vect', TfidfVectorizer(analy...</td>\n",
       "      <td>{'fpr': [0.0, 0.0, 0.0, 0.0, 0.0, 0.0, 0.0, 0....</td>\n",
       "    </tr>\n",
       "    <tr>\n",
       "      <th>tfidf 1grams Logistic</th>\n",
       "      <td>0.996104</td>\n",
       "      <td>0.967463</td>\n",
       "      <td>0.998906</td>\n",
       "      <td>0.998022</td>\n",
       "      <td>[[20083, 22], [64, 1903]]</td>\n",
       "      <td>{'clf__C': 1000, 'vect__min_df': 1}</td>\n",
       "      <td>Pipeline(steps=[('vect', TfidfVectorizer(analy...</td>\n",
       "      <td>{'fpr': [0.0, 0.0, 0.0, 0.0, 0.0, 0.0, 0.0, 0....</td>\n",
       "    </tr>\n",
       "    <tr>\n",
       "      <th>tfidf 2grams MultinomialNB</th>\n",
       "      <td>0.995651</td>\n",
       "      <td>0.968988</td>\n",
       "      <td>0.998259</td>\n",
       "      <td>0.997980</td>\n",
       "      <td>[[20070, 35], [61, 1906]]</td>\n",
       "      <td>{'vect__min_df': 2}</td>\n",
       "      <td>Pipeline(steps=[('vect', TfidfVectorizer(analy...</td>\n",
       "      <td>{'fpr': [0.0, 0.0, 0.0, 0.0, 0.0, 0.0, 0.0, 0....</td>\n",
       "    </tr>\n",
       "    <tr>\n",
       "      <th>count 3grams RandomForest</th>\n",
       "      <td>0.997191</td>\n",
       "      <td>0.972039</td>\n",
       "      <td>0.999652</td>\n",
       "      <td>0.999070</td>\n",
       "      <td>[[20098, 7], [55, 1912]]</td>\n",
       "      <td>{'clf__n_estimators': 60, 'vect__min_df': 5}</td>\n",
       "      <td>Pipeline(steps=[('vect', CountVectorizer(analy...</td>\n",
       "      <td>{'fpr': [0.0, 0.0, 0.0, 0.0, 0.0, 0.0, 0.0, 0....</td>\n",
       "    </tr>\n",
       "    <tr>\n",
       "      <th>count 3grams SVM</th>\n",
       "      <td>0.996693</td>\n",
       "      <td>0.968988</td>\n",
       "      <td>0.999403</td>\n",
       "      <td>0.997568</td>\n",
       "      <td>[[20093, 12], [61, 1906]]</td>\n",
       "      <td>{'clf__C': 100, 'clf__gamma': 0.001, 'clf__ker...</td>\n",
       "      <td>Pipeline(steps=[('vect', CountVectorizer(analy...</td>\n",
       "      <td>{'fpr': [0.0, 4.97388709276e-05, 4.97388709276...</td>\n",
       "    </tr>\n",
       "    <tr>\n",
       "      <th>count 2grams MultinomialNB</th>\n",
       "      <td>0.994110</td>\n",
       "      <td>0.978139</td>\n",
       "      <td>0.995673</td>\n",
       "      <td>0.989279</td>\n",
       "      <td>[[20018, 87], [43, 1924]]</td>\n",
       "      <td>{'vect__min_df': 1}</td>\n",
       "      <td>Pipeline(steps=[('vect', CountVectorizer(analy...</td>\n",
       "      <td>{'fpr': [0.0, 0.000149216612783, 0.00014921661...</td>\n",
       "    </tr>\n",
       "    <tr>\n",
       "      <th>count 2grams SVM</th>\n",
       "      <td>0.997735</td>\n",
       "      <td>0.979156</td>\n",
       "      <td>0.999552</td>\n",
       "      <td>0.998620</td>\n",
       "      <td>[[20096, 9], [41, 1926]]</td>\n",
       "      <td>{'clf__C': 100, 'clf__gamma': 0.001, 'clf__ker...</td>\n",
       "      <td>Pipeline(steps=[('vect', CountVectorizer(analy...</td>\n",
       "      <td>{'fpr': [0.0, 9.94777418553e-05, 9.94777418553...</td>\n",
       "    </tr>\n",
       "    <tr>\n",
       "      <th>count 2grams Logistic</th>\n",
       "      <td>0.997871</td>\n",
       "      <td>0.979664</td>\n",
       "      <td>0.999652</td>\n",
       "      <td>0.998061</td>\n",
       "      <td>[[20098, 7], [40, 1927]]</td>\n",
       "      <td>{'clf__C': 10, 'vect__min_df': 20}</td>\n",
       "      <td>Pipeline(steps=[('vect', CountVectorizer(analy...</td>\n",
       "      <td>{'fpr': [0.0, 0.0, 0.0, 0.0, 0.0, 0.0, 0.0, 0....</td>\n",
       "    </tr>\n",
       "    <tr>\n",
       "      <th>count 1grams MultinomialNB</th>\n",
       "      <td>0.990939</td>\n",
       "      <td>0.962379</td>\n",
       "      <td>0.993733</td>\n",
       "      <td>0.976337</td>\n",
       "      <td>[[19979, 126], [74, 1893]]</td>\n",
       "      <td>{'vect__min_df': 20}</td>\n",
       "      <td>Pipeline(steps=[('vect', CountVectorizer(analy...</td>\n",
       "      <td>{'fpr': [0.0, 0.000149216612783, 0.00014921661...</td>\n",
       "    </tr>\n",
       "  </tbody>\n",
       "</table>\n",
       "</div>"
      ],
      "text/plain": [
       "                            accuracy  sensitivity  specificity       auc  \\\n",
       "tfidf 1grams MultinomialNB  0.991075     0.927300     0.997314  0.992670   \n",
       "tfidf 1grams SVM            0.994246     0.949161     0.998657  0.996409   \n",
       "count 3grams MultinomialNB  0.993567     0.981698     0.994728  0.997707   \n",
       "count 3grams Logistic       0.997146     0.970513     0.999751  0.998100   \n",
       "tfidf 1grams RandomForest   0.998324     0.992883     0.998856  0.999167   \n",
       "tfidf 3grams RandomForest   0.997553     0.975089     0.999751  0.999082   \n",
       "count 2grams RandomForest   0.998414     0.988307     0.999403  0.999120   \n",
       "tfidf 3grams Logistic       0.997735     0.977631     0.999702  0.999575   \n",
       "count 1grams RandomForest   0.998414     0.989832     0.999254  0.999426   \n",
       "tfidf 3grams MultinomialNB  0.996058     0.976614     0.997961  0.999112   \n",
       "tfidf 2grams Logistic       0.998142     0.985257     0.999403  0.999489   \n",
       "tfidf 2grams RandomForest   0.998596     0.988307     0.999602  0.999375   \n",
       "count 1grams SVM            0.997327     0.980173     0.999005  0.997913   \n",
       "tfidf 3grams SVM            0.994971     0.947128     0.999652  0.998131   \n",
       "count 1grams Logistic       0.996375     0.963396     0.999602  0.996902   \n",
       "tfidf 2grams SVM            0.996693     0.967463     0.999552  0.999090   \n",
       "tfidf 1grams Logistic       0.996104     0.967463     0.998906  0.998022   \n",
       "tfidf 2grams MultinomialNB  0.995651     0.968988     0.998259  0.997980   \n",
       "count 3grams RandomForest   0.997191     0.972039     0.999652  0.999070   \n",
       "count 3grams SVM            0.996693     0.968988     0.999403  0.997568   \n",
       "count 2grams MultinomialNB  0.994110     0.978139     0.995673  0.989279   \n",
       "count 2grams SVM            0.997735     0.979156     0.999552  0.998620   \n",
       "count 2grams Logistic       0.997871     0.979664     0.999652  0.998061   \n",
       "count 1grams MultinomialNB  0.990939     0.962379     0.993733  0.976337   \n",
       "\n",
       "                                           conf_matrix  \\\n",
       "tfidf 1grams MultinomialNB  [[20051, 54], [143, 1824]]   \n",
       "tfidf 1grams SVM            [[20078, 27], [100, 1867]]   \n",
       "count 3grams MultinomialNB  [[19999, 106], [36, 1931]]   \n",
       "count 3grams Logistic         [[20100, 5], [58, 1909]]   \n",
       "tfidf 1grams RandomForest    [[20082, 23], [14, 1953]]   \n",
       "tfidf 3grams RandomForest     [[20100, 5], [49, 1918]]   \n",
       "count 2grams RandomForest    [[20093, 12], [23, 1944]]   \n",
       "tfidf 3grams Logistic         [[20099, 6], [44, 1923]]   \n",
       "count 1grams RandomForest    [[20090, 15], [20, 1947]]   \n",
       "tfidf 3grams MultinomialNB   [[20064, 41], [46, 1921]]   \n",
       "tfidf 2grams Logistic        [[20093, 12], [29, 1938]]   \n",
       "tfidf 2grams RandomForest     [[20097, 8], [23, 1944]]   \n",
       "count 1grams SVM             [[20085, 20], [39, 1928]]   \n",
       "tfidf 3grams SVM             [[20098, 7], [104, 1863]]   \n",
       "count 1grams Logistic         [[20097, 8], [72, 1895]]   \n",
       "tfidf 2grams SVM              [[20096, 9], [64, 1903]]   \n",
       "tfidf 1grams Logistic        [[20083, 22], [64, 1903]]   \n",
       "tfidf 2grams MultinomialNB   [[20070, 35], [61, 1906]]   \n",
       "count 3grams RandomForest     [[20098, 7], [55, 1912]]   \n",
       "count 3grams SVM             [[20093, 12], [61, 1906]]   \n",
       "count 2grams MultinomialNB   [[20018, 87], [43, 1924]]   \n",
       "count 2grams SVM              [[20096, 9], [41, 1926]]   \n",
       "count 2grams Logistic         [[20098, 7], [40, 1927]]   \n",
       "count 1grams MultinomialNB  [[19979, 126], [74, 1893]]   \n",
       "\n",
       "                                                                       params  \\\n",
       "tfidf 1grams MultinomialNB                                {'vect__min_df': 1}   \n",
       "tfidf 1grams SVM            {'clf__C': 100, 'clf__gamma': 0.001, 'clf__ker...   \n",
       "count 3grams MultinomialNB                                {'vect__min_df': 1}   \n",
       "count 3grams Logistic                       {'clf__C': 10, 'vect__min_df': 2}   \n",
       "tfidf 1grams RandomForest       {'clf__n_estimators': 60, 'vect__min_df': 40}   \n",
       "tfidf 3grams RandomForest        {'clf__n_estimators': 60, 'vect__min_df': 5}   \n",
       "count 2grams RandomForest        {'clf__n_estimators': 60, 'vect__min_df': 1}   \n",
       "tfidf 3grams Logistic                     {'clf__C': 1000, 'vect__min_df': 1}   \n",
       "count 1grams RandomForest        {'clf__n_estimators': 60, 'vect__min_df': 1}   \n",
       "tfidf 3grams MultinomialNB                                {'vect__min_df': 2}   \n",
       "tfidf 2grams Logistic                     {'clf__C': 1000, 'vect__min_df': 1}   \n",
       "tfidf 2grams RandomForest        {'clf__n_estimators': 60, 'vect__min_df': 5}   \n",
       "count 1grams SVM            {'clf__C': 100, 'clf__gamma': 0.001, 'clf__ker...   \n",
       "tfidf 3grams SVM            {'clf__C': 100, 'clf__gamma': 0.001, 'clf__ker...   \n",
       "count 1grams Logistic                      {'clf__C': 10, 'vect__min_df': 40}   \n",
       "tfidf 2grams SVM            {'clf__C': 100, 'clf__gamma': 0.001, 'clf__ker...   \n",
       "tfidf 1grams Logistic                     {'clf__C': 1000, 'vect__min_df': 1}   \n",
       "tfidf 2grams MultinomialNB                                {'vect__min_df': 2}   \n",
       "count 3grams RandomForest        {'clf__n_estimators': 60, 'vect__min_df': 5}   \n",
       "count 3grams SVM            {'clf__C': 100, 'clf__gamma': 0.001, 'clf__ker...   \n",
       "count 2grams MultinomialNB                                {'vect__min_df': 1}   \n",
       "count 2grams SVM            {'clf__C': 100, 'clf__gamma': 0.001, 'clf__ker...   \n",
       "count 2grams Logistic                      {'clf__C': 10, 'vect__min_df': 20}   \n",
       "count 1grams MultinomialNB                               {'vect__min_df': 20}   \n",
       "\n",
       "                                                                        model  \\\n",
       "tfidf 1grams MultinomialNB  Pipeline(steps=[('vect', TfidfVectorizer(analy...   \n",
       "tfidf 1grams SVM            Pipeline(steps=[('vect', TfidfVectorizer(analy...   \n",
       "count 3grams MultinomialNB  Pipeline(steps=[('vect', CountVectorizer(analy...   \n",
       "count 3grams Logistic       Pipeline(steps=[('vect', CountVectorizer(analy...   \n",
       "tfidf 1grams RandomForest   Pipeline(steps=[('vect', TfidfVectorizer(analy...   \n",
       "tfidf 3grams RandomForest   Pipeline(steps=[('vect', TfidfVectorizer(analy...   \n",
       "count 2grams RandomForest   Pipeline(steps=[('vect', CountVectorizer(analy...   \n",
       "tfidf 3grams Logistic       Pipeline(steps=[('vect', TfidfVectorizer(analy...   \n",
       "count 1grams RandomForest   Pipeline(steps=[('vect', CountVectorizer(analy...   \n",
       "tfidf 3grams MultinomialNB  Pipeline(steps=[('vect', TfidfVectorizer(analy...   \n",
       "tfidf 2grams Logistic       Pipeline(steps=[('vect', TfidfVectorizer(analy...   \n",
       "tfidf 2grams RandomForest   Pipeline(steps=[('vect', TfidfVectorizer(analy...   \n",
       "count 1grams SVM            Pipeline(steps=[('vect', CountVectorizer(analy...   \n",
       "tfidf 3grams SVM            Pipeline(steps=[('vect', TfidfVectorizer(analy...   \n",
       "count 1grams Logistic       Pipeline(steps=[('vect', CountVectorizer(analy...   \n",
       "tfidf 2grams SVM            Pipeline(steps=[('vect', TfidfVectorizer(analy...   \n",
       "tfidf 1grams Logistic       Pipeline(steps=[('vect', TfidfVectorizer(analy...   \n",
       "tfidf 2grams MultinomialNB  Pipeline(steps=[('vect', TfidfVectorizer(analy...   \n",
       "count 3grams RandomForest   Pipeline(steps=[('vect', CountVectorizer(analy...   \n",
       "count 3grams SVM            Pipeline(steps=[('vect', CountVectorizer(analy...   \n",
       "count 2grams MultinomialNB  Pipeline(steps=[('vect', CountVectorizer(analy...   \n",
       "count 2grams SVM            Pipeline(steps=[('vect', CountVectorizer(analy...   \n",
       "count 2grams Logistic       Pipeline(steps=[('vect', CountVectorizer(analy...   \n",
       "count 1grams MultinomialNB  Pipeline(steps=[('vect', CountVectorizer(analy...   \n",
       "\n",
       "                                                                          roc  \n",
       "tfidf 1grams MultinomialNB  {'fpr': [0.0, 0.0, 0.0, 0.0, 0.0, 0.0, 0.0, 0....  \n",
       "tfidf 1grams SVM            {'fpr': [0.0, 0.0, 0.0, 0.0, 0.0, 0.0, 0.0, 0....  \n",
       "count 3grams MultinomialNB  {'fpr': [0.0, 4.97388709276e-05, 4.97388709276...  \n",
       "count 3grams Logistic       {'fpr': [0.0, 0.0, 0.0, 0.0, 0.0, 0.0, 0.0, 0....  \n",
       "tfidf 1grams RandomForest   {'fpr': [0.0, 0.0, 0.0, 0.0, 0.0, 0.0, 4.97388...  \n",
       "tfidf 3grams RandomForest   {'fpr': [0.0, 0.0, 0.0, 0.0, 0.0, 4.9738870927...  \n",
       "count 2grams RandomForest   {'fpr': [0.0, 0.0, 0.0, 0.0, 0.0, 0.0, 0.0, 0....  \n",
       "tfidf 3grams Logistic       {'fpr': [0.0, 0.0, 0.0, 0.0, 0.0, 0.0, 0.0, 0....  \n",
       "count 1grams RandomForest   {'fpr': [0.0, 0.0, 0.0, 0.0, 0.0, 0.0, 0.0, 0....  \n",
       "tfidf 3grams MultinomialNB  {'fpr': [0.0, 0.0, 0.0, 0.0, 0.0, 0.0, 0.0, 0....  \n",
       "tfidf 2grams Logistic       {'fpr': [0.0, 0.0, 0.0, 0.0, 0.0, 0.0, 0.0, 0....  \n",
       "tfidf 2grams RandomForest   {'fpr': [0.0, 0.0, 0.0, 0.0, 0.0, 0.0, 0.0, 0....  \n",
       "count 1grams SVM            {'fpr': [0.0, 4.97388709276e-05, 4.97388709276...  \n",
       "tfidf 3grams SVM            {'fpr': [0.0, 0.0, 0.0, 0.0, 0.0, 0.0, 0.0, 0....  \n",
       "count 1grams Logistic       {'fpr': [0.0, 4.97388709276e-05, 4.97388709276...  \n",
       "tfidf 2grams SVM            {'fpr': [0.0, 0.0, 0.0, 0.0, 0.0, 0.0, 0.0, 0....  \n",
       "tfidf 1grams Logistic       {'fpr': [0.0, 0.0, 0.0, 0.0, 0.0, 0.0, 0.0, 0....  \n",
       "tfidf 2grams MultinomialNB  {'fpr': [0.0, 0.0, 0.0, 0.0, 0.0, 0.0, 0.0, 0....  \n",
       "count 3grams RandomForest   {'fpr': [0.0, 0.0, 0.0, 0.0, 0.0, 0.0, 0.0, 0....  \n",
       "count 3grams SVM            {'fpr': [0.0, 4.97388709276e-05, 4.97388709276...  \n",
       "count 2grams MultinomialNB  {'fpr': [0.0, 0.000149216612783, 0.00014921661...  \n",
       "count 2grams SVM            {'fpr': [0.0, 9.94777418553e-05, 9.94777418553...  \n",
       "count 2grams Logistic       {'fpr': [0.0, 0.0, 0.0, 0.0, 0.0, 0.0, 0.0, 0....  \n",
       "count 1grams MultinomialNB  {'fpr': [0.0, 0.000149216612783, 0.00014921661...  "
      ]
     },
     "metadata": {},
     "output_type": "display_data"
    }
   ],
   "source": [
    "#OR load classifiers from pickle if already trained\n",
    "classifier_results_s33 = pickle.load( open( \"data/trained_classifiers.p\", \"rb\" ) )\n",
    "display(classifier_results_s33)\n"
   ]
  },
  {
   "cell_type": "markdown",
   "metadata": {},
   "source": [
    "# Step5\n",
    "Visualize results. We construct a function visualize_result that can present the performance of each row from classifier_results in a visually appealing way using tables and graphs"
   ]
  },
  {
   "cell_type": "code",
   "execution_count": 43,
   "metadata": {
    "collapsed": true
   },
   "outputs": [],
   "source": [
    "def plot_learning_curve(df_row,X,Y):\n",
    "    \n",
    "    estimator = df_row['model']\n",
    "    title = 'Learning curves for classifier ' + df_row.name\n",
    "    train_sizes = np.linspace(0.1,1.0,5)\n",
    "    cv = ShuffleSplit(n=len(X), n_iter=3, test_size=0.2, random_state=0)\n",
    "    \n",
    "\n",
    "    \n",
    "    plt.figure()\n",
    "    plt.title(title)\n",
    "    plt.xlabel(\"Training examples\")\n",
    "    plt.ylabel(\"Score\")\n",
    "    \n",
    "    print('learning curve in process...')\n",
    "    train_sizes, train_scores, test_scores = learning_curve(\n",
    "        estimator, X, Y, cv=cv, n_jobs=1, train_sizes=train_sizes, verbose=10)\n",
    "    print('Learning curve done!')\n",
    "    \n",
    "    train_scores_mean = np.mean(train_scores, axis=1)\n",
    "    train_scores_std = np.std(train_scores, axis=1)\n",
    "    test_scores_mean = np.mean(test_scores, axis=1)\n",
    "    test_scores_std = np.std(test_scores, axis=1)\n",
    "    plt.grid()\n",
    "\n",
    "    plt.fill_between(train_sizes, train_scores_mean - train_scores_std,\n",
    "                     train_scores_mean + train_scores_std, alpha=0.1,\n",
    "                     color=\"r\")\n",
    "    plt.fill_between(train_sizes, test_scores_mean - test_scores_std,\n",
    "                     test_scores_mean + test_scores_std, alpha=0.1, color=\"g\")\n",
    "    plt.plot(train_sizes, train_scores_mean, 'o-', color=\"r\",\n",
    "             label=\"Training score\")\n",
    "    plt.plot(train_sizes, test_scores_mean, 'o-', color=\"g\",\n",
    "             label=\"Cross-validation score\")\n",
    "\n",
    "    plt.legend(loc=\"best\")\n",
    "    plt.show()"
   ]
  },
  {
   "cell_type": "code",
   "execution_count": 45,
   "metadata": {},
   "outputs": [
    {
     "name": "stdout",
     "output_type": "stream",
     "text": [
      "learning curve in process...\n",
      "[learning_curve] Training set sizes: [ 8828 28692 48556 68420 88285]\n",
      "[CV]  ................................................................\n",
      "[CV] ................................. , score=0.988583, total=   1.4s\n",
      "[CV]  ................................................................\n"
     ]
    },
    {
     "name": "stderr",
     "output_type": "stream",
     "text": [
      "[Parallel(n_jobs=1)]: Done   1 out of   1 | elapsed:    1.4s remaining:    0.0s\n"
     ]
    },
    {
     "name": "stdout",
     "output_type": "stream",
     "text": [
      "[CV] ................................. , score=0.993657, total=  12.8s\n",
      "[CV]  ................................................................\n"
     ]
    },
    {
     "name": "stderr",
     "output_type": "stream",
     "text": [
      "[Parallel(n_jobs=1)]: Done   2 out of   2 | elapsed:   14.7s remaining:    0.0s\n"
     ]
    },
    {
     "name": "stdout",
     "output_type": "stream",
     "text": [
      "[CV] ................................. , score=0.994427, total=  45.0s\n",
      "[CV]  ................................................................\n"
     ]
    },
    {
     "name": "stderr",
     "output_type": "stream",
     "text": [
      "[Parallel(n_jobs=1)]: Done   3 out of   3 | elapsed:  1.0min remaining:    0.0s\n"
     ]
    },
    {
     "name": "stdout",
     "output_type": "stream",
     "text": [
      "[CV] ................................. , score=0.995243, total= 1.9min\n",
      "[CV]  ................................................................\n"
     ]
    },
    {
     "name": "stderr",
     "output_type": "stream",
     "text": [
      "[Parallel(n_jobs=1)]: Done   4 out of   4 | elapsed:  2.9min remaining:    0.0s\n"
     ]
    },
    {
     "name": "stdout",
     "output_type": "stream",
     "text": [
      "[CV] ................................. , score=0.995696, total= 3.9min\n",
      "[CV]  ................................................................\n"
     ]
    },
    {
     "name": "stderr",
     "output_type": "stream",
     "text": [
      "[Parallel(n_jobs=1)]: Done   5 out of   5 | elapsed:  6.9min remaining:    0.0s\n"
     ]
    },
    {
     "name": "stdout",
     "output_type": "stream",
     "text": [
      "[CV] ................................. , score=0.991211, total=   1.8s\n",
      "[CV]  ................................................................\n"
     ]
    },
    {
     "name": "stderr",
     "output_type": "stream",
     "text": [
      "[Parallel(n_jobs=1)]: Done   6 out of   6 | elapsed:  6.9min remaining:    0.0s\n"
     ]
    },
    {
     "name": "stdout",
     "output_type": "stream",
     "text": [
      "[CV] ................................. , score=0.994427, total=  16.2s\n",
      "[CV]  ................................................................\n"
     ]
    },
    {
     "name": "stderr",
     "output_type": "stream",
     "text": [
      "[Parallel(n_jobs=1)]: Done   7 out of   7 | elapsed:  7.2min remaining:    0.0s\n"
     ]
    },
    {
     "name": "stdout",
     "output_type": "stream",
     "text": [
      "[CV] ................................. , score=0.994699, total=  47.0s\n",
      "[CV]  ................................................................\n"
     ]
    },
    {
     "name": "stderr",
     "output_type": "stream",
     "text": [
      "[Parallel(n_jobs=1)]: Done   8 out of   8 | elapsed:  8.0min remaining:    0.0s\n"
     ]
    },
    {
     "name": "stdout",
     "output_type": "stream",
     "text": [
      "[CV] ................................. , score=0.995062, total= 1.8min\n",
      "[CV]  ................................................................\n"
     ]
    },
    {
     "name": "stderr",
     "output_type": "stream",
     "text": [
      "[Parallel(n_jobs=1)]: Done   9 out of   9 | elapsed:  9.8min remaining:    0.0s\n"
     ]
    },
    {
     "name": "stdout",
     "output_type": "stream",
     "text": [
      "[CV] ................................. , score=0.995243, total= 3.9min\n",
      "[CV]  ................................................................\n",
      "[CV] ................................. , score=0.991075, total=   1.3s\n",
      "[CV]  ................................................................\n",
      "[CV] ................................. , score=0.993748, total=  12.8s\n",
      "[CV]  ................................................................\n",
      "[CV] ................................. , score=0.994337, total=  42.0s\n",
      "[CV]  ................................................................\n",
      "[CV] ................................. , score=0.994971, total= 1.5min\n",
      "[CV]  ................................................................\n",
      "[CV] ................................. , score=0.995107, total= 3.9min\n",
      "Learning curve done!\n"
     ]
    },
    {
     "name": "stderr",
     "output_type": "stream",
     "text": [
      "[Parallel(n_jobs=1)]: Done  15 out of  15 | elapsed: 20.2min finished\n"
     ]
    },
    {
     "data": {
      "image/png": "[encoded data removed]",
      "text/plain": [
       "<matplotlib.figure.Figure at 0x1f54ed952b0>"
      ]
     },
     "metadata": {},
     "output_type": "display_data"
    },
    {
     "data": {
      "image/png": "[encoded data removed]",
      "text/plain": [
       "<matplotlib.figure.Figure at 0x1f54ea17438>"
      ]
     },
     "metadata": {},
     "output_type": "display_data"
    }
   ],
   "source": [
    "X = create_features(pd.DataFrame(payloads['payload'].copy()))\n",
    "Y = payloads['is_malicious']\n",
    "plot_learning_curve(classifier_results.iloc[0],X,Y)"
   ]
  },
  {
   "cell_type": "code",
   "execution_count": 72,
   "metadata": {
    "collapsed": true
   },
   "outputs": [],
   "source": [
    "def visualize_result(df_row):\n",
    "    '''Visualizes the results of a classifier\n",
    "    \n",
    "    input - df_row: a dataframe row with columns: ['accuracy','sensitivity','specificity','auc','conf_matrix','params','roc']\n",
    "    '''\n",
    "    \n",
    "    print('Performance for classifier ' + str(df_row.name) + ' with parameters: ' + str(df_row['params']))\n",
    "    print('Accuracy: \\t' + str(df_row['accuracy']))\n",
    "    print('Sensitivity: \\t' + str(df_row['sensitivity']))\n",
    "    print('Specificity: \\t' + str(df_row['specificity']))\n",
    "    print('AUC: \\t' + str(df_row['auc']))\n",
    "    \n",
    "    f, (ax1, ax2) = plt.subplots(1,2)\n",
    "    f.set_figheight(8)\n",
    "    f.set_figwidth(15)\n",
    "    \n",
    "    #Subplot 1, ROC curve\n",
    "    ax1.plot(df_row['roc']['fpr'], df_row['roc']['tpr'])\n",
    "    ax1.set_xlim([0, 1])\n",
    "    ax1.set_ylim([0, 1.0])\n",
    "    ax1.set_title('ROC curve for payload classifier')\n",
    "    ax1.set_xlabel('False Positive Rate (1 - Specificity)')\n",
    "    ax1.set_ylabel('True Positive Rate (Sensitivity)')\n",
    "    ax1.grid(True)\n",
    "    \n",
    "    #subplot 2, ROC curve zoomed\n",
    "    ax2.plot(df_row['roc']['fpr'], df_row['roc']['tpr'])\n",
    "    ax2.set_xlim([0, 0.6])\n",
    "    ax2.set_ylim([0.8, 1.0])\n",
    "    ax2.set_title('ROC curve for payload classifier (Zoomed)')\n",
    "    ax2.set_xlabel('False Positive Rate (1 - Specificity)')\n",
    "    ax2.set_ylabel('True Positive Rate (Sensitivity)')\n",
    "    ax2.grid(True)\n",
    "    plt.show()\n",
    "    \n",
    "    confusion_table = pd.DataFrame(df_row['conf_matrix'], index=['True class = 0','True class = 1'], columns=['Predicted class = 0','Predicted class = 1'])\n",
    "    print('Confusion matrix:')\n",
    "    display(confusion_table)"
   ]
  },
  {
   "cell_type": "markdown",
   "metadata": {},
   "source": [
    "### Result Support Vectore Machine"
   ]
  },
  {
   "cell_type": "code",
   "execution_count": 75,
   "metadata": {},
   "outputs": [
    {
     "name": "stdout",
     "output_type": "stream",
     "text": [
      "Performance for classifier svm with parameters: {'clf__kernel': 'rbf', 'clf__C': 10, 'vect__min_df': 10}\n",
      "Accuracy: \t0.981333333333\n",
      "Sensitivity: \t0.798548094374\n",
      "Specificity: \t0.999816480088\n",
      "AUC: \t0.992037367452\n"
     ]
    },
    {
     "data": {
      "image/png": "[encoded data removed]",
      "text/plain": [
       "<matplotlib.figure.Figure at 0x7fa7714682e8>"
      ]
     },
     "metadata": {},
     "output_type": "display_data"
    },
    {
     "name": "stdout",
     "output_type": "stream",
     "text": [
      "Confusion matrix:\n"
     ]
    },
    {
     "data": {
      "text/html": [
       "<div>\n",
       "<table border=\"1\" class=\"dataframe\">\n",
       "  <thead>\n",
       "    <tr style=\"text-align: right;\">\n",
       "      <th></th>\n",
       "      <th>Predicted class = 0</th>\n",
       "      <th>Predicted class = 1</th>\n",
       "    </tr>\n",
       "  </thead>\n",
       "  <tbody>\n",
       "    <tr>\n",
       "      <th>True class = 0</th>\n",
       "      <td>5448</td>\n",
       "      <td>1</td>\n",
       "    </tr>\n",
       "    <tr>\n",
       "      <th>True class = 1</th>\n",
       "      <td>111</td>\n",
       "      <td>440</td>\n",
       "    </tr>\n",
       "  </tbody>\n",
       "</table>\n",
       "</div>"
      ],
      "text/plain": [
       "                Predicted class = 0  Predicted class = 1\n",
       "True class = 0                 5448                    1\n",
       "True class = 1                  111                  440"
      ]
     },
     "metadata": {},
     "output_type": "display_data"
    }
   ],
   "source": [
    "visualize_result(classifier_results.iloc[1])"
   ]
  },
  {
   "cell_type": "markdown",
   "metadata": {},
   "source": [
    "# (Step6)\n",
    "we can display which types of queries the classifiers failed to classify. These are interesting to examine for further work on how to improve the classifier"
   ]
  },
  {
   "cell_type": "code",
   "execution_count": 38,
   "metadata": {},
   "outputs": [
    {
     "data": {
      "text/plain": [
       "index\n",
       "28660    dojo.io.script.jsonp_dojoIoScript60693._jsonpC...\n",
       "17914                                      127.0.0.1 | id|\n",
       "Name: payload, dtype: object"
      ]
     },
     "metadata": {},
     "output_type": "display_data"
    }
   ],
   "source": [
    "pipe = Pipeline([('vect', vectorizer), ('clf',LogisticRegression(C=10))])\n",
    "X_train, X_test, Y_train, Y_test = train_test_split(X, Y, test_size=0.2, random_state=42)\n",
    "\n",
    "    \n",
    "#perform a grid search for the best parameters on the training data.\n",
    "#Cross validation is made to select the parameters, so the training data is actually split into\n",
    "#a new train data set and a validation data set, K number of times\n",
    "cv = ShuffleSplit(n=len(X_train), n_iter=1, test_size=0.2, random_state=0) #DEBUG: n_iter=10\n",
    "#cv = KFold(n=len(X), n_folds=10)\n",
    "random_grid_search = RandomizedSearchCV(\n",
    "    pipe, \n",
    "    param_distributions={\n",
    "        'clf__C':[10]\n",
    "    },\n",
    "    cv=cv, \n",
    "    scoring='roc_auc', \n",
    "    n_iter=1, \n",
    "    random_state=5,\n",
    "    refit=True\n",
    ")\n",
    "random_grid_search.fit(X_train, Y_train)\n",
    "\n",
    "#Evaluate the best model on the test data\n",
    "Y_test_predicted = random_grid_search.best_estimator_.predict(X_test)\n"
   ]
  },
  {
   "cell_type": "code",
   "execution_count": 45,
   "metadata": {
    "scrolled": false
   },
   "outputs": [
    {
     "name": "stdout",
     "output_type": "stream",
     "text": [
      "False positives\n",
      "index\n",
      "28660    dojo.io.script.jsonp_dojoIoScript60693._jsonpCallback\n",
      "17914                                          127.0.0.1 | id|\n",
      "Name: payload, dtype: object\n",
      "False negatives\n",
      "index\n",
      "8224                                                                                                                                                    '<'s'v'g' o'n'l'o'a'd'='a'l'e'r't'('7')' '>'\n",
      "250                                                                                                                                                                b'<? popen($_REQUEST[\"c4\"]); ?> '\n",
      "9145                                                                                                                                                                       > XSS | Replacive Fuzzers\n",
      "10000                                                                                                                                                                                           ;id;\n",
      "9817                                                                                                                                                                                     &i=WmYmMm28\n",
      "27166                                                                                                                                                   'create user name identified by 'pass123' --\n",
      "24783                                                                                                                                                         <!--#config timefmt=\"A %B %d %Y %r\"-->\n",
      "22368                                                                                                                                                                                 b'123+1+5-5-1'\n",
      "22836                                                                                            b'<x repeat=\"template\" repeat-start=\"999999\">0<y repeat=\"template\" repeat-start=\"999999\">1</y></x>'\n",
      "4745                                                                                                                                                                                        Data URl\n",
      "6120                                                                                                                                                                  '><object/data=//goo.gl/nlX0P>\n",
      "10145                                                                                                                                                                                   'aaa'<>'bbb'\n",
      "14920                                                                                                                                                                                            %3C\n",
      "29705                                                                                                                                                                                    <plaintext>\n",
      "2951                                                                                                               http://raw.githubusercontent.com/fuzzdb-project/fuzzdb/master/attack/xss/test.xxe\n",
      "6405                                                                                                                                                                         %2e%2e%2f%2e%2e%2ffile'\n",
      "7653       %3Cs%26%2399%3B%26%23114%3Bi%26%23112%3Bt%20s%26%23114%3B%26%2399%3B%3Dht%26%23116%3Bp%3A%2F%2Fx%26%23116%3Bxs%26%2399%3B.cx%2Fxss%2Ejs%3E%3C%2Fs%26%2399%3B%26%23114%3Bi%26%23112%3Bt%3E\n",
      "7031                                                                                                                                                               /%2e%2e%5c%2e%2e%5c%2e%2e%5cfile'\n",
      "1050                                                                                                                                                                                           &p=37\n",
      "11332                                                                                                                                 Redirect 302 /a.jpg http://victimsite.com/admin.asp&deleteuser\n",
      "19084                                                                                                                                                                        ' if(2=2,1,SLEEP(5))--+\n",
      "3452                                                                                                                                                                                        admin\"/*\n",
      "1175                                                                                                                                                                                           <%%%>\n",
      "14686                                                                                                                                                                         b'123K29yKycxJz0nMQ=='\n",
      "9793                                                                                                                                                                                    <x o%6Exxx=1\n",
      "14118    &action=install&name=Offline%20Mail&message=Hi,%20Reddit&icon_src=http%3A%2F%2Fmail.google.com%2Fmail%2Fimages%2F2%2Fmail_icon_48.png&return=https%3A%2F%2Fmail.google.com%2Fmail%2F%23lsci\n",
      "25462                                                                                                                                                           <!--#include file=?UUUUUUUU...UU?-->\n",
      "21118                                                                                                                                            < s c r i p t > p r o m p t ( 1 ) < / s c r i p t >\n",
      "8820                                                                                                                                                                                  1'OR'121'='121\n",
      "12363                                                                                                                                                                       & ping -i 30 127.0.0.1 &\n",
      "6242                                                                                                                                                                String.fromCharCode(0xffff+0x3d)\n",
      "7840                                                                                                                                                                                          admin'\n",
      "16861                                                                                                                                                                                    \"onblur<='`\n",
      "25533                                                                                                                                                                                    b'exec(@s)'\n",
      "24424                                                                                                                                                                                         %2A%7C\n",
      "7475                                                                                                                                    eval((_=!0+(()=>0)+!1)[10]+_[11]+_[3]+_[1]+_[0]+_[4]+1+_[5])\n",
      "Name: payload, dtype: object\n"
     ]
    }
   ],
   "source": [
    "#Payloads classified incorrectly\n",
    "pd.options.display.max_colwidth = 200\n",
    "print('False positives')\n",
    "print(X_test[(Y_test == 0) & (Y_test_predicted == 1)])\n",
    "print('False negatives')\n",
    "print(X_test[(Y_test == 1) & (Y_test_predicted == 0)])"
   ]
  }
 ],
 "metadata": {
  "kernelspec": {
   "display_name": "Python 3",
   "language": "python",
   "name": "python3"
  },
  "language_info": {
   "codemirror_mode": {
    "name": "ipython",
    "version": 3
   },
   "file_extension": ".py",
   "mimetype": "text/x-python",
   "name": "python",
   "nbconvert_exporter": "python",
   "pygments_lexer": "ipython3",
   "version": "3.5.3"
  }
 },
 "nbformat": 4,
 "nbformat_minor": 2
}
